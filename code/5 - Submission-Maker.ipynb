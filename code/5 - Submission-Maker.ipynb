{
 "cells": [
  {
   "cell_type": "markdown",
   "metadata": {},
   "source": [
    "# SUBMISSION MAKER JUST FEATURES"
   ]
  },
  {
   "cell_type": "code",
   "execution_count": 1,
   "metadata": {},
   "outputs": [],
   "source": [
    "import pandas as pd\n",
    "import numpy as np\n",
    "import matplotlib.pyplot as plt\n",
    "import seaborn as sns\n",
    "\n",
    "from sklearn.linear_model import LinearRegression\n",
    "from sklearn.model_selection import train_test_split\n",
    "from sklearn.preprocessing import StandardScaler\n",
    "from sklearn import metrics"
   ]
  },
  {
   "cell_type": "code",
   "execution_count": 2,
   "metadata": {},
   "outputs": [],
   "source": [
    "pd.set_option('display.max_columns', None)\n",
    "pd.set_option('display.max_rows', None)"
   ]
  },
  {
   "cell_type": "code",
   "execution_count": 4,
   "metadata": {},
   "outputs": [
    {
     "data": {
      "text/plain": [
       "'N:\\\\Documents\\\\General-Assembly\\\\dsi-cc13\\\\projects\\\\project_2\\\\deliverables\\\\code'"
      ]
     },
     "execution_count": 4,
     "metadata": {},
     "output_type": "execute_result"
    }
   ],
   "source": [
    "pwd"
   ]
  },
  {
   "cell_type": "code",
   "execution_count": 9,
   "metadata": {},
   "outputs": [],
   "source": [
    "# Import CSV\n",
    "train =  pd.read_csv('../data/clean-train-engineered.csv')\n",
    "test = pd.read_csv('../data/clean-test-engineered.csv')"
   ]
  },
  {
   "cell_type": "markdown",
   "metadata": {},
   "source": [
    "# FEATURES1"
   ]
  },
  {
   "cell_type": "code",
   "execution_count": 10,
   "metadata": {},
   "outputs": [
    {
     "data": {
      "text/plain": [
       "['ms_subclass',\n",
       " 'neighborhood',\n",
       " 'bldg_type',\n",
       " 'house_style',\n",
       " 'overall_cond',\n",
       " 'year_built',\n",
       " 'heating_qc',\n",
       " 'central_air',\n",
       " 'electrical',\n",
       " 'full_bath',\n",
       " 'half_bath',\n",
       " 'bedroom_abvgr',\n",
       " 'kitchen_qual',\n",
       " 'totrms_abvgrd',\n",
       " 'functional',\n",
       " 'fireplaces',\n",
       " 'garage_cars',\n",
       " 'garage_qual',\n",
       " 'garage_cond',\n",
       " 'mo_sold',\n",
       " 'yr_sold',\n",
       " 'sale_type']"
      ]
     },
     "execution_count": 10,
     "metadata": {},
     "output_type": "execute_result"
    }
   ],
   "source": [
    "# Features\n",
    "features1 = ['ms_subclass',\n",
    "\n",
    "  'neighborhood',\n",
    "  'bldg_type',\n",
    "  'house_style',\n",
    "  'overall_cond',\n",
    "  'year_built',\n",
    "\n",
    "  'heating_qc',\n",
    "  'central_air',\n",
    "  'electrical',\n",
    "  'full_bath',\n",
    "  'half_bath',\n",
    "  'bedroom_abvgr',\n",
    "  'kitchen_qual',\n",
    "  'totrms_abvgrd',\n",
    "  'functional',\n",
    "  'fireplaces',\n",
    "  'garage_cars',\n",
    "  'garage_qual',\n",
    "  'garage_cond',\n",
    "  'mo_sold',\n",
    "  'yr_sold',\n",
    "  'sale_type']\n",
    "features1"
   ]
  },
  {
   "cell_type": "code",
   "execution_count": 11,
   "metadata": {},
   "outputs": [
    {
     "data": {
      "text/plain": [
       "['neighborhood',\n",
       " 'bldg_type',\n",
       " 'house_style',\n",
       " 'heating_qc',\n",
       " 'central_air',\n",
       " 'electrical',\n",
       " 'kitchen_qual',\n",
       " 'functional',\n",
       " 'garage_qual',\n",
       " 'garage_cond',\n",
       " 'sale_type']"
      ]
     },
     "execution_count": 11,
     "metadata": {},
     "output_type": "execute_result"
    }
   ],
   "source": [
    "dummy_columns1 = [\n",
    "                'neighborhood',\n",
    "                'bldg_type',\n",
    "                'house_style',\n",
    "\n",
    "                'heating_qc',\n",
    "                'central_air',\n",
    "                'electrical',\n",
    "                'kitchen_qual',\n",
    "                'functional',\n",
    "                'garage_qual',\n",
    "                'garage_cond',\n",
    "                'sale_type']\n",
    "dummy_columns1"
   ]
  },
  {
   "cell_type": "code",
   "execution_count": 12,
   "metadata": {},
   "outputs": [],
   "source": [
    "# Create X\n",
    "\n",
    "# Train X set\n",
    "X_train = train[features1]\n",
    "\n",
    "# Test X set\n",
    "X_test = test[features1]\n",
    "\n",
    "# Create y_train\n",
    "y_train = train['saleprice']"
   ]
  },
  {
   "cell_type": "code",
   "execution_count": 13,
   "metadata": {},
   "outputs": [
    {
     "name": "stderr",
     "output_type": "stream",
     "text": [
      "C:\\Users\\ncesm\\anaconda3\\envs\\dsi\\lib\\site-packages\\pandas\\core\\frame.py:4147: SettingWithCopyWarning: \n",
      "A value is trying to be set on a copy of a slice from a DataFrame\n",
      "\n",
      "See the caveats in the documentation: https://pandas.pydata.org/pandas-docs/stable/user_guide/indexing.html#returning-a-view-versus-a-copy\n",
      "  return super().fillna(\n"
     ]
    }
   ],
   "source": [
    "# Fill any nulls with 0 \n",
    "X_train.fillna(0, inplace=True)\n",
    "X_test.fillna(0, inplace=True)"
   ]
  },
  {
   "cell_type": "code",
   "execution_count": 14,
   "metadata": {},
   "outputs": [],
   "source": [
    "# Make dummies / Feature engineering\n",
    "X_train = pd.get_dummies(data=X_train, columns=dummy_columns1)\n",
    "X_test = pd.get_dummies(data=X_test, columns=dummy_columns1)"
   ]
  },
  {
   "cell_type": "code",
   "execution_count": 17,
   "metadata": {},
   "outputs": [],
   "source": [
    "# Set up linear regression\n",
    "lr1 = LinearRegression()"
   ]
  },
  {
   "cell_type": "code",
   "execution_count": 18,
   "metadata": {},
   "outputs": [
    {
     "data": {
      "text/plain": [
       "LinearRegression()"
      ]
     },
     "execution_count": 18,
     "metadata": {},
     "output_type": "execute_result"
    }
   ],
   "source": [
    "# fit the model\n",
    "lr1.fit(X_train, y_train)"
   ]
  },
  {
   "cell_type": "code",
   "execution_count": 20,
   "metadata": {},
   "outputs": [],
   "source": [
    "# now find y_pred or y_test\n",
    "y_test = lr1.predict(X_test)"
   ]
  },
  {
   "cell_type": "code",
   "execution_count": 21,
   "metadata": {},
   "outputs": [
    {
     "data": {
      "text/plain": [
       "array([ 92402.75, 142196.5 , 209279.  , 111483.75, 184251.  ,  93858.  ,\n",
       "       110579.25, 152668.75, 158052.25, 203492.  ])"
      ]
     },
     "execution_count": 21,
     "metadata": {},
     "output_type": "execute_result"
    }
   ],
   "source": [
    "y_test[:10]"
   ]
  },
  {
   "cell_type": "code",
   "execution_count": 22,
   "metadata": {},
   "outputs": [],
   "source": [
    "# now create a column in the test dataframe\n",
    "test['SalePrice'] = y_test"
   ]
  },
  {
   "cell_type": "code",
   "execution_count": 24,
   "metadata": {},
   "outputs": [
    {
     "data": {
      "text/html": [
       "<div>\n",
       "<style scoped>\n",
       "    .dataframe tbody tr th:only-of-type {\n",
       "        vertical-align: middle;\n",
       "    }\n",
       "\n",
       "    .dataframe tbody tr th {\n",
       "        vertical-align: top;\n",
       "    }\n",
       "\n",
       "    .dataframe thead th {\n",
       "        text-align: right;\n",
       "    }\n",
       "</style>\n",
       "<table border=\"1\" class=\"dataframe\">\n",
       "  <thead>\n",
       "    <tr style=\"text-align: right;\">\n",
       "      <th></th>\n",
       "      <th>id</th>\n",
       "      <th>SalePrice</th>\n",
       "    </tr>\n",
       "  </thead>\n",
       "  <tbody>\n",
       "    <tr>\n",
       "      <th>0</th>\n",
       "      <td>2658</td>\n",
       "      <td>92402.75</td>\n",
       "    </tr>\n",
       "    <tr>\n",
       "      <th>1</th>\n",
       "      <td>2718</td>\n",
       "      <td>142196.50</td>\n",
       "    </tr>\n",
       "    <tr>\n",
       "      <th>2</th>\n",
       "      <td>2414</td>\n",
       "      <td>209279.00</td>\n",
       "    </tr>\n",
       "    <tr>\n",
       "      <th>3</th>\n",
       "      <td>1989</td>\n",
       "      <td>111483.75</td>\n",
       "    </tr>\n",
       "    <tr>\n",
       "      <th>4</th>\n",
       "      <td>625</td>\n",
       "      <td>184251.00</td>\n",
       "    </tr>\n",
       "  </tbody>\n",
       "</table>\n",
       "</div>"
      ],
      "text/plain": [
       "     id  SalePrice\n",
       "0  2658   92402.75\n",
       "1  2718  142196.50\n",
       "2  2414  209279.00\n",
       "3  1989  111483.75\n",
       "4   625  184251.00"
      ]
     },
     "execution_count": 24,
     "metadata": {},
     "output_type": "execute_result"
    }
   ],
   "source": [
    "submissionf1 = test[['id','SalePrice']]\n",
    "submissionf1.head()"
   ]
  },
  {
   "cell_type": "code",
   "execution_count": 42,
   "metadata": {},
   "outputs": [
    {
     "name": "stderr",
     "output_type": "stream",
     "text": [
      "C:\\Users\\ncesm\\anaconda3\\envs\\dsi\\lib\\site-packages\\pandas\\core\\frame.py:4125: SettingWithCopyWarning: \n",
      "A value is trying to be set on a copy of a slice from a DataFrame\n",
      "\n",
      "See the caveats in the documentation: https://pandas.pydata.org/pandas-docs/stable/user_guide/indexing.html#returning-a-view-versus-a-copy\n",
      "  return super().rename(\n"
     ]
    },
    {
     "data": {
      "text/plain": [
       "Index(['Id', 'SalePrice'], dtype='object')"
      ]
     },
     "execution_count": 42,
     "metadata": {},
     "output_type": "execute_result"
    }
   ],
   "source": [
    "# Rename columns if they are anal about uppercase\n",
    "submissionf1.rename(columns={'id':'Id'},inplace=True)\n",
    "submissionf1.columns"
   ]
  },
  {
   "cell_type": "code",
   "execution_count": 25,
   "metadata": {},
   "outputs": [],
   "source": [
    "# SAVE TO CSV \n",
    "submissionf1.to_csv('../submissions/features1.csv', index=False)"
   ]
  },
  {
   "cell_type": "markdown",
   "metadata": {},
   "source": [
    "# FEATURES 2"
   ]
  },
  {
   "cell_type": "code",
   "execution_count": 48,
   "metadata": {},
   "outputs": [],
   "source": [
    "features2 = ['ms_subclass',\n",
    "  'street',\n",
    "  'alley',\n",
    "  'neighborhood',\n",
    "  'bldg_type',\n",
    "  'house_style',\n",
    "  'overall_qual',\n",
    "  'overall_cond',\n",
    "  'year_built',\n",
    "  'bsmt_qual',\n",
    "  'bsmt_cond',\n",
    "  'heating_qc',\n",
    "  'central_air',\n",
    "  'electrical',\n",
    "  'full_bath',\n",
    "  'half_bath',\n",
    "  'bedroom_abvgr',\n",
    "  'kitchen_qual',\n",
    "  'totrms_abvgrd',\n",
    "  'functional',\n",
    "  'fireplaces',\n",
    "  'garage_cars',\n",
    "  'garage_qual',\n",
    "  'garage_cond',\n",
    "  'mo_sold',\n",
    "  'yr_sold',\n",
    "  'sale_type']"
   ]
  },
  {
   "cell_type": "code",
   "execution_count": 49,
   "metadata": {},
   "outputs": [],
   "source": [
    "dummy_columns2 = ['street',\n",
    "                'alley',\n",
    "                'neighborhood',\n",
    "                'bldg_type',\n",
    "                'house_style',\n",
    "                'bsmt_qual',\n",
    "                'bsmt_cond',\n",
    "                'heating_qc',\n",
    "                'central_air',\n",
    "                'electrical',\n",
    "                'kitchen_qual',\n",
    "                'functional',\n",
    "                'garage_qual',\n",
    "                'garage_cond',\n",
    "                'sale_type']"
   ]
  },
  {
   "cell_type": "code",
   "execution_count": 50,
   "metadata": {},
   "outputs": [],
   "source": [
    "# Create X\n",
    "\n",
    "# Train X set\n",
    "X_train = train[features2]\n",
    "\n",
    "# Test X set\n",
    "X_test = test[features2]\n",
    "\n",
    "# Create y_train\n",
    "y_train = train['saleprice']"
   ]
  },
  {
   "cell_type": "code",
   "execution_count": 51,
   "metadata": {},
   "outputs": [
    {
     "name": "stderr",
     "output_type": "stream",
     "text": [
      "C:\\Users\\ncesm\\anaconda3\\envs\\dsi\\lib\\site-packages\\pandas\\core\\frame.py:4147: SettingWithCopyWarning: \n",
      "A value is trying to be set on a copy of a slice from a DataFrame\n",
      "\n",
      "See the caveats in the documentation: https://pandas.pydata.org/pandas-docs/stable/user_guide/indexing.html#returning-a-view-versus-a-copy\n",
      "  return super().fillna(\n"
     ]
    }
   ],
   "source": [
    "# Fill any nulls with 0\n",
    "X_train.fillna(0, inplace=True)\n",
    "X_test.fillna(0, inplace=True)"
   ]
  },
  {
   "cell_type": "code",
   "execution_count": 52,
   "metadata": {},
   "outputs": [],
   "source": [
    "# Make dummies\n",
    "X_train = pd.get_dummies(data=X_train, columns=dummy_columns2)\n",
    "X_test = pd.get_dummies(data=X_test, columns=dummy_columns2)"
   ]
  },
  {
   "cell_type": "code",
   "execution_count": 53,
   "metadata": {},
   "outputs": [
    {
     "name": "stdout",
     "output_type": "stream",
     "text": [
      "These columns dont exist in test dataframe\n",
      "SPLIT\n",
      "These columns dont exist in train dataframe\n"
     ]
    }
   ],
   "source": [
    "# Check which columns are not in the other \n",
    "print('These columns dont exist in test dataframe')\n",
    "for column in X_train.columns:\n",
    "    if column not in X_test.columns:\n",
    "        print('-',column)\n",
    "        \n",
    "print('SPLIT')\n",
    "print('These columns dont exist in train dataframe')\n",
    "for column in X_test.columns:\n",
    "    if column not in X_train.columns:\n",
    "        print('-',column)"
   ]
  },
  {
   "cell_type": "code",
   "execution_count": 54,
   "metadata": {},
   "outputs": [],
   "source": [
    "# Set up linear regression\n",
    "lr2 = LinearRegression()"
   ]
  },
  {
   "cell_type": "code",
   "execution_count": 55,
   "metadata": {},
   "outputs": [
    {
     "data": {
      "text/plain": [
       "LinearRegression()"
      ]
     },
     "execution_count": 55,
     "metadata": {},
     "output_type": "execute_result"
    }
   ],
   "source": [
    "# fit the model\n",
    "lr2.fit(X_train, y_train)"
   ]
  },
  {
   "cell_type": "code",
   "execution_count": 56,
   "metadata": {},
   "outputs": [
    {
     "data": {
      "text/plain": [
       "array([101473.5, 149126. , 207967. , 112003.5, 190752. ,  86455.5,\n",
       "        94749. , 148037.5, 157979.5, 196447. ])"
      ]
     },
     "execution_count": 56,
     "metadata": {},
     "output_type": "execute_result"
    }
   ],
   "source": [
    "# now find y_pred or y_test\n",
    "y_test = lr2.predict(X_test)\n",
    "y_test[:10]"
   ]
  },
  {
   "cell_type": "code",
   "execution_count": 57,
   "metadata": {},
   "outputs": [],
   "source": [
    "test['SalePrice'] = y_test"
   ]
  },
  {
   "cell_type": "code",
   "execution_count": 58,
   "metadata": {},
   "outputs": [
    {
     "name": "stderr",
     "output_type": "stream",
     "text": [
      "C:\\Users\\ncesm\\anaconda3\\envs\\dsi\\lib\\site-packages\\pandas\\core\\frame.py:4125: SettingWithCopyWarning: \n",
      "A value is trying to be set on a copy of a slice from a DataFrame\n",
      "\n",
      "See the caveats in the documentation: https://pandas.pydata.org/pandas-docs/stable/user_guide/indexing.html#returning-a-view-versus-a-copy\n",
      "  return super().rename(\n"
     ]
    },
    {
     "data": {
      "text/plain": [
       "(Index(['Id', 'SalePrice'], dtype='object'),\n",
       "      Id  SalePrice\n",
       " 0  2658   101473.5\n",
       " 1  2718   149126.0\n",
       " 2  2414   207967.0\n",
       " 3  1989   112003.5\n",
       " 4   625   190752.0)"
      ]
     },
     "execution_count": 58,
     "metadata": {},
     "output_type": "execute_result"
    }
   ],
   "source": [
    "submissionf2 = test[['id','SalePrice']]\n",
    "submissionf2.rename(columns={'id':'Id'},inplace=True)\n",
    "submissionf2.columns, submissionf2.head()"
   ]
  },
  {
   "cell_type": "code",
   "execution_count": 59,
   "metadata": {},
   "outputs": [],
   "source": [
    "# SAVE TO CSV \n",
    "submissionf2.to_csv('../submissions/features2.csv', index=False)"
   ]
  },
  {
   "cell_type": "markdown",
   "metadata": {},
   "source": [
    "# FEATURES 3"
   ]
  },
  {
   "cell_type": "code",
   "execution_count": 60,
   "metadata": {},
   "outputs": [],
   "source": [
    "features3 = ['ms_subclass',\n",
    "  'street',\n",
    "  'alley',\n",
    "  'neighborhood',\n",
    "  'bldg_type',\n",
    "  'house_style',\n",
    "  'overall_qual',\n",
    "  'overall_cond',\n",
    "  'year_built',\n",
    "  'year_remod/add',\n",
    "  'bsmt_qual',\n",
    "  'bsmt_cond',\n",
    "  'total_bsmt_sf',\n",
    "  'heating_qc',\n",
    "  'central_air',\n",
    "  'electrical',\n",
    "  '1st_flr_sf',\n",
    "  'gr_liv_area',\n",
    "  'full_bath',\n",
    "  'half_bath',\n",
    "  'bedroom_abvgr',\n",
    "  'kitchen_qual',\n",
    "  'totrms_abvgrd',\n",
    "  'functional',\n",
    "  'fireplaces',\n",
    "  'garage_yr_blt',\n",
    "  'garage_cars',\n",
    "  'garage_area',\n",
    "  'garage_qual',\n",
    "  'garage_cond',\n",
    "  'mo_sold',\n",
    "  'yr_sold',\n",
    "  'sale_type']"
   ]
  },
  {
   "cell_type": "code",
   "execution_count": 61,
   "metadata": {},
   "outputs": [],
   "source": [
    "dummy_columns3 = ['street',\n",
    "                'alley',\n",
    "                'neighborhood',\n",
    "                'bldg_type',\n",
    "                'house_style',\n",
    "                'bsmt_qual',\n",
    "                'bsmt_cond',\n",
    "                'heating_qc',\n",
    "                'central_air',\n",
    "                'electrical',\n",
    "                'kitchen_qual',\n",
    "                'functional',\n",
    "                'garage_qual',\n",
    "                'garage_cond',\n",
    "                'sale_type']"
   ]
  },
  {
   "cell_type": "code",
   "execution_count": 62,
   "metadata": {},
   "outputs": [],
   "source": [
    "# Create X\n",
    "\n",
    "# Train X set\n",
    "X_train = train[features3]\n",
    "\n",
    "# Test X set\n",
    "X_test = test[features3]\n",
    "\n",
    "# Create y_train\n",
    "y_train = train['saleprice']"
   ]
  },
  {
   "cell_type": "code",
   "execution_count": 63,
   "metadata": {},
   "outputs": [
    {
     "name": "stderr",
     "output_type": "stream",
     "text": [
      "C:\\Users\\ncesm\\anaconda3\\envs\\dsi\\lib\\site-packages\\pandas\\core\\frame.py:4147: SettingWithCopyWarning: \n",
      "A value is trying to be set on a copy of a slice from a DataFrame\n",
      "\n",
      "See the caveats in the documentation: https://pandas.pydata.org/pandas-docs/stable/user_guide/indexing.html#returning-a-view-versus-a-copy\n",
      "  return super().fillna(\n"
     ]
    }
   ],
   "source": [
    "# Fill any nulls with 0\n",
    "X_train.fillna(0, inplace=True)\n",
    "X_test.fillna(0, inplace=True)"
   ]
  },
  {
   "cell_type": "code",
   "execution_count": 64,
   "metadata": {},
   "outputs": [],
   "source": [
    "# Make dummies\n",
    "X_train = pd.get_dummies(data=X_train, columns=dummy_columns3)\n",
    "X_test = pd.get_dummies(data=X_test, columns=dummy_columns3)"
   ]
  },
  {
   "cell_type": "code",
   "execution_count": 65,
   "metadata": {},
   "outputs": [
    {
     "name": "stdout",
     "output_type": "stream",
     "text": [
      "These columns dont exist in test dataframe\n",
      "SPLIT\n",
      "These columns dont exist in train dataframe\n"
     ]
    }
   ],
   "source": [
    "# Check which columns are not in the other \n",
    "print('These columns dont exist in test dataframe')\n",
    "for column in X_train.columns:\n",
    "    if column not in X_test.columns:\n",
    "        print('-',column)\n",
    "        \n",
    "print('SPLIT')\n",
    "print('These columns dont exist in train dataframe')\n",
    "for column in X_test.columns:\n",
    "    if column not in X_train.columns:\n",
    "        print('-',column)"
   ]
  },
  {
   "cell_type": "code",
   "execution_count": 66,
   "metadata": {},
   "outputs": [],
   "source": [
    "# Set up linear regression\n",
    "lr3 = LinearRegression()"
   ]
  },
  {
   "cell_type": "code",
   "execution_count": 67,
   "metadata": {},
   "outputs": [
    {
     "data": {
      "text/plain": [
       "LinearRegression()"
      ]
     },
     "execution_count": 67,
     "metadata": {},
     "output_type": "execute_result"
    }
   ],
   "source": [
    "# fit the model\n",
    "lr3.fit(X_train, y_train)"
   ]
  },
  {
   "cell_type": "code",
   "execution_count": 68,
   "metadata": {},
   "outputs": [
    {
     "data": {
      "text/plain": [
       "array([130742.74285065, 155240.62906242, 194878.22254024, 111301.48500582,\n",
       "       181903.69994358,  87650.04606166, 106540.62430881, 159855.81401406,\n",
       "       186881.39924018, 181144.73514562])"
      ]
     },
     "execution_count": 68,
     "metadata": {},
     "output_type": "execute_result"
    }
   ],
   "source": [
    "# now find y_pred or y_test\n",
    "y_test = lr3.predict(X_test)\n",
    "y_test[:10]"
   ]
  },
  {
   "cell_type": "code",
   "execution_count": 69,
   "metadata": {},
   "outputs": [],
   "source": [
    "test['SalePrice'] = y_test"
   ]
  },
  {
   "cell_type": "code",
   "execution_count": 70,
   "metadata": {},
   "outputs": [
    {
     "name": "stderr",
     "output_type": "stream",
     "text": [
      "C:\\Users\\ncesm\\anaconda3\\envs\\dsi\\lib\\site-packages\\pandas\\core\\frame.py:4125: SettingWithCopyWarning: \n",
      "A value is trying to be set on a copy of a slice from a DataFrame\n",
      "\n",
      "See the caveats in the documentation: https://pandas.pydata.org/pandas-docs/stable/user_guide/indexing.html#returning-a-view-versus-a-copy\n",
      "  return super().rename(\n"
     ]
    },
    {
     "data": {
      "text/plain": [
       "(Index(['Id', 'SalePrice'], dtype='object'),\n",
       "      Id      SalePrice\n",
       " 0  2658  130742.742851\n",
       " 1  2718  155240.629062\n",
       " 2  2414  194878.222540\n",
       " 3  1989  111301.485006\n",
       " 4   625  181903.699944)"
      ]
     },
     "execution_count": 70,
     "metadata": {},
     "output_type": "execute_result"
    }
   ],
   "source": [
    "submissionf3 = test[['id','SalePrice']]\n",
    "submissionf3.rename(columns={'id':'Id'},inplace=True)\n",
    "submissionf3.columns, submissionf3.head()"
   ]
  },
  {
   "cell_type": "code",
   "execution_count": 71,
   "metadata": {},
   "outputs": [],
   "source": [
    "# SAVE TO CSV \n",
    "submissionf3.to_csv('../submissions/features3.csv', index=False)"
   ]
  },
  {
   "cell_type": "markdown",
   "metadata": {},
   "source": [
    "# Features 1 but treat some features as categorical"
   ]
  },
  {
   "cell_type": "code",
   "execution_count": 72,
   "metadata": {},
   "outputs": [],
   "source": [
    "features1 = ['ms_subclass',\n",
    "\n",
    "  'neighborhood',\n",
    "  'bldg_type',\n",
    "  'house_style',\n",
    "  'overall_cond',\n",
    "  'year_built',\n",
    "\n",
    "  'heating_qc',\n",
    "  'central_air',\n",
    "  'electrical',\n",
    "  'full_bath',\n",
    "  'half_bath',\n",
    "  'bedroom_abvgr',\n",
    "  'kitchen_qual',\n",
    "  'totrms_abvgrd',\n",
    "  'functional',\n",
    "  'fireplaces',\n",
    "  'garage_cars',\n",
    "  'garage_qual',\n",
    "  'garage_cond',\n",
    "  'mo_sold',\n",
    "  'yr_sold',\n",
    "  'sale_type']"
   ]
  },
  {
   "cell_type": "code",
   "execution_count": 73,
   "metadata": {},
   "outputs": [],
   "source": [
    "dummy_columns1 = [\n",
    "                'neighborhood',\n",
    "                'bldg_type',\n",
    "                'house_style',\n",
    "                'overall_cond',\n",
    "                'heating_qc',\n",
    "                'central_air',\n",
    "                'electrical',\n",
    "                'kitchen_qual',\n",
    "                'functional',\n",
    "                'garage_qual',\n",
    "                'garage_cond',\n",
    "                'sale_type']"
   ]
  },
  {
   "cell_type": "code",
   "execution_count": 74,
   "metadata": {},
   "outputs": [],
   "source": [
    "# Create X\n",
    "\n",
    "# Train X set\n",
    "X_train = train[features1]\n",
    "\n",
    "# Test X set\n",
    "X_test = test[features1]\n",
    "\n",
    "# Create y_train\n",
    "y_train = train['saleprice']"
   ]
  },
  {
   "cell_type": "code",
   "execution_count": 75,
   "metadata": {},
   "outputs": [
    {
     "name": "stderr",
     "output_type": "stream",
     "text": [
      "C:\\Users\\ncesm\\anaconda3\\envs\\dsi\\lib\\site-packages\\pandas\\core\\frame.py:4147: SettingWithCopyWarning: \n",
      "A value is trying to be set on a copy of a slice from a DataFrame\n",
      "\n",
      "See the caveats in the documentation: https://pandas.pydata.org/pandas-docs/stable/user_guide/indexing.html#returning-a-view-versus-a-copy\n",
      "  return super().fillna(\n"
     ]
    }
   ],
   "source": [
    "# Fill any nulls with 0\n",
    "X_train.fillna(0, inplace=True)\n",
    "X_test.fillna(0, inplace=True)"
   ]
  },
  {
   "cell_type": "code",
   "execution_count": 76,
   "metadata": {},
   "outputs": [],
   "source": [
    "# Make dummies\n",
    "X_train = pd.get_dummies(data=X_train, columns=dummy_columns1)\n",
    "X_test = pd.get_dummies(data=X_test, columns=dummy_columns1)"
   ]
  },
  {
   "cell_type": "code",
   "execution_count": 77,
   "metadata": {},
   "outputs": [
    {
     "name": "stdout",
     "output_type": "stream",
     "text": [
      "These columns dont exist in test dataframe\n",
      "SPLIT\n",
      "These columns dont exist in train dataframe\n"
     ]
    }
   ],
   "source": [
    "# Check which columns are not in the other \n",
    "print('These columns dont exist in test dataframe')\n",
    "for column in X_train.columns:\n",
    "    if column not in X_test.columns:\n",
    "        print('-',column)\n",
    "        \n",
    "print('SPLIT')\n",
    "print('These columns dont exist in train dataframe')\n",
    "for column in X_test.columns:\n",
    "    if column not in X_train.columns:\n",
    "        print('-',column)"
   ]
  },
  {
   "cell_type": "code",
   "execution_count": 78,
   "metadata": {},
   "outputs": [
    {
     "data": {
      "text/plain": [
       "LinearRegression()"
      ]
     },
     "execution_count": 78,
     "metadata": {},
     "output_type": "execute_result"
    }
   ],
   "source": [
    "# Set up linear regression\n",
    "lr1d = LinearRegression()\n",
    "# fit it\n",
    "lr1d.fit(X_train, y_train)"
   ]
  },
  {
   "cell_type": "code",
   "execution_count": 79,
   "metadata": {},
   "outputs": [
    {
     "data": {
      "text/plain": [
       "array([106533.75, 138526.  , 209189.5 , 109592.  , 187616.5 ,  93044.  ,\n",
       "       107607.75, 149888.75, 157876.  , 200703.75])"
      ]
     },
     "execution_count": 79,
     "metadata": {},
     "output_type": "execute_result"
    }
   ],
   "source": [
    "# now find y_pred or y_test\n",
    "y_test = lr1d.predict(X_test)\n",
    "y_test[:10]"
   ]
  },
  {
   "cell_type": "code",
   "execution_count": 80,
   "metadata": {},
   "outputs": [],
   "source": [
    "test['SalePrice'] = y_test\n"
   ]
  },
  {
   "cell_type": "code",
   "execution_count": 81,
   "metadata": {},
   "outputs": [
    {
     "name": "stderr",
     "output_type": "stream",
     "text": [
      "C:\\Users\\ncesm\\anaconda3\\envs\\dsi\\lib\\site-packages\\pandas\\core\\frame.py:4125: SettingWithCopyWarning: \n",
      "A value is trying to be set on a copy of a slice from a DataFrame\n",
      "\n",
      "See the caveats in the documentation: https://pandas.pydata.org/pandas-docs/stable/user_guide/indexing.html#returning-a-view-versus-a-copy\n",
      "  return super().rename(\n"
     ]
    },
    {
     "data": {
      "text/plain": [
       "(Index(['Id', 'SalePrice'], dtype='object'),\n",
       "      Id  SalePrice\n",
       " 0  2658  106533.75\n",
       " 1  2718  138526.00\n",
       " 2  2414  209189.50\n",
       " 3  1989  109592.00\n",
       " 4   625  187616.50)"
      ]
     },
     "execution_count": 81,
     "metadata": {},
     "output_type": "execute_result"
    }
   ],
   "source": [
    "submissionf1d = test[['id','SalePrice']]\n",
    "submissionf1d.rename(columns={'id':'Id'},inplace=True)\n",
    "submissionf1d.columns, submissionf1d.head()"
   ]
  },
  {
   "cell_type": "code",
   "execution_count": 83,
   "metadata": {},
   "outputs": [],
   "source": [
    "# SAVE TO CSV \n",
    "submissionf1d.to_csv('../submissions/features1d.csv', index=False)"
   ]
  },
  {
   "cell_type": "markdown",
   "metadata": {},
   "source": [
    "# Features 4\n",
    "\n",
    "These features were ones that had a correlation of .5 or higher in relation to saleprice in the `train` set. This was to set a new benchmark and then rise in numbers from here."
   ]
  },
  {
   "cell_type": "code",
   "execution_count": 84,
   "metadata": {},
   "outputs": [],
   "source": [
    "features4 = ['overall_qual',\n",
    "  'year_built',\n",
    "  'year_remod/add',\n",
    "  'mas_vnr_area',\n",
    "  'total_bsmt_sf',\n",
    "  '1st_flr_sf',\n",
    "  'gr_liv_area',\n",
    "  'full_bath',\n",
    "  'garage_yr_blt',\n",
    "  'garage_cars',\n",
    "  'garage_area']"
   ]
  },
  {
   "cell_type": "code",
   "execution_count": 125,
   "metadata": {},
   "outputs": [],
   "source": [
    "X_train = train[features4]\n",
    "X_test = test[features4]\n",
    "y_train = train['saleprice']"
   ]
  },
  {
   "cell_type": "code",
   "execution_count": 126,
   "metadata": {},
   "outputs": [],
   "source": [
    "# https://pandas.pydata.org/pandas-docs/stable/reference/api/pandas.DataFrame.select_dtypes.html\n",
    "dummies_columns = list(clean_train[features4].select_dtypes(include='object'))"
   ]
  },
  {
   "cell_type": "code",
   "execution_count": 127,
   "metadata": {},
   "outputs": [],
   "source": [
    "# Make dummies\n",
    "X_train = pd.get_dummies(data=X_train, columns=dummies_columns)\n",
    "X_test = pd.get_dummies(data=X_test, columns=dummies_columns)"
   ]
  },
  {
   "cell_type": "code",
   "execution_count": 128,
   "metadata": {},
   "outputs": [],
   "source": [
    "# Fill any nulls with 0\n",
    "X_train.fillna(0, inplace=True)\n",
    "X_test.fillna(0, inplace=True)"
   ]
  },
  {
   "cell_type": "markdown",
   "metadata": {},
   "source": [
    "#### Instantiate and fit to LinearRegression"
   ]
  },
  {
   "cell_type": "code",
   "execution_count": 129,
   "metadata": {},
   "outputs": [
    {
     "data": {
      "text/plain": [
       "LinearRegression()"
      ]
     },
     "execution_count": 129,
     "metadata": {},
     "output_type": "execute_result"
    }
   ],
   "source": [
    "lr4 = LinearRegression()\n",
    "lr4.fit(X_train,y_train)"
   ]
  },
  {
   "cell_type": "code",
   "execution_count": 130,
   "metadata": {},
   "outputs": [
    {
     "data": {
      "text/plain": [
       "array([155633.91075769, 204322.08607043, 191441.68615107, 132685.74768135,\n",
       "       186404.21807137,  85994.99719214, 111224.7299467 , 141870.8884628 ,\n",
       "       210439.7166696 , 166247.98950903])"
      ]
     },
     "execution_count": 130,
     "metadata": {},
     "output_type": "execute_result"
    }
   ],
   "source": [
    "# now find y_pred or y_test\n",
    "y_test = lr4.predict(X_test)\n",
    "y_test[:10]"
   ]
  },
  {
   "cell_type": "code",
   "execution_count": 131,
   "metadata": {},
   "outputs": [],
   "source": [
    "test['SalePrice'] = y_test\n"
   ]
  },
  {
   "cell_type": "code",
   "execution_count": 132,
   "metadata": {},
   "outputs": [
    {
     "name": "stderr",
     "output_type": "stream",
     "text": [
      "C:\\Users\\ncesm\\anaconda3\\envs\\dsi\\lib\\site-packages\\pandas\\core\\frame.py:4125: SettingWithCopyWarning: \n",
      "A value is trying to be set on a copy of a slice from a DataFrame\n",
      "\n",
      "See the caveats in the documentation: https://pandas.pydata.org/pandas-docs/stable/user_guide/indexing.html#returning-a-view-versus-a-copy\n",
      "  return super().rename(\n"
     ]
    },
    {
     "data": {
      "text/plain": [
       "(Index(['Id', 'SalePrice'], dtype='object'),\n",
       "      Id      SalePrice\n",
       " 0  2658  155633.910758\n",
       " 1  2718  204322.086070\n",
       " 2  2414  191441.686151\n",
       " 3  1989  132685.747681\n",
       " 4   625  186404.218071)"
      ]
     },
     "execution_count": 132,
     "metadata": {},
     "output_type": "execute_result"
    }
   ],
   "source": [
    "submissionf4 = test[['id','SalePrice']]\n",
    "submissionf4.rename(columns={'id':'Id'},inplace=True)\n",
    "submissionf4.columns, submissionf4.head()"
   ]
  },
  {
   "cell_type": "code",
   "execution_count": 94,
   "metadata": {},
   "outputs": [],
   "source": [
    "# SAVE TO CSV \n",
    "submissionf4.to_csv('../submissions/features4.csv', index=False)"
   ]
  },
  {
   "cell_type": "code",
   "execution_count": null,
   "metadata": {},
   "outputs": [],
   "source": []
  },
  {
   "cell_type": "markdown",
   "metadata": {},
   "source": [
    "# SUBMISSION MAKER FEATURES AND LOG\n",
    "\n",
    "---\n",
    "\n",
    "# Features1"
   ]
  },
  {
   "cell_type": "code",
   "execution_count": 95,
   "metadata": {},
   "outputs": [],
   "source": [
    "# Create X\n",
    "\n",
    "# Train X set\n",
    "X_train = train[features1]\n",
    "\n",
    "# Test X set\n",
    "X_test = test[features1]\n",
    "\n",
    "# Create y_train\n",
    "y_train = train['saleprice'].map(np.log)"
   ]
  },
  {
   "cell_type": "code",
   "execution_count": 96,
   "metadata": {},
   "outputs": [
    {
     "name": "stderr",
     "output_type": "stream",
     "text": [
      "C:\\Users\\ncesm\\anaconda3\\envs\\dsi\\lib\\site-packages\\pandas\\core\\frame.py:4147: SettingWithCopyWarning: \n",
      "A value is trying to be set on a copy of a slice from a DataFrame\n",
      "\n",
      "See the caveats in the documentation: https://pandas.pydata.org/pandas-docs/stable/user_guide/indexing.html#returning-a-view-versus-a-copy\n",
      "  return super().fillna(\n"
     ]
    }
   ],
   "source": [
    "# Fill any nulls with 0\n",
    "X_train.fillna(0, inplace=True)\n",
    "X_test.fillna(0, inplace=True)"
   ]
  },
  {
   "cell_type": "code",
   "execution_count": 97,
   "metadata": {},
   "outputs": [],
   "source": [
    "# Make dummies\n",
    "X_train = pd.get_dummies(data=X_train, columns=dummy_columns1)\n",
    "X_test = pd.get_dummies(data=X_test, columns=dummy_columns1)"
   ]
  },
  {
   "cell_type": "code",
   "execution_count": 98,
   "metadata": {},
   "outputs": [
    {
     "name": "stdout",
     "output_type": "stream",
     "text": [
      "SPLIT\n"
     ]
    }
   ],
   "source": [
    "# Check which columns are not in the other \n",
    "for column in X_train.columns:\n",
    "    if column not in X_test.columns:\n",
    "        print(column)\n",
    "        \n",
    "print('SPLIT')\n",
    "for column in X_test.columns:\n",
    "    if column not in X_train.columns:\n",
    "        print(column)"
   ]
  },
  {
   "cell_type": "code",
   "execution_count": 99,
   "metadata": {},
   "outputs": [],
   "source": [
    "# Set up linear regression\n",
    "lr1log = LinearRegression()"
   ]
  },
  {
   "cell_type": "code",
   "execution_count": 100,
   "metadata": {},
   "outputs": [
    {
     "data": {
      "text/plain": [
       "LinearRegression()"
      ]
     },
     "execution_count": 100,
     "metadata": {},
     "output_type": "execute_result"
    }
   ],
   "source": [
    "# fit the model\n",
    "lr1log.fit(X_train, y_train)"
   ]
  },
  {
   "cell_type": "code",
   "execution_count": 101,
   "metadata": {},
   "outputs": [],
   "source": [
    "# now find y_pred or y_test\n",
    "y_test = lr1log.predict(X_test)\n",
    "\n",
    "y_test = np.exp(y_test)"
   ]
  },
  {
   "cell_type": "code",
   "execution_count": 102,
   "metadata": {},
   "outputs": [],
   "source": [
    "# now create a column in the test dataframe\n",
    "test['SalePrice'] = y_test"
   ]
  },
  {
   "cell_type": "code",
   "execution_count": 103,
   "metadata": {},
   "outputs": [
    {
     "data": {
      "text/html": [
       "<div>\n",
       "<style scoped>\n",
       "    .dataframe tbody tr th:only-of-type {\n",
       "        vertical-align: middle;\n",
       "    }\n",
       "\n",
       "    .dataframe tbody tr th {\n",
       "        vertical-align: top;\n",
       "    }\n",
       "\n",
       "    .dataframe thead th {\n",
       "        text-align: right;\n",
       "    }\n",
       "</style>\n",
       "<table border=\"1\" class=\"dataframe\">\n",
       "  <thead>\n",
       "    <tr style=\"text-align: right;\">\n",
       "      <th></th>\n",
       "      <th>id</th>\n",
       "      <th>SalePrice</th>\n",
       "    </tr>\n",
       "  </thead>\n",
       "  <tbody>\n",
       "    <tr>\n",
       "      <th>0</th>\n",
       "      <td>2658</td>\n",
       "      <td>87257.214497</td>\n",
       "    </tr>\n",
       "    <tr>\n",
       "      <th>1</th>\n",
       "      <td>2718</td>\n",
       "      <td>140943.635496</td>\n",
       "    </tr>\n",
       "    <tr>\n",
       "      <th>2</th>\n",
       "      <td>2414</td>\n",
       "      <td>204568.995423</td>\n",
       "    </tr>\n",
       "    <tr>\n",
       "      <th>3</th>\n",
       "      <td>1989</td>\n",
       "      <td>107655.425688</td>\n",
       "    </tr>\n",
       "    <tr>\n",
       "      <th>4</th>\n",
       "      <td>625</td>\n",
       "      <td>174287.317168</td>\n",
       "    </tr>\n",
       "  </tbody>\n",
       "</table>\n",
       "</div>"
      ],
      "text/plain": [
       "     id      SalePrice\n",
       "0  2658   87257.214497\n",
       "1  2718  140943.635496\n",
       "2  2414  204568.995423\n",
       "3  1989  107655.425688\n",
       "4   625  174287.317168"
      ]
     },
     "execution_count": 103,
     "metadata": {},
     "output_type": "execute_result"
    }
   ],
   "source": [
    "submissionf1 = test[['id','SalePrice']]\n",
    "submissionf1.head()"
   ]
  },
  {
   "cell_type": "code",
   "execution_count": 104,
   "metadata": {},
   "outputs": [
    {
     "name": "stderr",
     "output_type": "stream",
     "text": [
      "C:\\Users\\ncesm\\anaconda3\\envs\\dsi\\lib\\site-packages\\pandas\\core\\frame.py:4125: SettingWithCopyWarning: \n",
      "A value is trying to be set on a copy of a slice from a DataFrame\n",
      "\n",
      "See the caveats in the documentation: https://pandas.pydata.org/pandas-docs/stable/user_guide/indexing.html#returning-a-view-versus-a-copy\n",
      "  return super().rename(\n"
     ]
    },
    {
     "data": {
      "text/plain": [
       "Index(['Id', 'SalePrice'], dtype='object')"
      ]
     },
     "execution_count": 104,
     "metadata": {},
     "output_type": "execute_result"
    }
   ],
   "source": [
    "# Rename columns if they are anal about uppercase\n",
    "submissionf1.rename(columns={'id':'Id'},inplace=True)\n",
    "submissionf1.columns"
   ]
  },
  {
   "cell_type": "code",
   "execution_count": 105,
   "metadata": {},
   "outputs": [],
   "source": [
    "# SAVE TO CSV \n",
    "submissionf1.to_csv('../submissions/features1-log.csv', index=False)"
   ]
  },
  {
   "cell_type": "markdown",
   "metadata": {},
   "source": [
    "# FEATURES 2"
   ]
  },
  {
   "cell_type": "code",
   "execution_count": 106,
   "metadata": {},
   "outputs": [],
   "source": [
    "# Create X\n",
    "\n",
    "# Train X set\n",
    "X_train = train[features2]\n",
    "\n",
    "# Test X set\n",
    "X_test = test[features2]\n",
    "\n",
    "# Create y_train\n",
    "y_train = train['saleprice'].map(np.log)"
   ]
  },
  {
   "cell_type": "code",
   "execution_count": 107,
   "metadata": {},
   "outputs": [
    {
     "name": "stderr",
     "output_type": "stream",
     "text": [
      "C:\\Users\\ncesm\\anaconda3\\envs\\dsi\\lib\\site-packages\\pandas\\core\\frame.py:4147: SettingWithCopyWarning: \n",
      "A value is trying to be set on a copy of a slice from a DataFrame\n",
      "\n",
      "See the caveats in the documentation: https://pandas.pydata.org/pandas-docs/stable/user_guide/indexing.html#returning-a-view-versus-a-copy\n",
      "  return super().fillna(\n"
     ]
    }
   ],
   "source": [
    "# Fill any nulls with 0\n",
    "X_train.fillna(0, inplace=True)\n",
    "X_test.fillna(0, inplace=True)"
   ]
  },
  {
   "cell_type": "code",
   "execution_count": 108,
   "metadata": {},
   "outputs": [],
   "source": [
    "# Make dummies\n",
    "X_train = pd.get_dummies(data=X_train, columns=dummy_columns2)\n",
    "X_test = pd.get_dummies(data=X_test, columns=dummy_columns2)"
   ]
  },
  {
   "cell_type": "code",
   "execution_count": 109,
   "metadata": {},
   "outputs": [
    {
     "name": "stdout",
     "output_type": "stream",
     "text": [
      "These columns dont exist in test dataframe\n",
      "SPLIT\n",
      "These columns dont exist in train dataframe\n"
     ]
    }
   ],
   "source": [
    "# Check which columns are not in the other \n",
    "print('These columns dont exist in test dataframe')\n",
    "for column in X_train.columns:\n",
    "    if column not in X_test.columns:\n",
    "        print('-',column)\n",
    "        \n",
    "print('SPLIT')\n",
    "print('These columns dont exist in train dataframe')\n",
    "for column in X_test.columns:\n",
    "    if column not in X_train.columns:\n",
    "        print('-',column)"
   ]
  },
  {
   "cell_type": "code",
   "execution_count": 110,
   "metadata": {},
   "outputs": [],
   "source": [
    "# Set up linear regression\n",
    "lr2log = LinearRegression()"
   ]
  },
  {
   "cell_type": "code",
   "execution_count": 111,
   "metadata": {},
   "outputs": [
    {
     "data": {
      "text/plain": [
       "LinearRegression()"
      ]
     },
     "execution_count": 111,
     "metadata": {},
     "output_type": "execute_result"
    }
   ],
   "source": [
    "# fit the model\n",
    "lr2log.fit(X_train, y_train)"
   ]
  },
  {
   "cell_type": "code",
   "execution_count": 112,
   "metadata": {},
   "outputs": [
    {
     "data": {
      "text/plain": [
       "array([ 78380.98984265, 156701.96727459, 208955.78001544, 108322.56903267,\n",
       "       179866.09862981,  93072.62733937, 102092.46342344, 151479.19727142,\n",
       "       165135.65266726, 190126.53418477])"
      ]
     },
     "execution_count": 112,
     "metadata": {},
     "output_type": "execute_result"
    }
   ],
   "source": [
    "# now find y_pred or y_test\n",
    "y_test = lr2log.predict(X_test)\n",
    "y_test = np.exp(y_test)\n",
    "y_test[:10]"
   ]
  },
  {
   "cell_type": "code",
   "execution_count": 113,
   "metadata": {},
   "outputs": [],
   "source": [
    "test['SalePrice'] = y_test"
   ]
  },
  {
   "cell_type": "code",
   "execution_count": 114,
   "metadata": {},
   "outputs": [
    {
     "name": "stderr",
     "output_type": "stream",
     "text": [
      "C:\\Users\\ncesm\\anaconda3\\envs\\dsi\\lib\\site-packages\\pandas\\core\\frame.py:4125: SettingWithCopyWarning: \n",
      "A value is trying to be set on a copy of a slice from a DataFrame\n",
      "\n",
      "See the caveats in the documentation: https://pandas.pydata.org/pandas-docs/stable/user_guide/indexing.html#returning-a-view-versus-a-copy\n",
      "  return super().rename(\n"
     ]
    },
    {
     "data": {
      "text/plain": [
       "(Index(['Id', 'SalePrice'], dtype='object'),\n",
       "      Id      SalePrice\n",
       " 0  2658   78380.989843\n",
       " 1  2718  156701.967275\n",
       " 2  2414  208955.780015\n",
       " 3  1989  108322.569033\n",
       " 4   625  179866.098630)"
      ]
     },
     "execution_count": 114,
     "metadata": {},
     "output_type": "execute_result"
    }
   ],
   "source": [
    "submissionf2 = test[['id','SalePrice']]\n",
    "submissionf2.rename(columns={'id':'Id'},inplace=True)\n",
    "submissionf2.columns, submissionf2.head()"
   ]
  },
  {
   "cell_type": "code",
   "execution_count": 115,
   "metadata": {},
   "outputs": [],
   "source": [
    "# SAVE TO CSV \n",
    "submissionf2.to_csv('../submissions/features2-log.csv', index=False)"
   ]
  },
  {
   "cell_type": "markdown",
   "metadata": {},
   "source": [
    "# FEATURES 3"
   ]
  },
  {
   "cell_type": "code",
   "execution_count": 116,
   "metadata": {},
   "outputs": [],
   "source": [
    "# Create X\n",
    "\n",
    "# Train X set\n",
    "X_train = train[features3]\n",
    "\n",
    "# Test X set\n",
    "X_test = test[features3]\n",
    "\n",
    "# Create y_train\n",
    "y_train = train['saleprice'].map(np.log)"
   ]
  },
  {
   "cell_type": "code",
   "execution_count": 117,
   "metadata": {},
   "outputs": [
    {
     "name": "stderr",
     "output_type": "stream",
     "text": [
      "C:\\Users\\ncesm\\anaconda3\\envs\\dsi\\lib\\site-packages\\pandas\\core\\frame.py:4147: SettingWithCopyWarning: \n",
      "A value is trying to be set on a copy of a slice from a DataFrame\n",
      "\n",
      "See the caveats in the documentation: https://pandas.pydata.org/pandas-docs/stable/user_guide/indexing.html#returning-a-view-versus-a-copy\n",
      "  return super().fillna(\n"
     ]
    }
   ],
   "source": [
    "# Fill any nulls with 0\n",
    "X_train.fillna(0, inplace=True)\n",
    "X_test.fillna(0, inplace=True)"
   ]
  },
  {
   "cell_type": "code",
   "execution_count": 118,
   "metadata": {},
   "outputs": [],
   "source": [
    "# Make dummies\n",
    "X_train = pd.get_dummies(data=X_train, columns=dummy_columns2)\n",
    "X_test = pd.get_dummies(data=X_test, columns=dummy_columns2)"
   ]
  },
  {
   "cell_type": "code",
   "execution_count": 119,
   "metadata": {},
   "outputs": [
    {
     "name": "stdout",
     "output_type": "stream",
     "text": [
      "These columns dont exist in test dataframe\n",
      "SPLIT\n",
      "These columns dont exist in train dataframe\n"
     ]
    }
   ],
   "source": [
    "# Check which columns are not in the other \n",
    "print('These columns dont exist in test dataframe')\n",
    "for column in X_train.columns:\n",
    "    if column not in X_test.columns:\n",
    "        print('-',column)\n",
    "        \n",
    "print('SPLIT')\n",
    "print('These columns dont exist in train dataframe')\n",
    "for column in X_test.columns:\n",
    "    if column not in X_train.columns:\n",
    "        print('-',column)"
   ]
  },
  {
   "cell_type": "code",
   "execution_count": 120,
   "metadata": {},
   "outputs": [
    {
     "data": {
      "text/plain": [
       "LinearRegression()"
      ]
     },
     "execution_count": 120,
     "metadata": {},
     "output_type": "execute_result"
    }
   ],
   "source": [
    "# Set up linear regression\n",
    "lr3log = LinearRegression()\n",
    "# fit the model\n",
    "lr3log.fit(X_train, y_train)"
   ]
  },
  {
   "cell_type": "code",
   "execution_count": 121,
   "metadata": {},
   "outputs": [
    {
     "data": {
      "text/plain": [
       "array([ 86709.23774278, 161667.18982817, 196363.64231983, 108925.7127085 ,\n",
       "       171761.64994569,  94254.21570528, 109483.96513596, 161094.00964808,\n",
       "       188614.50168482, 177290.70684575])"
      ]
     },
     "execution_count": 121,
     "metadata": {},
     "output_type": "execute_result"
    }
   ],
   "source": [
    "# now find y_pred or y_test\n",
    "y_test = lr3log.predict(X_test)\n",
    "y_test = np.exp(y_test)\n",
    "y_test[:10]"
   ]
  },
  {
   "cell_type": "code",
   "execution_count": 122,
   "metadata": {},
   "outputs": [],
   "source": [
    "test['SalePrice'] = y_test"
   ]
  },
  {
   "cell_type": "code",
   "execution_count": 123,
   "metadata": {},
   "outputs": [
    {
     "name": "stderr",
     "output_type": "stream",
     "text": [
      "C:\\Users\\ncesm\\anaconda3\\envs\\dsi\\lib\\site-packages\\pandas\\core\\frame.py:4125: SettingWithCopyWarning: \n",
      "A value is trying to be set on a copy of a slice from a DataFrame\n",
      "\n",
      "See the caveats in the documentation: https://pandas.pydata.org/pandas-docs/stable/user_guide/indexing.html#returning-a-view-versus-a-copy\n",
      "  return super().rename(\n"
     ]
    },
    {
     "data": {
      "text/plain": [
       "(Index(['Id', 'SalePrice'], dtype='object'),\n",
       "      Id      SalePrice\n",
       " 0  2658   86709.237743\n",
       " 1  2718  161667.189828\n",
       " 2  2414  196363.642320\n",
       " 3  1989  108925.712708\n",
       " 4   625  171761.649946)"
      ]
     },
     "execution_count": 123,
     "metadata": {},
     "output_type": "execute_result"
    }
   ],
   "source": [
    "submissionf3 = test[['id','SalePrice']]\n",
    "submissionf3.rename(columns={'id':'Id'},inplace=True)\n",
    "submissionf3.columns, submissionf3.head()"
   ]
  },
  {
   "cell_type": "code",
   "execution_count": 124,
   "metadata": {},
   "outputs": [],
   "source": [
    "# SAVE TO CSV \n",
    "submissionf3.to_csv('../submissions/features3-log.csv', index=False)"
   ]
  },
  {
   "cell_type": "markdown",
   "metadata": {},
   "source": [
    "# Features 4\n",
    "\n",
    "These features were ones that had a correlation of .5 or higher in relation to saleprice in the `train` set. This was to set a new benchmark and then rise in numbers from here."
   ]
  },
  {
   "cell_type": "code",
   "execution_count": null,
   "metadata": {},
   "outputs": [],
   "source": []
  },
  {
   "cell_type": "code",
   "execution_count": 134,
   "metadata": {},
   "outputs": [],
   "source": [
    "# Create X\n",
    "\n",
    "# Train X set\n",
    "X_train = train[features4]\n",
    "\n",
    "# Test X set\n",
    "X_test = test[features4]\n",
    "\n",
    "# Create y_train\n",
    "y_train = train['saleprice'].map(np.log)"
   ]
  },
  {
   "cell_type": "code",
   "execution_count": 135,
   "metadata": {},
   "outputs": [],
   "source": [
    "# https://pandas.pydata.org/pandas-docs/stable/reference/api/pandas.DataFrame.select_dtypes.html\n",
    "dummies_columns = list(clean_train[features4].select_dtypes(include='object'))"
   ]
  },
  {
   "cell_type": "code",
   "execution_count": 137,
   "metadata": {},
   "outputs": [],
   "source": [
    "# Fill any nulls with 0\n",
    "X_train.fillna(0, inplace=True)\n",
    "X_test.fillna(0, inplace=True)"
   ]
  },
  {
   "cell_type": "code",
   "execution_count": 140,
   "metadata": {},
   "outputs": [],
   "source": [
    "# Make dummies\n",
    "X_train = pd.get_dummies(data=X_train, columns=dummies_columns)\n",
    "X_test = pd.get_dummies(data=X_test, columns=dummies_columns)"
   ]
  },
  {
   "cell_type": "code",
   "execution_count": 141,
   "metadata": {},
   "outputs": [
    {
     "name": "stdout",
     "output_type": "stream",
     "text": [
      "These columns dont exist in test dataframe\n",
      "SPLIT\n",
      "These columns dont exist in train dataframe\n"
     ]
    }
   ],
   "source": [
    "# Check which columns are not in the other \n",
    "print('These columns dont exist in test dataframe')\n",
    "for column in X_train.columns:\n",
    "    if column not in X_test.columns:\n",
    "        print('-',column)\n",
    "        \n",
    "print('SPLIT')\n",
    "print('These columns dont exist in train dataframe')\n",
    "for column in X_test.columns:\n",
    "    if column not in X_train.columns:\n",
    "        print('-',column)"
   ]
  },
  {
   "cell_type": "code",
   "execution_count": 142,
   "metadata": {},
   "outputs": [
    {
     "data": {
      "text/plain": [
       "LinearRegression()"
      ]
     },
     "execution_count": 142,
     "metadata": {},
     "output_type": "execute_result"
    }
   ],
   "source": [
    "# Set up linear regression\n",
    "lr4log = LinearRegression()\n",
    "# fit the model\n",
    "lr4log.fit(X_train, y_train)"
   ]
  },
  {
   "cell_type": "code",
   "execution_count": 143,
   "metadata": {},
   "outputs": [
    {
     "data": {
      "text/plain": [
       "array([139372.36782193, 190186.65062654, 191942.67186594, 129657.30400686,\n",
       "       163605.93201186, 104304.97575991, 119128.26186286, 142756.72583066,\n",
       "       203658.73084753, 159513.35827129])"
      ]
     },
     "execution_count": 143,
     "metadata": {},
     "output_type": "execute_result"
    }
   ],
   "source": [
    "# now find y_pred or y_test\n",
    "y_test = lr4log.predict(X_test)\n",
    "y_test = np.exp(y_test)\n",
    "y_test[:10]"
   ]
  },
  {
   "cell_type": "code",
   "execution_count": 144,
   "metadata": {},
   "outputs": [],
   "source": [
    "test['SalePrice'] = y_test"
   ]
  },
  {
   "cell_type": "code",
   "execution_count": 145,
   "metadata": {},
   "outputs": [
    {
     "name": "stderr",
     "output_type": "stream",
     "text": [
      "C:\\Users\\ncesm\\anaconda3\\envs\\dsi\\lib\\site-packages\\pandas\\core\\frame.py:4125: SettingWithCopyWarning: \n",
      "A value is trying to be set on a copy of a slice from a DataFrame\n",
      "\n",
      "See the caveats in the documentation: https://pandas.pydata.org/pandas-docs/stable/user_guide/indexing.html#returning-a-view-versus-a-copy\n",
      "  return super().rename(\n"
     ]
    },
    {
     "data": {
      "text/plain": [
       "(Index(['Id', 'SalePrice'], dtype='object'),\n",
       "      Id      SalePrice\n",
       " 0  2658  139372.367822\n",
       " 1  2718  190186.650627\n",
       " 2  2414  191942.671866\n",
       " 3  1989  129657.304007\n",
       " 4   625  163605.932012)"
      ]
     },
     "execution_count": 145,
     "metadata": {},
     "output_type": "execute_result"
    }
   ],
   "source": [
    "submissionf4 = test[['id','SalePrice']]\n",
    "submissionf4.rename(columns={'id':'Id'},inplace=True)\n",
    "submissionf4.columns, submissionf4.head()"
   ]
  },
  {
   "cell_type": "code",
   "execution_count": 146,
   "metadata": {},
   "outputs": [],
   "source": [
    "# SAVE TO CSV \n",
    "submissionf4.to_csv('../submissions/features4-log.csv', index=False)"
   ]
  },
  {
   "cell_type": "code",
   "execution_count": null,
   "metadata": {},
   "outputs": [],
   "source": []
  }
 ],
 "metadata": {
  "kernelspec": {
   "display_name": "Python [conda env:dsi]",
   "language": "python",
   "name": "conda-env-dsi-py"
  },
  "language_info": {
   "codemirror_mode": {
    "name": "ipython",
    "version": 3
   },
   "file_extension": ".py",
   "mimetype": "text/x-python",
   "name": "python",
   "nbconvert_exporter": "python",
   "pygments_lexer": "ipython3",
   "version": "3.8.3"
  }
 },
 "nbformat": 4,
 "nbformat_minor": 4
}

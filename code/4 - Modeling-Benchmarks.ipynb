{
 "cells": [
  {
   "cell_type": "markdown",
   "metadata": {},
   "source": [
    "# Modeling Benchmarks"
   ]
  },
  {
   "cell_type": "markdown",
   "metadata": {},
   "source": [
    "This notebook contains my many models that I run over many different feature sets. We will compare these to the null model as well."
   ]
  },
  {
   "cell_type": "code",
   "execution_count": 1,
   "metadata": {},
   "outputs": [],
   "source": [
    "import pandas as pd\n",
    "import numpy as np\n",
    "import matplotlib.pyplot as plt\n",
    "import seaborn as sns\n",
    "\n",
    "from sklearn.linear_model import LinearRegression, Ridge, RidgeCV, Lasso, LassoCV\n",
    "from sklearn.model_selection import train_test_split\n",
    "from sklearn.preprocessing import StandardScaler\n",
    "from sklearn import metrics"
   ]
  },
  {
   "cell_type": "code",
   "execution_count": 2,
   "metadata": {},
   "outputs": [],
   "source": [
    "pd.set_option('display.max_columns', None)\n",
    "pd.set_option('display.max_rows', None)"
   ]
  },
  {
   "cell_type": "code",
   "execution_count": 3,
   "metadata": {},
   "outputs": [],
   "source": [
    "# Import CSV\n",
    "clean_train =  pd.read_csv('../data/cleaned_train.csv')\n",
    "clean_test = pd.read_csv('../data/cleaned_test.csv')"
   ]
  },
  {
   "cell_type": "code",
   "execution_count": null,
   "metadata": {},
   "outputs": [],
   "source": []
  },
  {
   "cell_type": "markdown",
   "metadata": {},
   "source": [
    "# Creating a baseline"
   ]
  },
  {
   "cell_type": "code",
   "execution_count": 4,
   "metadata": {},
   "outputs": [],
   "source": [
    "y = clean_train['saleprice']"
   ]
  },
  {
   "cell_type": "code",
   "execution_count": 5,
   "metadata": {},
   "outputs": [
    {
     "data": {
      "text/plain": [
       "181469.70160897123"
      ]
     },
     "execution_count": 5,
     "metadata": {},
     "output_type": "execute_result"
    }
   ],
   "source": [
    "baseline = clean_train['saleprice'].mean()\n",
    "baseline"
   ]
  },
  {
   "cell_type": "markdown",
   "metadata": {},
   "source": [
    "Since we can't make any predictions right now, we have to go into the [selection notebook](https://git.generalassemb.ly/laternader/project_2/blob/master/deliverables/code/1.5%20-%20Select-Features.ipynb).\n",
    "\n",
    "But for now we can make a null prediction (`baseline` is our null prediction). We need to calculate the distance between a sale price from the 'saleprice' column to the mean of all saleprices. This will give us null residuals."
   ]
  },
  {
   "cell_type": "code",
   "execution_count": 6,
   "metadata": {},
   "outputs": [
    {
     "data": {
      "text/plain": [
       "0   -50969.701609\n",
       "1    38530.298391\n",
       "2   -72469.701609\n",
       "3    -7469.701609\n",
       "4   -42969.701609\n",
       "Name: saleprice, dtype: float64"
      ]
     },
     "execution_count": 6,
     "metadata": {},
     "output_type": "execute_result"
    }
   ],
   "source": [
    "null_resids = y - baseline\n",
    "null_resids[:5]"
   ]
  },
  {
   "cell_type": "code",
   "execution_count": 7,
   "metadata": {},
   "outputs": [
    {
     "data": {
      "text/plain": [
       "6278872217.837828"
      ]
     },
     "execution_count": 7,
     "metadata": {},
     "output_type": "execute_result"
    }
   ],
   "source": [
    "np.mean(null_resids**2)"
   ]
  },
  {
   "cell_type": "code",
   "execution_count": 8,
   "metadata": {},
   "outputs": [
    {
     "data": {
      "text/plain": [
       "6278872217.837828"
      ]
     },
     "execution_count": 8,
     "metadata": {},
     "output_type": "execute_result"
    }
   ],
   "source": [
    "# This is the null model before the split\n",
    "clean_train['null_pred'] = baseline\n",
    "#                                     y before the split  , caluculated mean of y\n",
    "mse_null = metrics.mean_squared_error(clean_train['saleprice'], clean_train['null_pred'])\n",
    "mse_null"
   ]
  },
  {
   "cell_type": "code",
   "execution_count": 9,
   "metadata": {},
   "outputs": [
    {
     "data": {
      "text/plain": [
       "79239.33504161824"
      ]
     },
     "execution_count": 9,
     "metadata": {},
     "output_type": "execute_result"
    }
   ],
   "source": [
    "rmse_null = mse_null**.5\n",
    "rmse_null"
   ]
  },
  {
   "cell_type": "markdown",
   "metadata": {},
   "source": [
    "Now we can compare with our models.\n",
    "\n",
    "---\n",
    "# Feature Set 1"
   ]
  },
  {
   "cell_type": "markdown",
   "metadata": {},
   "source": [
    "The features presented here are features that had high positive correlation with 'saleprice' in the train. It will contain LinearRegression, Lasso, And Ridge models"
   ]
  },
  {
   "cell_type": "code",
   "execution_count": 10,
   "metadata": {},
   "outputs": [],
   "source": [
    "features1 = ['overall_qual',\n",
    "  'year_built',\n",
    "  'year_remod/add',\n",
    "  'mas_vnr_area',\n",
    "  'total_bsmt_sf',\n",
    "  '1st_flr_sf',\n",
    "  'gr_liv_area',\n",
    "  'full_bath',\n",
    "  'garage_yr_blt',\n",
    "  'garage_cars',\n",
    "  'garage_area']"
   ]
  },
  {
   "cell_type": "code",
   "execution_count": 11,
   "metadata": {},
   "outputs": [],
   "source": [
    "X_train = clean_train[features1]\n",
    "X_test = clean_test[features1]\n",
    "y_train = clean_train['saleprice']"
   ]
  },
  {
   "cell_type": "markdown",
   "metadata": {},
   "source": [
    "This code helps select any columns that need to be dummified."
   ]
  },
  {
   "cell_type": "code",
   "execution_count": 12,
   "metadata": {},
   "outputs": [],
   "source": [
    "# https://pandas.pydata.org/pandas-docs/stable/reference/api/pandas.DataFrame.select_dtypes.html\n",
    "dummies_columns = list(clean_train[features1].select_dtypes(include='object'))"
   ]
  },
  {
   "cell_type": "markdown",
   "metadata": {},
   "source": [
    "We will now fit the `train` into its own model before proceeding to apply it to the whole model."
   ]
  },
  {
   "cell_type": "code",
   "execution_count": 13,
   "metadata": {},
   "outputs": [
    {
     "data": {
      "text/plain": [
       "LinearRegression()"
      ]
     },
     "execution_count": 13,
     "metadata": {},
     "output_type": "execute_result"
    }
   ],
   "source": [
    "X_train_validation, X_test_validation, y_train_validation, y_test_validation = \\\n",
    "                train_test_split(X_train, y_train, random_state=69420)\n",
    "# Instatiate and fit the model\n",
    "lr = LinearRegression()\n",
    "lr.fit(X_train_validation, y_train_validation)"
   ]
  },
  {
   "cell_type": "code",
   "execution_count": 14,
   "metadata": {},
   "outputs": [
    {
     "data": {
      "text/plain": [
       "(0.7925242267944131, 0.8224348663093287)"
      ]
     },
     "execution_count": 14,
     "metadata": {},
     "output_type": "execute_result"
    }
   ],
   "source": [
    "lr.score(X_train_validation,y_train_validation), lr.score(X_test_validation,y_test_validation)"
   ]
  },
  {
   "cell_type": "code",
   "execution_count": 15,
   "metadata": {},
   "outputs": [
    {
     "data": {
      "text/plain": [
       "array([164343.0559405 , 343233.76737602, 164352.24749496, 159379.24111704,\n",
       "       183737.62333763])"
      ]
     },
     "execution_count": 15,
     "metadata": {},
     "output_type": "execute_result"
    }
   ],
   "source": [
    "preds = lr.predict(X_test_validation)\n",
    "preds[:5]"
   ]
  },
  {
   "cell_type": "markdown",
   "metadata": {},
   "source": [
    "Now that we calculated the R scores, we need to calculate the metrics to compare. In order to do that, we bring in the function below."
   ]
  },
  {
   "cell_type": "code",
   "execution_count": 16,
   "metadata": {},
   "outputs": [],
   "source": [
    "# The idea came from lab 3.01\n",
    "def big_metrics(y, predictions, features):\n",
    "    # 1. Calculate Sum Squared Error; SSE\n",
    "    SSE = ((y - predictions)**2).sum()\n",
    "    \n",
    "    # 2. Calculate Mean Squared Error; MSE\n",
    "    MSE = SSE/len(y)\n",
    "    \n",
    "    # 3. Calculate Root Mean Squared Error; RMSE\n",
    "    RMSE = np.sqrt(MSE)\n",
    "    \n",
    "    # 4. Calculate Mean Absolute Error; MAE\n",
    "    MAE = (abs(y - predictions)).sum()/len(y)\n",
    "    \n",
    "    # 5. Calculate R2 Score Error; R2\n",
    "    Null_SSE = ((y - y.mean())**2).sum() # Need null to calculate R2\n",
    "    R2 = 1 - SSE/Null_SSE\n",
    "    \n",
    "    # 6. Calculate R2 Adjusted\n",
    "    R2_adj = 1-(((1-R2)*(len(y)-1))/(len(y)-len(features)-1))\n",
    "    \n",
    "    return SSE, MSE, RMSE, MAE, R2, R2_adj\n",
    "\n",
    "metric_names = ['SSE', 'MSE', 'RMSE', 'MAE', 'R2', 'R2_adj']"
   ]
  },
  {
   "cell_type": "code",
   "execution_count": 17,
   "metadata": {},
   "outputs": [
    {
     "data": {
      "text/plain": [
       "SSE       5.234070e+11\n",
       "MSE       1.020287e+09\n",
       "RMSE      3.194193e+04\n",
       "MAE       2.297774e+04\n",
       "R2        8.224349e-01\n",
       "R2_adj    8.185362e-01\n",
       "dtype: float64"
      ]
     },
     "execution_count": 17,
     "metadata": {},
     "output_type": "execute_result"
    }
   ],
   "source": [
    "f1_metrics = pd.Series(big_metrics(y_test_validation, preds, features1),index=metric_names)\n",
    "f1_metrics"
   ]
  },
  {
   "cell_type": "code",
   "execution_count": 18,
   "metadata": {},
   "outputs": [
    {
     "data": {
      "text/plain": [
       "(31941.92581264128, 79239.33504161824)"
      ]
     },
     "execution_count": 18,
     "metadata": {},
     "output_type": "execute_result"
    }
   ],
   "source": [
    "f1_metrics[2], rmse_null"
   ]
  },
  {
   "cell_type": "markdown",
   "metadata": {},
   "source": [
    "Now time to calculate to compare to the null model.\n",
    "\n",
    "Since my RMSE of my first model based on `features1` is lower than the rmse_null, that means my model is pimpin."
   ]
  },
  {
   "cell_type": "code",
   "execution_count": 19,
   "metadata": {},
   "outputs": [
    {
     "data": {
      "text/plain": [
       "overall_qual      19943.446696\n",
       "year_built          299.341674\n",
       "year_remod/add      368.118239\n",
       "mas_vnr_area         42.652246\n",
       "total_bsmt_sf        14.067156\n",
       "1st_flr_sf           17.368340\n",
       "gr_liv_area          40.173878\n",
       "full_bath         -4996.950326\n",
       "garage_yr_blt      -121.236634\n",
       "garage_cars        8341.460468\n",
       "garage_area          37.286706\n",
       "dtype: float64"
      ]
     },
     "execution_count": 19,
     "metadata": {},
     "output_type": "execute_result"
    }
   ],
   "source": [
    "pd.Series(lr.coef_,index=features1)"
   ]
  },
  {
   "cell_type": "markdown",
   "metadata": {},
   "source": [
    "There were 2 features that cause a drop in price as their units increase. I think we can do a better model."
   ]
  },
  {
   "cell_type": "markdown",
   "metadata": {},
   "source": [
    "# Let's model the first set of features to Ridge and RidgeCV\n",
    "\n",
    "In order to do that, we need to utilize `StandardScaler`"
   ]
  },
  {
   "cell_type": "code",
   "execution_count": 20,
   "metadata": {},
   "outputs": [
    {
     "name": "stdout",
     "output_type": "stream",
     "text": [
      "Ridge Training score: 0.7925207788470631\n",
      "Ridge Test score: 0.8223824929134431\n"
     ]
    }
   ],
   "source": [
    "# Standardize the numbers\n",
    "X_train_validation, X_test_validation, y_train_validation, y_test_validation = \\\n",
    "                train_test_split(X_train, y_train, random_state=69420)\n",
    "# Since we already split it earlier, we will use those to perform on the Ridge model\n",
    "ss = StandardScaler()\n",
    "Z_train = ss.fit_transform(X_train_validation)\n",
    "Z_test = ss.transform(X_test_validation)\n",
    "\n",
    "ridge_model = Ridge(alpha=5)\n",
    "ridge_model.fit(Z_train, y_train_validation)\n",
    "\n",
    "print('Ridge Training score:', ridge_model.score(Z_train, y_train_validation))\n",
    "print('Ridge Test score:', ridge_model.score(Z_test, y_test_validation)) "
   ]
  },
  {
   "cell_type": "code",
   "execution_count": 21,
   "metadata": {},
   "outputs": [],
   "source": [
    "r_alphas = np.logspace(0, 5, 100)\n",
    "ridge_cv = RidgeCV(alphas=r_alphas, scoring='r2',cv=5)\n",
    "ridge_cv.fit(Z_train, y_train_validation);"
   ]
  },
  {
   "cell_type": "code",
   "execution_count": 22,
   "metadata": {},
   "outputs": [
    {
     "name": "stdout",
     "output_type": "stream",
     "text": [
      "RidgeCV Training score: 0.7917988595805897\n",
      "RidgeCV Test score: 0.8209229268500502\n"
     ]
    }
   ],
   "source": [
    "print('RidgeCV Training score:',ridge_cv.score(Z_train, y_train_validation))\n",
    "print('RidgeCV Test score:',ridge_cv.score(Z_test, y_test_validation))"
   ]
  },
  {
   "cell_type": "markdown",
   "metadata": {},
   "source": [
    "Calculate the RMSE on `Ridge` and `RidgeCV` models."
   ]
  },
  {
   "cell_type": "code",
   "execution_count": 23,
   "metadata": {},
   "outputs": [
    {
     "data": {
      "text/plain": [
       "array([164696.09016549, 342886.16306817, 164328.88212282, 159396.09397223,\n",
       "       183784.30335765])"
      ]
     },
     "execution_count": 23,
     "metadata": {},
     "output_type": "execute_result"
    }
   ],
   "source": [
    "Z_test_preds = ridge_model.predict(Z_test)\n",
    "Z_test_preds[:5]"
   ]
  },
  {
   "cell_type": "code",
   "execution_count": 24,
   "metadata": {},
   "outputs": [
    {
     "data": {
      "text/plain": [
       "SSE       5.235614e+11\n",
       "MSE       1.020588e+09\n",
       "RMSE      3.194664e+04\n",
       "MAE       2.296204e+04\n",
       "R2        8.223825e-01\n",
       "R2_adj    8.184827e-01\n",
       "dtype: float64"
      ]
     },
     "execution_count": 24,
     "metadata": {},
     "output_type": "execute_result"
    }
   ],
   "source": [
    "f1_metrics_r = pd.Series(big_metrics(y_test_validation, Z_test_preds, features1),index=metric_names)\n",
    "f1_metrics_r"
   ]
  },
  {
   "cell_type": "code",
   "execution_count": 25,
   "metadata": {},
   "outputs": [
    {
     "data": {
      "text/plain": [
       "(31941.92581264128, 31946.636151185918, 79239.33504161824)"
      ]
     },
     "execution_count": 25,
     "metadata": {},
     "output_type": "execute_result"
    }
   ],
   "source": [
    "f1_metrics[2], f1_metrics_r[2], rmse_null"
   ]
  },
  {
   "cell_type": "code",
   "execution_count": 26,
   "metadata": {},
   "outputs": [
    {
     "data": {
      "text/plain": [
       "overall_qual      28259.620523\n",
       "year_built         8963.330739\n",
       "year_remod/add     7774.782363\n",
       "mas_vnr_area       7747.665538\n",
       "total_bsmt_sf      6432.741516\n",
       "1st_flr_sf         7071.773072\n",
       "gr_liv_area       20124.262765\n",
       "full_bath         -2648.375006\n",
       "garage_yr_blt     -2944.313413\n",
       "garage_cars        6377.296810\n",
       "garage_area        6799.344874\n",
       "dtype: float64"
      ]
     },
     "execution_count": 26,
     "metadata": {},
     "output_type": "execute_result"
    }
   ],
   "source": [
    "pd.Series(ridge_model.coef_,index=features1)"
   ]
  },
  {
   "cell_type": "code",
   "execution_count": 27,
   "metadata": {},
   "outputs": [
    {
     "data": {
      "text/plain": [
       "array([169435.09918185, 338122.82168343, 164146.53128715, 159534.31301852,\n",
       "       184368.40156621])"
      ]
     },
     "execution_count": 27,
     "metadata": {},
     "output_type": "execute_result"
    }
   ],
   "source": [
    "Z_test_preds = ridge_cv.predict(Z_test)\n",
    "Z_test_preds[:5]"
   ]
  },
  {
   "cell_type": "code",
   "execution_count": 28,
   "metadata": {},
   "outputs": [
    {
     "data": {
      "text/plain": [
       "SSE       5.278638e+11\n",
       "MSE       1.028974e+09\n",
       "RMSE      3.207763e+04\n",
       "MAE       2.277429e+04\n",
       "R2        8.209229e-01\n",
       "R2_adj    8.169911e-01\n",
       "dtype: float64"
      ]
     },
     "execution_count": 28,
     "metadata": {},
     "output_type": "execute_result"
    }
   ],
   "source": [
    "f1_metrics_rcv = pd.Series(big_metrics(y_test_validation, Z_test_preds, features1),index=metric_names)\n",
    "f1_metrics_rcv"
   ]
  },
  {
   "cell_type": "code",
   "execution_count": 29,
   "metadata": {},
   "outputs": [
    {
     "data": {
      "text/plain": [
       "(31941.92581264128, 31946.636151185918, 32077.627816421944, 79239.33504161824)"
      ]
     },
     "execution_count": 29,
     "metadata": {},
     "output_type": "execute_result"
    }
   ],
   "source": [
    "f1_metrics[2], f1_metrics_r[2], f1_metrics_rcv[2], rmse_null"
   ]
  },
  {
   "cell_type": "code",
   "execution_count": 30,
   "metadata": {},
   "outputs": [
    {
     "data": {
      "text/plain": [
       "overall_qual      26205.448081\n",
       "year_built         7935.802368\n",
       "year_remod/add     7773.871003\n",
       "mas_vnr_area       8064.937525\n",
       "total_bsmt_sf      6888.817077\n",
       "1st_flr_sf         7364.787214\n",
       "gr_liv_area       18819.901729\n",
       "full_bath         -1361.541544\n",
       "garage_yr_blt     -1583.584147\n",
       "garage_cars        6972.047774\n",
       "garage_area        6433.793926\n",
       "dtype: float64"
      ]
     },
     "execution_count": 30,
     "metadata": {},
     "output_type": "execute_result"
    }
   ],
   "source": [
    "pd.Series(ridge_cv.coef_,index=features1)"
   ]
  },
  {
   "cell_type": "markdown",
   "metadata": {},
   "source": [
    "# We can also LassoCV"
   ]
  },
  {
   "cell_type": "code",
   "execution_count": 31,
   "metadata": {},
   "outputs": [],
   "source": [
    "l_alphas = np.logspace(1, 0, 100)\n",
    "# Instantiate\n",
    "lasso_cv = LassoCV(alphas=l_alphas, cv=5, max_iter=50000)\n",
    "# Fit\n",
    "lasso_cv.fit(Z_train, y_train_validation);"
   ]
  },
  {
   "cell_type": "code",
   "execution_count": 32,
   "metadata": {},
   "outputs": [
    {
     "data": {
      "text/plain": [
       "9.54548456661834"
      ]
     },
     "execution_count": 32,
     "metadata": {},
     "output_type": "execute_result"
    }
   ],
   "source": [
    "lasso_cv.alpha_"
   ]
  },
  {
   "cell_type": "code",
   "execution_count": 33,
   "metadata": {},
   "outputs": [
    {
     "name": "stdout",
     "output_type": "stream",
     "text": [
      "0.7925239474551466\n",
      "0.8224310871378363\n"
     ]
    }
   ],
   "source": [
    "print(lasso_cv.score(Z_train, y_train_validation))\n",
    "print(lasso_cv.score(Z_test, y_test_validation))"
   ]
  },
  {
   "cell_type": "code",
   "execution_count": 34,
   "metadata": {},
   "outputs": [
    {
     "data": {
      "text/plain": [
       "array([164369.05259128, 343167.8241581 , 164323.20754674, 159374.80568804,\n",
       "       183747.67484936])"
      ]
     },
     "execution_count": 34,
     "metadata": {},
     "output_type": "execute_result"
    }
   ],
   "source": [
    "Z_test_preds = lasso_cv.predict(Z_test)\n",
    "Z_test_preds[:5]"
   ]
  },
  {
   "cell_type": "code",
   "execution_count": 35,
   "metadata": {},
   "outputs": [
    {
     "data": {
      "text/plain": [
       "array([28407.57674559,  9009.3938593 ,  7752.6913927 ,  7721.01169798,\n",
       "        6396.21145898,  7052.61505885, 20202.16313906, -2713.92777713,\n",
       "       -2998.62290198,  6328.74151544,  6814.20418289])"
      ]
     },
     "execution_count": 35,
     "metadata": {},
     "output_type": "execute_result"
    }
   ],
   "source": [
    "lasso_cv.coef_"
   ]
  },
  {
   "cell_type": "code",
   "execution_count": 36,
   "metadata": {},
   "outputs": [
    {
     "data": {
      "text/plain": [
       "SSE       5.234182e+11\n",
       "MSE       1.020308e+09\n",
       "RMSE      3.194227e+04\n",
       "MAE       2.297518e+04\n",
       "R2        8.224311e-01\n",
       "R2_adj    8.185324e-01\n",
       "dtype: float64"
      ]
     },
     "execution_count": 36,
     "metadata": {},
     "output_type": "execute_result"
    }
   ],
   "source": [
    "f1_metrics_lasso = pd.Series(big_metrics(y_test_validation, Z_test_preds, features1),index=metric_names)\n",
    "f1_metrics_lasso"
   ]
  },
  {
   "cell_type": "code",
   "execution_count": 37,
   "metadata": {},
   "outputs": [
    {
     "data": {
      "text/plain": [
       "(31942.265725580957,\n",
       " 31941.92581264128,\n",
       " 31946.636151185918,\n",
       " 32077.627816421944,\n",
       " 79239.33504161824)"
      ]
     },
     "execution_count": 37,
     "metadata": {},
     "output_type": "execute_result"
    }
   ],
   "source": [
    "f1_metrics_lasso[2], f1_metrics[2], f1_metrics_r[2], f1_metrics_rcv[2], rmse_null"
   ]
  },
  {
   "cell_type": "code",
   "execution_count": 38,
   "metadata": {},
   "outputs": [
    {
     "data": {
      "text/plain": [
       "overall_qual      28407.576746\n",
       "year_built         9009.393859\n",
       "year_remod/add     7752.691393\n",
       "mas_vnr_area       7721.011698\n",
       "total_bsmt_sf      6396.211459\n",
       "1st_flr_sf         7052.615059\n",
       "gr_liv_area       20202.163139\n",
       "full_bath         -2713.927777\n",
       "garage_yr_blt     -2998.622902\n",
       "garage_cars        6328.741515\n",
       "garage_area        6814.204183\n",
       "dtype: float64"
      ]
     },
     "execution_count": 38,
     "metadata": {},
     "output_type": "execute_result"
    }
   ],
   "source": [
    "pd.Series(lasso_cv.coef_,index=features1)"
   ]
  },
  {
   "cell_type": "code",
   "execution_count": 39,
   "metadata": {},
   "outputs": [
    {
     "data": {
      "text/plain": [
       "(1538, 11)"
      ]
     },
     "execution_count": 39,
     "metadata": {},
     "output_type": "execute_result"
    }
   ],
   "source": [
    "X_train_validation.shape"
   ]
  },
  {
   "cell_type": "markdown",
   "metadata": {},
   "source": [
    "All of the models did better than the null, but the best one was the LinearRegression model."
   ]
  },
  {
   "cell_type": "markdown",
   "metadata": {},
   "source": [
    "Now that we have computed that for our first set of features, the next set of features will follow the same route.\n",
    "\n",
    "---\n",
    "# Feature Set 2"
   ]
  },
  {
   "cell_type": "code",
   "execution_count": 40,
   "metadata": {},
   "outputs": [],
   "source": [
    "# Features\n",
    "features2 = ['ms_subclass',\n",
    "\n",
    "  'neighborhood',\n",
    "  'bldg_type',\n",
    "  'house_style',\n",
    "  'overall_cond',\n",
    "  'year_built',\n",
    "\n",
    "  'heating_qc',\n",
    "  'central_air',\n",
    "  'electrical',\n",
    "  'full_bath',\n",
    "  'half_bath',\n",
    "  'bedroom_abvgr',\n",
    "  'kitchen_qual',\n",
    "  'totrms_abvgrd',\n",
    "  'functional',\n",
    "  'fireplaces',\n",
    "  'garage_cars',\n",
    "  'garage_qual',\n",
    "  'garage_cond',\n",
    "  'mo_sold',\n",
    "  'yr_sold',\n",
    "  'sale_type']"
   ]
  },
  {
   "cell_type": "code",
   "execution_count": 41,
   "metadata": {},
   "outputs": [
    {
     "data": {
      "text/plain": [
       "['neighborhood',\n",
       " 'bldg_type',\n",
       " 'house_style',\n",
       " 'heating_qc',\n",
       " 'central_air',\n",
       " 'electrical',\n",
       " 'kitchen_qual',\n",
       " 'functional',\n",
       " 'garage_qual',\n",
       " 'garage_cond',\n",
       " 'sale_type']"
      ]
     },
     "execution_count": 41,
     "metadata": {},
     "output_type": "execute_result"
    }
   ],
   "source": [
    "# https://pandas.pydata.org/pandas-docs/stable/reference/api/pandas.DataFrame.select_dtypes.html\n",
    "dummies_columns = list(clean_train[features2].select_dtypes(include='object'))\n",
    "dummies_columns"
   ]
  },
  {
   "cell_type": "code",
   "execution_count": 42,
   "metadata": {},
   "outputs": [],
   "source": [
    "X_train = clean_train[features2]\n",
    "X_test = clean_test[features2]\n",
    "y_train = clean_train['saleprice']"
   ]
  },
  {
   "cell_type": "code",
   "execution_count": 43,
   "metadata": {},
   "outputs": [],
   "source": [
    "# Make dummies because we have categorical variables\n",
    "X_train = pd.get_dummies(data=X_train, columns=dummies_columns)\n",
    "X_test = pd.get_dummies(data=X_test, columns=dummies_columns)"
   ]
  },
  {
   "cell_type": "code",
   "execution_count": 44,
   "metadata": {},
   "outputs": [
    {
     "data": {
      "text/plain": [
       "LinearRegression()"
      ]
     },
     "execution_count": 44,
     "metadata": {},
     "output_type": "execute_result"
    }
   ],
   "source": [
    "X_train_validation, X_test_validation, y_train_validation, y_test_validation = \\\n",
    "                train_test_split(X_train, y_train, random_state=69420)\n",
    "# Instatiate and fit the model\n",
    "lr = LinearRegression()\n",
    "lr.fit(X_train_validation, y_train_validation)"
   ]
  },
  {
   "cell_type": "code",
   "execution_count": 45,
   "metadata": {},
   "outputs": [
    {
     "data": {
      "text/plain": [
       "(0.8287125336393979, 0.8345724494443683)"
      ]
     },
     "execution_count": 45,
     "metadata": {},
     "output_type": "execute_result"
    }
   ],
   "source": [
    "lr.score(X_train_validation,y_train_validation), lr.score(X_test_validation,y_test_validation)"
   ]
  },
  {
   "cell_type": "code",
   "execution_count": 46,
   "metadata": {},
   "outputs": [
    {
     "data": {
      "text/plain": [
       "array([186833.12661567, 403152.85403427, 168639.78656847, 142373.98035003,\n",
       "       146796.53765383])"
      ]
     },
     "execution_count": 46,
     "metadata": {},
     "output_type": "execute_result"
    }
   ],
   "source": [
    "preds = lr.predict(X_test_validation)\n",
    "preds[:5]"
   ]
  },
  {
   "cell_type": "code",
   "execution_count": 47,
   "metadata": {},
   "outputs": [
    {
     "data": {
      "text/plain": [
       "SSE       4.876292e+11\n",
       "MSE       9.505443e+08\n",
       "RMSE      3.083090e+04\n",
       "MAE       2.258889e+04\n",
       "R2        8.345724e-01\n",
       "R2_adj    8.271451e-01\n",
       "dtype: float64"
      ]
     },
     "execution_count": 47,
     "metadata": {},
     "output_type": "execute_result"
    }
   ],
   "source": [
    "f2_metrics = pd.Series(big_metrics(y_test_validation, preds, features2),index=metric_names)\n",
    "f2_metrics"
   ]
  },
  {
   "cell_type": "code",
   "execution_count": 48,
   "metadata": {},
   "outputs": [
    {
     "data": {
      "text/plain": [
       "(31941.92581264128, 30830.897683095838, 79239.33504161824)"
      ]
     },
     "execution_count": 48,
     "metadata": {},
     "output_type": "execute_result"
    }
   ],
   "source": [
    "f1_metrics[2], f2_metrics[2], rmse_null"
   ]
  },
  {
   "cell_type": "code",
   "execution_count": 49,
   "metadata": {},
   "outputs": [
    {
     "data": {
      "text/plain": [
       "ms_subclass               -93.871708\n",
       "overall_cond             6062.117989\n",
       "year_built                461.881873\n",
       "full_bath               17391.830566\n",
       "half_bath               11053.458720\n",
       "bedroom_abvgr           -2675.642632\n",
       "totrms_abvgrd            8636.575640\n",
       "fireplaces              16950.190376\n",
       "garage_cars             17887.167258\n",
       "mo_sold                   -48.719597\n",
       "yr_sold                  -366.154345\n",
       "neighborhood_Blmngtn   -15214.129744\n",
       "neighborhood_Blueste    -5091.724108\n",
       "neighborhood_BrDale     -1000.533649\n",
       "neighborhood_BrkSide   -17594.655101\n",
       "neighborhood_ClearCr    11210.790617\n",
       "neighborhood_CollgCr    -8910.520583\n",
       "neighborhood_Crawfor    14775.911623\n",
       "neighborhood_Edwards   -24211.112455\n",
       "neighborhood_Gilbert   -29237.040298\n",
       "neighborhood_Greens     36122.375018\n",
       "neighborhood_IDOTRR    -24042.155727\n",
       "neighborhood_MeadowV   -14308.319776\n",
       "neighborhood_Mitchel   -16399.435914\n",
       "neighborhood_NAmes     -16915.930058\n",
       "neighborhood_NPkVill   -11455.321313\n",
       "neighborhood_NWAmes    -14401.476128\n",
       "neighborhood_NoRidge    57464.934386\n",
       "neighborhood_NridgHt    50426.333929\n",
       "neighborhood_OldTown   -22935.177116\n",
       "neighborhood_SWISU     -14668.006700\n",
       "neighborhood_Sawyer    -23908.674605\n",
       "neighborhood_SawyerW   -15773.712992\n",
       "neighborhood_Somerst     5512.391607\n",
       "neighborhood_StoneBr    70289.898210\n",
       "neighborhood_Timber      6971.364859\n",
       "neighborhood_Veenker    23293.926017\n",
       "bldg_type_1Fam          12136.352637\n",
       "bldg_type_2fmCon        20147.554439\n",
       "bldg_type_Duplex       -12864.125275\n",
       "bldg_type_Twnhs        -14636.696881\n",
       "bldg_type_TwnhsE        -4783.084919\n",
       "house_style_1.5Fin      -3495.794605\n",
       "house_style_1.5Unf      -1182.157293\n",
       "house_style_1Story        316.728149\n",
       "house_style_2.5Fin       1229.902460\n",
       "house_style_2.5Unf      16017.337724\n",
       "house_style_2Story     -11772.518415\n",
       "house_style_SFoyer       6119.756852\n",
       "house_style_SLvl        -7233.254873\n",
       "heating_qc_Ex            3345.520623\n",
       "heating_qc_Fa           -1279.237739\n",
       "heating_qc_Gd             675.554367\n",
       "heating_qc_TA           -2741.837251\n",
       "central_air_N           -2831.735200\n",
       "central_air_Y            2831.735200\n",
       "electrical_Fuse           603.137355\n",
       "electrical_Mix          -3880.865569\n",
       "electrical_Sbrkr         3277.728215\n",
       "kitchen_qual_Ex         54500.813067\n",
       "kitchen_qual_Fa        -26363.305023\n",
       "kitchen_qual_Gd         -8420.117564\n",
       "kitchen_qual_TA        -19717.390479\n",
       "functional_Maj          -9293.839257\n",
       "functional_Min          -2669.048178\n",
       "functional_Mod           2398.987412\n",
       "functional_Typ           9563.900023\n",
       "garage_qual_Fa         -33400.199366\n",
       "garage_qual_Gd          40742.301040\n",
       "garage_qual_Po          -3880.865569\n",
       "garage_qual_TA         -33734.826691\n",
       "garage_cond_Ex         -52616.422630\n",
       "garage_cond_Fa           9023.345491\n",
       "garage_cond_Gd          -2868.250220\n",
       "garage_cond_Po            260.969219\n",
       "garage_cond_TA          15926.767553\n",
       "sale_type_COD          -13725.986985\n",
       "sale_type_CWD           -4345.826775\n",
       "sale_type_Con           38230.576664\n",
       "sale_type_ConLD         -1232.161514\n",
       "sale_type_ConLI         -6213.636296\n",
       "sale_type_ConLw         -8076.865504\n",
       "sale_type_New            2373.997083\n",
       "sale_type_Oth           -1184.167264\n",
       "sale_type_WD            -5825.929408\n",
       "dtype: float64"
      ]
     },
     "execution_count": 49,
     "metadata": {},
     "output_type": "execute_result"
    }
   ],
   "source": [
    "pd.Series(lr.coef_,index=X_train.columns)"
   ]
  },
  {
   "cell_type": "code",
   "execution_count": 50,
   "metadata": {},
   "outputs": [
    {
     "data": {
      "text/plain": [
       "(1538, 85)"
      ]
     },
     "execution_count": 50,
     "metadata": {},
     "output_type": "execute_result"
    }
   ],
   "source": [
    "X_train_validation.shape"
   ]
  },
  {
   "cell_type": "markdown",
   "metadata": {},
   "source": [
    "The second model has gotten better but not by much.\n",
    "\n",
    "---\n",
    "\n",
    "# Feature Set 3"
   ]
  },
  {
   "cell_type": "code",
   "execution_count": 51,
   "metadata": {},
   "outputs": [],
   "source": [
    "features3 = ['ms_subclass',\n",
    "  'street',\n",
    "  'alley',\n",
    "  'neighborhood',\n",
    "  'bldg_type',\n",
    "  'house_style',\n",
    "  'overall_qual',\n",
    "  'overall_cond',\n",
    "  'year_built',\n",
    "  'bsmt_qual',\n",
    "  'bsmt_cond',\n",
    "  'heating_qc',\n",
    "  'central_air',\n",
    "  'electrical',\n",
    "  'full_bath',\n",
    "  'half_bath',\n",
    "  'bedroom_abvgr',\n",
    "  'kitchen_qual',\n",
    "  'totrms_abvgrd',\n",
    "  'functional',\n",
    "  'fireplaces',\n",
    "  'garage_cars',\n",
    "  'garage_qual',\n",
    "  'garage_cond',\n",
    "  'mo_sold',\n",
    "  'yr_sold',\n",
    "  'sale_type']"
   ]
  },
  {
   "cell_type": "code",
   "execution_count": 52,
   "metadata": {},
   "outputs": [
    {
     "data": {
      "text/plain": [
       "['street',\n",
       " 'alley',\n",
       " 'neighborhood',\n",
       " 'bldg_type',\n",
       " 'house_style',\n",
       " 'bsmt_qual',\n",
       " 'bsmt_cond',\n",
       " 'heating_qc',\n",
       " 'central_air',\n",
       " 'electrical',\n",
       " 'kitchen_qual',\n",
       " 'functional',\n",
       " 'garage_qual',\n",
       " 'garage_cond',\n",
       " 'sale_type']"
      ]
     },
     "execution_count": 52,
     "metadata": {},
     "output_type": "execute_result"
    }
   ],
   "source": [
    "# https://pandas.pydata.org/pandas-docs/stable/reference/api/pandas.DataFrame.select_dtypes.html\n",
    "dummies_columns = list(clean_train[features3].select_dtypes(include='object'))\n",
    "dummies_columns"
   ]
  },
  {
   "cell_type": "code",
   "execution_count": 53,
   "metadata": {},
   "outputs": [],
   "source": [
    "X_train = clean_train[features3]\n",
    "X_test = clean_test[features3]\n",
    "y_train = clean_train['saleprice']"
   ]
  },
  {
   "cell_type": "code",
   "execution_count": 54,
   "metadata": {},
   "outputs": [],
   "source": [
    "# Make dummies because we have categorical variables\n",
    "X_train = pd.get_dummies(data=X_train, columns=dummies_columns)\n",
    "X_test = pd.get_dummies(data=X_test, columns=dummies_columns)"
   ]
  },
  {
   "cell_type": "code",
   "execution_count": 55,
   "metadata": {},
   "outputs": [
    {
     "data": {
      "text/plain": [
       "LinearRegression()"
      ]
     },
     "execution_count": 55,
     "metadata": {},
     "output_type": "execute_result"
    }
   ],
   "source": [
    "X_train_validation, X_test_validation, y_train_validation, y_test_validation = \\\n",
    "                train_test_split(X_train, y_train, random_state=69)\n",
    "# Instatiate and fit the model\n",
    "lr = LinearRegression()\n",
    "lr.fit(X_train_validation, y_train_validation)"
   ]
  },
  {
   "cell_type": "code",
   "execution_count": 56,
   "metadata": {},
   "outputs": [
    {
     "data": {
      "text/plain": [
       "(0.8674697211050928, 0.8172156954875349)"
      ]
     },
     "execution_count": 56,
     "metadata": {},
     "output_type": "execute_result"
    }
   ],
   "source": [
    "lr.score(X_train_validation,y_train_validation), lr.score(X_test_validation, y_test_validation)"
   ]
  },
  {
   "cell_type": "code",
   "execution_count": 57,
   "metadata": {},
   "outputs": [
    {
     "data": {
      "text/plain": [
       "array([147452.75, 109926.25, 176755.25, 138815.75,  97104.25])"
      ]
     },
     "execution_count": 57,
     "metadata": {},
     "output_type": "execute_result"
    }
   ],
   "source": [
    "preds = lr.predict(X_test_validation)\n",
    "preds[:5]"
   ]
  },
  {
   "cell_type": "code",
   "execution_count": 58,
   "metadata": {},
   "outputs": [
    {
     "data": {
      "text/plain": [
       "SSE       5.946239e+11\n",
       "MSE       1.159111e+09\n",
       "RMSE      3.404572e+04\n",
       "MAE       2.279685e+04\n",
       "R2        8.172157e-01\n",
       "R2_adj    8.070401e-01\n",
       "dtype: float64"
      ]
     },
     "execution_count": 58,
     "metadata": {},
     "output_type": "execute_result"
    }
   ],
   "source": [
    "f3_metrics = pd.Series(big_metrics(y_test_validation, preds, features3),index=metric_names)\n",
    "f3_metrics"
   ]
  },
  {
   "cell_type": "code",
   "execution_count": 59,
   "metadata": {},
   "outputs": [
    {
     "data": {
      "text/plain": [
       "(34045.718222792704, 30830.897683095838, 31941.92581264128, 79239.33504161824)"
      ]
     },
     "execution_count": 59,
     "metadata": {},
     "output_type": "execute_result"
    }
   ],
   "source": [
    "f3_metrics[2], f2_metrics[2], f1_metrics[2], rmse_null "
   ]
  },
  {
   "cell_type": "code",
   "execution_count": 60,
   "metadata": {},
   "outputs": [
    {
     "data": {
      "text/plain": [
       "ms_subclass            -1.146746e+02\n",
       "overall_qual            1.307566e+04\n",
       "overall_cond            4.903706e+03\n",
       "year_built              2.696322e+02\n",
       "full_bath               1.395788e+04\n",
       "half_bath               1.047157e+04\n",
       "bedroom_abvgr          -1.052034e+03\n",
       "totrms_abvgrd           6.845065e+03\n",
       "fireplaces              1.314588e+04\n",
       "garage_cars             1.593366e+04\n",
       "mo_sold                -2.487169e+02\n",
       "yr_sold                -1.933224e+02\n",
       "street_Grvl             1.582520e+13\n",
       "street_Pave             1.582520e+13\n",
       "alley_Grvl             -1.857903e+02\n",
       "alley_Pave              5.050988e+03\n",
       "neighborhood_Blmngtn   -4.242468e+13\n",
       "neighborhood_Blueste   -4.242468e+13\n",
       "neighborhood_BrDale    -4.242468e+13\n",
       "neighborhood_BrkSide   -4.242468e+13\n",
       "neighborhood_ClearCr   -4.242468e+13\n",
       "neighborhood_CollgCr   -4.242468e+13\n",
       "neighborhood_Crawfor   -4.242468e+13\n",
       "neighborhood_Edwards   -4.242468e+13\n",
       "neighborhood_Gilbert   -4.242468e+13\n",
       "neighborhood_Greens    -4.242468e+13\n",
       "neighborhood_IDOTRR    -4.242468e+13\n",
       "neighborhood_MeadowV   -4.242468e+13\n",
       "neighborhood_Mitchel   -4.242468e+13\n",
       "neighborhood_NAmes     -4.242468e+13\n",
       "neighborhood_NPkVill   -4.242468e+13\n",
       "neighborhood_NWAmes    -4.242468e+13\n",
       "neighborhood_NoRidge   -4.242468e+13\n",
       "neighborhood_NridgHt   -4.242468e+13\n",
       "neighborhood_OldTown   -4.242468e+13\n",
       "neighborhood_SWISU     -4.242468e+13\n",
       "neighborhood_Sawyer    -4.242468e+13\n",
       "neighborhood_SawyerW   -4.242468e+13\n",
       "neighborhood_Somerst   -4.242468e+13\n",
       "neighborhood_StoneBr   -4.242468e+13\n",
       "neighborhood_Timber    -4.242468e+13\n",
       "neighborhood_Veenker   -4.242468e+13\n",
       "bldg_type_1Fam         -2.510247e+15\n",
       "bldg_type_2fmCon       -2.510247e+15\n",
       "bldg_type_Duplex       -2.510247e+15\n",
       "bldg_type_Twnhs        -2.510247e+15\n",
       "bldg_type_TwnhsE       -2.510247e+15\n",
       "house_style_1.5Fin      2.632029e+14\n",
       "house_style_1.5Unf      2.632029e+14\n",
       "house_style_1Story      2.632029e+14\n",
       "house_style_2.5Fin      2.632029e+14\n",
       "house_style_2.5Unf      2.632029e+14\n",
       "house_style_2Story      2.632029e+14\n",
       "house_style_SFoyer      2.632029e+14\n",
       "house_style_SLvl        2.632029e+14\n",
       "bsmt_qual_Ex           -6.151933e+13\n",
       "bsmt_qual_Fa           -6.151933e+13\n",
       "bsmt_qual_Gd           -6.151933e+13\n",
       "bsmt_qual_Po           -6.151933e+13\n",
       "bsmt_qual_TA           -6.151933e+13\n",
       "bsmt_cond_Avg           6.151933e+13\n",
       "bsmt_cond_Gd            6.151933e+13\n",
       "heating_qc_Ex           7.126903e+13\n",
       "heating_qc_Fa           7.126903e+13\n",
       "heating_qc_Gd           7.126903e+13\n",
       "heating_qc_TA           7.126903e+13\n",
       "central_air_N           3.438697e+13\n",
       "central_air_Y           3.438697e+13\n",
       "electrical_Fuse         6.472223e+13\n",
       "electrical_Mix          6.472223e+13\n",
       "electrical_Sbrkr        6.472223e+13\n",
       "kitchen_qual_Ex         4.184368e+14\n",
       "kitchen_qual_Fa         4.184368e+14\n",
       "kitchen_qual_Gd         4.184368e+14\n",
       "kitchen_qual_TA         4.184368e+14\n",
       "functional_Maj         -1.856528e+14\n",
       "functional_Min         -1.856528e+14\n",
       "functional_Mod         -1.856528e+14\n",
       "functional_Typ         -1.856528e+14\n",
       "garage_qual_Fa         -9.771077e+13\n",
       "garage_qual_Gd         -9.771077e+13\n",
       "garage_qual_Po         -9.771077e+13\n",
       "garage_qual_TA         -9.771077e+13\n",
       "garage_cond_Ex          9.771077e+13\n",
       "garage_cond_Fa          9.771077e+13\n",
       "garage_cond_Gd          9.771077e+13\n",
       "garage_cond_Po          9.771077e+13\n",
       "garage_cond_TA          9.771077e+13\n",
       "sale_type_COD          -4.393825e+13\n",
       "sale_type_CWD          -4.393825e+13\n",
       "sale_type_Con          -4.393825e+13\n",
       "sale_type_ConLD        -4.393825e+13\n",
       "sale_type_ConLI        -4.393825e+13\n",
       "sale_type_ConLw        -4.393825e+13\n",
       "sale_type_New          -4.393825e+13\n",
       "sale_type_Oth          -4.393825e+13\n",
       "sale_type_WD           -4.393825e+13\n",
       "dtype: float64"
      ]
     },
     "execution_count": 60,
     "metadata": {},
     "output_type": "execute_result"
    }
   ],
   "source": [
    "pd.Series(lr.coef_,index=X_train.columns)"
   ]
  },
  {
   "cell_type": "code",
   "execution_count": 61,
   "metadata": {},
   "outputs": [
    {
     "data": {
      "text/plain": [
       "(1538, 97)"
      ]
     },
     "execution_count": 61,
     "metadata": {},
     "output_type": "execute_result"
    }
   ],
   "source": [
    "X_train_validation.shape"
   ]
  },
  {
   "cell_type": "markdown",
   "metadata": {},
   "source": [
    "My third model is the worst.\n",
    "\n",
    "---"
   ]
  },
  {
   "cell_type": "markdown",
   "metadata": {},
   "source": [
    "# Feature Set 4"
   ]
  },
  {
   "cell_type": "code",
   "execution_count": 62,
   "metadata": {},
   "outputs": [],
   "source": [
    "features4 = ['ms_subclass',\n",
    "  'street',\n",
    "  'alley',\n",
    "  'neighborhood',\n",
    "  'bldg_type',\n",
    "  'house_style',\n",
    "  'overall_qual',\n",
    "  'overall_cond',\n",
    "  'year_built',\n",
    "  'year_remod/add',\n",
    "  'bsmt_qual',\n",
    "  'bsmt_cond',\n",
    "  'total_bsmt_sf',\n",
    "  'heating_qc',\n",
    "  'central_air',\n",
    "  'electrical',\n",
    "  '1st_flr_sf',\n",
    "  'gr_liv_area',\n",
    "  'full_bath',\n",
    "  'half_bath',\n",
    "  'bedroom_abvgr',\n",
    "  'kitchen_qual',\n",
    "  'totrms_abvgrd',\n",
    "  'functional',\n",
    "  'fireplaces',\n",
    "  'garage_yr_blt',\n",
    "  'garage_cars',\n",
    "  'garage_area',\n",
    "  'garage_qual',\n",
    "  'garage_cond',\n",
    "  'mo_sold',\n",
    "  'yr_sold',\n",
    "  'sale_type']"
   ]
  },
  {
   "cell_type": "code",
   "execution_count": 63,
   "metadata": {},
   "outputs": [
    {
     "data": {
      "text/plain": [
       "['street',\n",
       " 'alley',\n",
       " 'neighborhood',\n",
       " 'bldg_type',\n",
       " 'house_style',\n",
       " 'bsmt_qual',\n",
       " 'bsmt_cond',\n",
       " 'heating_qc',\n",
       " 'central_air',\n",
       " 'electrical',\n",
       " 'kitchen_qual',\n",
       " 'functional',\n",
       " 'garage_qual',\n",
       " 'garage_cond',\n",
       " 'sale_type']"
      ]
     },
     "execution_count": 63,
     "metadata": {},
     "output_type": "execute_result"
    }
   ],
   "source": [
    "# https://pandas.pydata.org/pandas-docs/stable/reference/api/pandas.DataFrame.select_dtypes.html\n",
    "dummies_columns = list(clean_train[features4].select_dtypes(include='object'))\n",
    "dummies_columns"
   ]
  },
  {
   "cell_type": "code",
   "execution_count": 64,
   "metadata": {},
   "outputs": [],
   "source": [
    "X_train = clean_train[features4]\n",
    "X_test = clean_test[features4]\n",
    "y_train = clean_train['saleprice']"
   ]
  },
  {
   "cell_type": "code",
   "execution_count": 65,
   "metadata": {},
   "outputs": [],
   "source": [
    "# Make dummies because we have categorical variables\n",
    "X_train = pd.get_dummies(data=X_train, columns=dummies_columns)\n",
    "X_test = pd.get_dummies(data=X_test, columns=dummies_columns)"
   ]
  },
  {
   "cell_type": "code",
   "execution_count": 66,
   "metadata": {},
   "outputs": [
    {
     "data": {
      "text/plain": [
       "LinearRegression()"
      ]
     },
     "execution_count": 66,
     "metadata": {},
     "output_type": "execute_result"
    }
   ],
   "source": [
    "X_train_validation, X_test_validation, y_train_validation, y_test_validation = \\\n",
    "                train_test_split(X_train, y_train, random_state=69)\n",
    "# Instatiate and fit the model\n",
    "lr = LinearRegression()\n",
    "lr.fit(X_train_validation, y_train_validation)"
   ]
  },
  {
   "cell_type": "code",
   "execution_count": 67,
   "metadata": {},
   "outputs": [
    {
     "data": {
      "text/plain": [
       "(0.8898429449547527, 0.8324550014648933)"
      ]
     },
     "execution_count": 67,
     "metadata": {},
     "output_type": "execute_result"
    }
   ],
   "source": [
    "lr.score(X_train_validation,y_train_validation), lr.score(X_test_validation, y_test_validation)"
   ]
  },
  {
   "cell_type": "code",
   "execution_count": 68,
   "metadata": {},
   "outputs": [
    {
     "data": {
      "text/plain": [
       "array([173492.07602443, 105405.20246085, 175318.17733791, 185332.60473552,\n",
       "        97978.29929928])"
      ]
     },
     "execution_count": 68,
     "metadata": {},
     "output_type": "execute_result"
    }
   ],
   "source": [
    "preds = lr.predict(X_test_validation)\n",
    "preds[:5]"
   ]
  },
  {
   "cell_type": "code",
   "execution_count": 69,
   "metadata": {},
   "outputs": [
    {
     "data": {
      "text/plain": [
       "SSE       5.450482e+11\n",
       "MSE       1.062472e+09\n",
       "RMSE      3.259559e+04\n",
       "MAE       1.973766e+04\n",
       "R2        8.324550e-01\n",
       "R2_adj    8.209122e-01\n",
       "dtype: float64"
      ]
     },
     "execution_count": 69,
     "metadata": {},
     "output_type": "execute_result"
    }
   ],
   "source": [
    "f4_metrics = pd.Series(big_metrics(y_test_validation, preds, features4),index=metric_names)\n",
    "f4_metrics"
   ]
  },
  {
   "cell_type": "code",
   "execution_count": 70,
   "metadata": {},
   "outputs": [
    {
     "data": {
      "text/plain": [
       "(32595.58532312685,\n",
       " 34045.718222792704,\n",
       " 30830.897683095838,\n",
       " 31941.92581264128,\n",
       " 79239.33504161824)"
      ]
     },
     "execution_count": 70,
     "metadata": {},
     "output_type": "execute_result"
    }
   ],
   "source": [
    "f4_metrics[2], f3_metrics[2], f2_metrics[2], f1_metrics[2], rmse_null "
   ]
  },
  {
   "cell_type": "code",
   "execution_count": 71,
   "metadata": {},
   "outputs": [
    {
     "data": {
      "text/plain": [
       "ms_subclass              -168.447166\n",
       "overall_qual             9576.490185\n",
       "overall_cond             5586.831510\n",
       "year_built                374.672628\n",
       "year_remod/add             80.150149\n",
       "total_bsmt_sf              14.624137\n",
       "1st_flr_sf                 -2.965972\n",
       "gr_liv_area                49.146851\n",
       "full_bath                4499.193567\n",
       "half_bath                5146.743645\n",
       "bedroom_abvgr           -3535.562464\n",
       "totrms_abvgrd            -163.833591\n",
       "fireplaces               7051.975308\n",
       "garage_yr_blt            -116.274295\n",
       "garage_cars              9475.924157\n",
       "garage_area                16.384405\n",
       "mo_sold                   -32.446462\n",
       "yr_sold                  -418.633301\n",
       "street_Grvl             -5426.056922\n",
       "street_Pave              5426.056922\n",
       "alley_Grvl               2227.058808\n",
       "alley_Pave               2541.547685\n",
       "neighborhood_Blmngtn     1745.555244\n",
       "neighborhood_Blueste     -408.481653\n",
       "neighborhood_BrDale      7538.967933\n",
       "neighborhood_BrkSide   -12037.184229\n",
       "neighborhood_ClearCr    15898.467102\n",
       "neighborhood_CollgCr    -7927.000045\n",
       "neighborhood_Crawfor     7162.072798\n",
       "neighborhood_Edwards   -17417.889979\n",
       "neighborhood_Gilbert   -13358.552062\n",
       "neighborhood_Greens     11607.014111\n",
       "neighborhood_IDOTRR    -17514.403693\n",
       "neighborhood_MeadowV     5369.175003\n",
       "neighborhood_Mitchel   -10450.678964\n",
       "neighborhood_NAmes     -10521.000965\n",
       "neighborhood_NPkVill      750.362581\n",
       "neighborhood_NWAmes    -16395.041744\n",
       "neighborhood_NoRidge    27921.833925\n",
       "neighborhood_NridgHt    32350.807866\n",
       "neighborhood_OldTown   -22229.124956\n",
       "neighborhood_SWISU     -17361.065351\n",
       "neighborhood_Sawyer    -11690.064915\n",
       "neighborhood_SawyerW   -11883.128332\n",
       "neighborhood_Somerst     2846.855855\n",
       "neighborhood_StoneBr    53284.836931\n",
       "neighborhood_Timber       286.044094\n",
       "neighborhood_Veenker     2431.623444\n",
       "bldg_type_1Fam           6393.956473\n",
       "bldg_type_2fmCon        26177.358722\n",
       "bldg_type_Duplex       -12135.687213\n",
       "bldg_type_Twnhs        -12744.443327\n",
       "bldg_type_TwnhsE        -7691.184655\n",
       "house_style_1.5Fin      -3271.593267\n",
       "house_style_1.5Unf      -6469.359290\n",
       "house_style_1Story       2794.655145\n",
       "house_style_2.5Fin      -6108.923227\n",
       "house_style_2.5Unf       2292.508487\n",
       "house_style_2Story      -5386.486151\n",
       "house_style_SFoyer      13041.312481\n",
       "house_style_SLvl         3107.885823\n",
       "bsmt_qual_Ex            19839.984542\n",
       "bsmt_qual_Fa            -5544.037519\n",
       "bsmt_qual_Gd            -4928.289036\n",
       "bsmt_qual_Po            -3520.722840\n",
       "bsmt_qual_TA            -6376.590587\n",
       "bsmt_cond_Avg           -1149.773158\n",
       "bsmt_cond_Gd              620.117718\n",
       "heating_qc_Ex            1879.553094\n",
       "heating_qc_Fa           -1128.844207\n",
       "heating_qc_Gd            1782.052296\n",
       "heating_qc_TA           -2532.761182\n",
       "central_air_N             528.058335\n",
       "central_air_Y            -528.058335\n",
       "electrical_Fuse         -4601.341135\n",
       "electrical_Mix           9505.879919\n",
       "electrical_Sbrkr        -4904.538784\n",
       "kitchen_qual_Ex         29693.132335\n",
       "kitchen_qual_Fa        -10946.366909\n",
       "kitchen_qual_Gd         -7241.294456\n",
       "kitchen_qual_TA        -11505.470970\n",
       "functional_Maj         -11536.153401\n",
       "functional_Min            545.927416\n",
       "functional_Mod           2271.624225\n",
       "functional_Typ           8718.601760\n",
       "garage_qual_Fa         -14096.912195\n",
       "garage_qual_Gd          22746.743574\n",
       "garage_qual_Po         -27974.911158\n",
       "garage_qual_TA         -11722.352005\n",
       "garage_cond_Ex         -24300.094373\n",
       "garage_cond_Fa          -2674.557463\n",
       "garage_cond_Gd         -10443.001238\n",
       "garage_cond_Po           2738.027774\n",
       "garage_cond_TA           3632.193516\n",
       "sale_type_COD          -14922.522275\n",
       "sale_type_CWD          -10719.960969\n",
       "sale_type_Con           24600.145894\n",
       "sale_type_ConLD          1836.243389\n",
       "sale_type_ConLI         -8025.413722\n",
       "sale_type_ConLw          8315.360052\n",
       "sale_type_New           -3651.520705\n",
       "sale_type_Oth            8405.799807\n",
       "sale_type_WD            -5838.131471\n",
       "dtype: float64"
      ]
     },
     "execution_count": 71,
     "metadata": {},
     "output_type": "execute_result"
    }
   ],
   "source": [
    "pd.Series(lr.coef_,index=X_train.columns)"
   ]
  },
  {
   "cell_type": "code",
   "execution_count": 72,
   "metadata": {},
   "outputs": [
    {
     "data": {
      "text/plain": [
       "(1538, 103)"
      ]
     },
     "execution_count": 72,
     "metadata": {},
     "output_type": "execute_result"
    }
   ],
   "source": [
    "X_train_validation.shape"
   ]
  },
  {
   "cell_type": "markdown",
   "metadata": {},
   "source": [
    "# Features Set 2 But some numeric features are treated as categorical"
   ]
  },
  {
   "cell_type": "code",
   "execution_count": 73,
   "metadata": {},
   "outputs": [],
   "source": [
    "features2s = ['ms_subclass',\n",
    "\n",
    "  'neighborhood',\n",
    "  'bldg_type',\n",
    "  'house_style',\n",
    "  'overall_cond',\n",
    "  'year_built',\n",
    "\n",
    "  'heating_qc',\n",
    "  'central_air',\n",
    "  'electrical',\n",
    "  'full_bath',\n",
    "  'half_bath',\n",
    "  'bedroom_abvgr',\n",
    "  'kitchen_qual',\n",
    "  'totrms_abvgrd',\n",
    "  'functional',\n",
    "  'fireplaces',\n",
    "  'garage_cars',\n",
    "  'garage_qual',\n",
    "  'garage_cond',\n",
    "  'mo_sold',\n",
    "  'yr_sold',\n",
    "  'sale_type']"
   ]
  },
  {
   "cell_type": "code",
   "execution_count": 74,
   "metadata": {},
   "outputs": [],
   "source": [
    "dummy_columns2s = [\n",
    "                'neighborhood',\n",
    "                'bldg_type',\n",
    "                'house_style',\n",
    "                'overall_cond',\n",
    "                'heating_qc',\n",
    "                'central_air',\n",
    "                'electrical',\n",
    "                'kitchen_qual',\n",
    "                'functional',\n",
    "                'garage_qual',\n",
    "                'garage_cond',\n",
    "                'sale_type']"
   ]
  },
  {
   "cell_type": "code",
   "execution_count": 75,
   "metadata": {},
   "outputs": [],
   "source": [
    "X_train = clean_train[features2s]\n",
    "X_test = clean_test[features2s]\n",
    "y_train = clean_train['saleprice']"
   ]
  },
  {
   "cell_type": "code",
   "execution_count": 76,
   "metadata": {},
   "outputs": [],
   "source": [
    "# Make dummies\n",
    "X_train = pd.get_dummies(data=X_train, columns=dummy_columns2s)\n",
    "X_test = pd.get_dummies(data=X_test, columns=dummy_columns2s)"
   ]
  },
  {
   "cell_type": "code",
   "execution_count": 77,
   "metadata": {},
   "outputs": [
    {
     "data": {
      "text/plain": [
       "LinearRegression()"
      ]
     },
     "execution_count": 77,
     "metadata": {},
     "output_type": "execute_result"
    }
   ],
   "source": [
    "X_train_validation, X_test_validation, y_train_validation, y_test_validation = \\\n",
    "                train_test_split(X_train, y_train, random_state=69)\n",
    "# Instatiate and fit the model\n",
    "lr = LinearRegression()\n",
    "lr.fit(X_train_validation, y_train_validation)"
   ]
  },
  {
   "cell_type": "code",
   "execution_count": 78,
   "metadata": {},
   "outputs": [
    {
     "data": {
      "text/plain": [
       "(0.843551729993486, 0.7914930814336835)"
      ]
     },
     "execution_count": 78,
     "metadata": {},
     "output_type": "execute_result"
    }
   ],
   "source": [
    "lr.score(X_train_validation,y_train_validation), lr.score(X_test_validation, y_test_validation)"
   ]
  },
  {
   "cell_type": "code",
   "execution_count": 79,
   "metadata": {},
   "outputs": [
    {
     "data": {
      "text/plain": [
       "array([154309.56781076, 108952.06234413, 179649.88032277, 151666.87657353,\n",
       "        96817.13266452,  85781.79616661, 242343.46362064, 156902.11484486,\n",
       "       128501.56029976, 192426.85435061])"
      ]
     },
     "execution_count": 79,
     "metadata": {},
     "output_type": "execute_result"
    }
   ],
   "source": [
    "# now find y_pred or y_test\n",
    "preds = lr.predict(X_test_validation)\n",
    "preds[:10]"
   ]
  },
  {
   "cell_type": "code",
   "execution_count": 80,
   "metadata": {},
   "outputs": [
    {
     "data": {
      "text/plain": [
       "SSE       6.783033e+11\n",
       "MSE       1.322229e+09\n",
       "RMSE      3.636246e+04\n",
       "MAE       2.494088e+04\n",
       "R2        7.914931e-01\n",
       "R2_adj    7.821315e-01\n",
       "dtype: float64"
      ]
     },
     "execution_count": 80,
     "metadata": {},
     "output_type": "execute_result"
    }
   ],
   "source": [
    "f1s_metrics = pd.Series(big_metrics(y_test_validation, preds, features2s),index=metric_names)\n",
    "f1s_metrics"
   ]
  },
  {
   "cell_type": "code",
   "execution_count": 81,
   "metadata": {},
   "outputs": [
    {
     "data": {
      "text/plain": [
       "(36362.46239746164,\n",
       " 32595.58532312685,\n",
       " 34045.718222792704,\n",
       " 30830.897683095838,\n",
       " 31941.92581264128,\n",
       " 79239.33504161824)"
      ]
     },
     "execution_count": 81,
     "metadata": {},
     "output_type": "execute_result"
    }
   ],
   "source": [
    "f1s_metrics[2], f4_metrics[2], f3_metrics[2], f2_metrics[2], f1_metrics[2], rmse_null "
   ]
  },
  {
   "cell_type": "markdown",
   "metadata": {},
   "source": [
    "It seems my model has worsen."
   ]
  },
  {
   "cell_type": "code",
   "execution_count": 82,
   "metadata": {},
   "outputs": [
    {
     "data": {
      "text/plain": [
       "ms_subclass              -161.353332\n",
       "year_built                487.845978\n",
       "full_bath               16466.220281\n",
       "half_bath               11734.572141\n",
       "bedroom_abvgr           -2313.964209\n",
       "totrms_abvgrd            8502.163736\n",
       "fireplaces              17449.625002\n",
       "garage_cars             20979.553431\n",
       "mo_sold                  -199.573963\n",
       "yr_sold                  -362.462964\n",
       "neighborhood_Blmngtn   -11646.357949\n",
       "neighborhood_Blueste    -2095.459710\n",
       "neighborhood_BrDale      4015.147291\n",
       "neighborhood_BrkSide   -14590.512852\n",
       "neighborhood_ClearCr    17800.171382\n",
       "neighborhood_CollgCr   -13757.449421\n",
       "neighborhood_Crawfor     9047.027887\n",
       "neighborhood_Edwards   -18882.069859\n",
       "neighborhood_Gilbert   -34423.231345\n",
       "neighborhood_Greens     37498.250639\n",
       "neighborhood_IDOTRR    -20103.668654\n",
       "neighborhood_MeadowV    -1295.647748\n",
       "neighborhood_Mitchel   -16610.515431\n",
       "neighborhood_NAmes     -15043.093330\n",
       "neighborhood_NPkVill    -8270.319328\n",
       "neighborhood_NWAmes    -18645.260742\n",
       "neighborhood_NoRidge    45014.818255\n",
       "neighborhood_NridgHt    44332.629278\n",
       "neighborhood_OldTown   -20543.520844\n",
       "neighborhood_SWISU      -9020.674956\n",
       "neighborhood_Sawyer    -21810.338460\n",
       "neighborhood_SawyerW   -19006.684761\n",
       "neighborhood_Somerst     1377.963933\n",
       "neighborhood_StoneBr    74187.771483\n",
       "neighborhood_Timber      -144.321275\n",
       "neighborhood_Veenker    12615.346517\n",
       "bldg_type_1Fam          11232.896463\n",
       "bldg_type_2fmCon        27480.162981\n",
       "bldg_type_Duplex       -20618.401354\n",
       "bldg_type_Twnhs        -13534.720814\n",
       "bldg_type_TwnhsE        -4559.937275\n",
       "house_style_1.5Fin      -6648.082653\n",
       "house_style_1.5Unf      -7705.893545\n",
       "house_style_1Story      -2499.638299\n",
       "house_style_2.5Fin      20944.235864\n",
       "house_style_2.5Unf       9786.814933\n",
       "house_style_2Story     -10551.051310\n",
       "house_style_SFoyer       3331.469203\n",
       "house_style_SLvl        -6657.854193\n",
       "overall_cond_1          -8503.954968\n",
       "overall_cond_2         -37560.859834\n",
       "overall_cond_3         -26449.376148\n",
       "overall_cond_4          -3573.110784\n",
       "overall_cond_5           5020.661599\n",
       "overall_cond_6           5439.082201\n",
       "overall_cond_7          12064.354485\n",
       "overall_cond_8          21554.015499\n",
       "overall_cond_9          32009.187949\n",
       "heating_qc_Ex            2247.190617\n",
       "heating_qc_Fa           -1230.109313\n",
       "heating_qc_Gd            1957.214365\n",
       "heating_qc_TA           -2974.295668\n",
       "central_air_N           -2921.789562\n",
       "central_air_Y            2921.789562\n",
       "electrical_Fuse        -13310.763403\n",
       "electrical_Mix          27075.798921\n",
       "electrical_Sbrkr       -13765.035518\n",
       "kitchen_qual_Ex         52137.780972\n",
       "kitchen_qual_Fa        -22312.076833\n",
       "kitchen_qual_Gd         -8592.808229\n",
       "kitchen_qual_TA        -21232.895909\n",
       "functional_Maj         -11156.348353\n",
       "functional_Min          -1505.137254\n",
       "functional_Mod           2767.088619\n",
       "functional_Typ           9894.396987\n",
       "garage_qual_Fa         -25152.410008\n",
       "garage_qual_Gd          21525.443358\n",
       "garage_qual_Po         -21361.859215\n",
       "garage_qual_TA         -28480.060829\n",
       "garage_cond_Ex         -35115.893296\n",
       "garage_cond_Fa          -8588.205761\n",
       "garage_cond_Gd          -6555.515156\n",
       "garage_cond_Po         -10592.841736\n",
       "garage_cond_TA           7383.569255\n",
       "sale_type_COD          -11588.172591\n",
       "sale_type_CWD           -7541.973370\n",
       "sale_type_Con           19798.663095\n",
       "sale_type_ConLD          2813.735193\n",
       "sale_type_ConLI         -6010.235534\n",
       "sale_type_ConLw          8711.731510\n",
       "sale_type_New            1281.258300\n",
       "sale_type_Oth           -2438.770323\n",
       "sale_type_WD            -5026.236281\n",
       "dtype: float64"
      ]
     },
     "execution_count": 82,
     "metadata": {},
     "output_type": "execute_result"
    }
   ],
   "source": [
    "pd.Series(lr.coef_,index=X_train.columns)"
   ]
  },
  {
   "cell_type": "code",
   "execution_count": 83,
   "metadata": {},
   "outputs": [
    {
     "data": {
      "text/plain": [
       "(1538, 93)"
      ]
     },
     "execution_count": 83,
     "metadata": {},
     "output_type": "execute_result"
    }
   ],
   "source": [
    "X_train_validation.shape"
   ]
  },
  {
   "cell_type": "markdown",
   "metadata": {},
   "source": [
    "I wasn't satisfied with these numbers so I decided to do the same thing but on the logged `saleprice`.\n",
    "\n",
    "---\n",
    "\n"
   ]
  },
  {
   "cell_type": "markdown",
   "metadata": {},
   "source": [
    "Go to the Log Benchmarks [here](https://git.generalassemb.ly/laternader/project_2/blob/master/deliverables/code/4.5%20-%20Log-Benchmarks.ipynb)."
   ]
  },
  {
   "cell_type": "code",
   "execution_count": null,
   "metadata": {},
   "outputs": [],
   "source": []
  }
 ],
 "metadata": {
  "kernelspec": {
   "display_name": "Python [conda env:dsi]",
   "language": "python",
   "name": "conda-env-dsi-py"
  },
  "language_info": {
   "codemirror_mode": {
    "name": "ipython",
    "version": 3
   },
   "file_extension": ".py",
   "mimetype": "text/x-python",
   "name": "python",
   "nbconvert_exporter": "python",
   "pygments_lexer": "ipython3",
   "version": "3.8.3"
  }
 },
 "nbformat": 4,
 "nbformat_minor": 4
}

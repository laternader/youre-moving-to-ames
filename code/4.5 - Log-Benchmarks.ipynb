{
 "cells": [
  {
   "cell_type": "markdown",
   "metadata": {},
   "source": [
    "# Modeling Benchmarks But with a logged SalePrice"
   ]
  },
  {
   "cell_type": "markdown",
   "metadata": {},
   "source": [
    "This notebook contains my many models that I run over many different feature sets. We will compare these to the null model as well."
   ]
  },
  {
   "cell_type": "code",
   "execution_count": 1,
   "metadata": {},
   "outputs": [],
   "source": [
    "import pandas as pd\n",
    "import numpy as np\n",
    "import matplotlib.pyplot as plt\n",
    "import seaborn as sns\n",
    "\n",
    "from sklearn.linear_model import LinearRegression, Ridge, RidgeCV, Lasso, LassoCV\n",
    "from sklearn.model_selection import train_test_split\n",
    "from sklearn.preprocessing import StandardScaler\n",
    "from sklearn import metrics"
   ]
  },
  {
   "cell_type": "code",
   "execution_count": 2,
   "metadata": {},
   "outputs": [],
   "source": [
    "pd.set_option('display.max_columns', None)\n",
    "pd.set_option('display.max_rows', None)"
   ]
  },
  {
   "cell_type": "code",
   "execution_count": 3,
   "metadata": {},
   "outputs": [],
   "source": [
    "# Import CSV\n",
    "clean_train =  pd.read_csv('../data/clean-train-engineered.csv')\n",
    "clean_test = pd.read_csv('../data/clean-test-engineered.csv')"
   ]
  },
  {
   "cell_type": "code",
   "execution_count": null,
   "metadata": {},
   "outputs": [],
   "source": []
  },
  {
   "cell_type": "markdown",
   "metadata": {},
   "source": [
    "# Creating a baseline"
   ]
  },
  {
   "cell_type": "code",
   "execution_count": 4,
   "metadata": {},
   "outputs": [],
   "source": [
    "y = clean_train['saleprice']"
   ]
  },
  {
   "cell_type": "code",
   "execution_count": 5,
   "metadata": {},
   "outputs": [
    {
     "data": {
      "text/plain": [
       "181469.70160897123"
      ]
     },
     "execution_count": 5,
     "metadata": {},
     "output_type": "execute_result"
    }
   ],
   "source": [
    "baseline = clean_train['saleprice'].mean()\n",
    "baseline"
   ]
  },
  {
   "cell_type": "markdown",
   "metadata": {},
   "source": [
    "Since we can't make any predictions right now, we have to go into the [selection notebook](https://git.generalassemb.ly/laternader/project_2/blob/master/deliverables/code/1.5%20-%20Select-Features.ipynb). Since these were logged, the original benchmarks are [here](https://git.generalassemb.ly/laternader/project_2/blob/master/deliverables/code/4%20-%20Modeling-Benchmarks.ipynb).\n",
    "\n",
    "But for now we can make a null prediction (`baseline` is our null prediction). We need to calculate the distance between a sale price from the 'saleprice' column to the mean of all saleprices. This will give us null residuals."
   ]
  },
  {
   "cell_type": "code",
   "execution_count": 6,
   "metadata": {},
   "outputs": [
    {
     "data": {
      "text/plain": [
       "0   -50969.701609\n",
       "1    38530.298391\n",
       "2   -72469.701609\n",
       "3    -7469.701609\n",
       "4   -42969.701609\n",
       "Name: saleprice, dtype: float64"
      ]
     },
     "execution_count": 6,
     "metadata": {},
     "output_type": "execute_result"
    }
   ],
   "source": [
    "null_resids = y - baseline\n",
    "null_resids[:5]"
   ]
  },
  {
   "cell_type": "code",
   "execution_count": 7,
   "metadata": {},
   "outputs": [
    {
     "data": {
      "text/plain": [
       "6278872217.837828"
      ]
     },
     "execution_count": 7,
     "metadata": {},
     "output_type": "execute_result"
    }
   ],
   "source": [
    "np.mean(null_resids**2)"
   ]
  },
  {
   "cell_type": "code",
   "execution_count": 8,
   "metadata": {},
   "outputs": [
    {
     "data": {
      "text/plain": [
       "6278872217.837828"
      ]
     },
     "execution_count": 8,
     "metadata": {},
     "output_type": "execute_result"
    }
   ],
   "source": [
    "# This is the null model before the split\n",
    "clean_train['null_pred'] = baseline\n",
    "#                                     y before the split  , caluculated mean of y\n",
    "mse_null = metrics.mean_squared_error(clean_train['saleprice'], clean_train['null_pred'])\n",
    "mse_null"
   ]
  },
  {
   "cell_type": "code",
   "execution_count": 9,
   "metadata": {},
   "outputs": [
    {
     "data": {
      "text/plain": [
       "79239.33504161824"
      ]
     },
     "execution_count": 9,
     "metadata": {},
     "output_type": "execute_result"
    }
   ],
   "source": [
    "rmse_null = mse_null**.5\n",
    "rmse_null"
   ]
  },
  {
   "cell_type": "markdown",
   "metadata": {},
   "source": [
    "Now we can compare with our models.\n",
    "\n",
    "---\n",
    "# Feature Set 1"
   ]
  },
  {
   "cell_type": "markdown",
   "metadata": {},
   "source": [
    "The features presented here are features that had high positive correlation with 'saleprice' in the train. It will contain LinearRegression, Lasso, And Ridge models"
   ]
  },
  {
   "cell_type": "code",
   "execution_count": 10,
   "metadata": {},
   "outputs": [],
   "source": [
    "features1 = ['overall_qual',\n",
    "  'year_built',\n",
    "  'year_remod/add',\n",
    "  'mas_vnr_area',\n",
    "  'total_bsmt_sf',\n",
    "  '1st_flr_sf',\n",
    "  'gr_liv_area',\n",
    "  'full_bath',\n",
    "  'garage_yr_blt',\n",
    "  'garage_cars',\n",
    "  'garage_area']"
   ]
  },
  {
   "cell_type": "code",
   "execution_count": 11,
   "metadata": {},
   "outputs": [],
   "source": [
    "X_train = clean_train[features1]\n",
    "X_test = clean_test[features1]\n",
    "y_train = clean_train['saleprice']"
   ]
  },
  {
   "cell_type": "markdown",
   "metadata": {},
   "source": [
    "This code helps select any columns that need to be dummified."
   ]
  },
  {
   "cell_type": "code",
   "execution_count": 12,
   "metadata": {},
   "outputs": [],
   "source": [
    "# https://pandas.pydata.org/pandas-docs/stable/reference/api/pandas.DataFrame.select_dtypes.html\n",
    "dummies_columns = list(clean_train[features1].select_dtypes(include='object'))"
   ]
  },
  {
   "cell_type": "markdown",
   "metadata": {},
   "source": [
    "We will now fit the `train` into its own model before proceeding to apply it to the whole model."
   ]
  },
  {
   "cell_type": "code",
   "execution_count": 13,
   "metadata": {},
   "outputs": [
    {
     "data": {
      "text/plain": [
       "LinearRegression()"
      ]
     },
     "execution_count": 13,
     "metadata": {},
     "output_type": "execute_result"
    }
   ],
   "source": [
    "X_train, X_validation, y_train, y_validation = \\\n",
    "                train_test_split(X_train, y_train, random_state=69420)\n",
    "\n",
    "y_trainv_log = y_train.map(np.log)\n",
    "y_valid_log = y_validation.map(np.log)\n",
    "\n",
    "# Instatiate and fit the model\n",
    "lr = LinearRegression()\n",
    "lr.fit(X_train, y_trainv_log)"
   ]
  },
  {
   "cell_type": "code",
   "execution_count": 14,
   "metadata": {},
   "outputs": [
    {
     "data": {
      "text/plain": [
       "(0.8172897846675002, 0.8319308459763215)"
      ]
     },
     "execution_count": 14,
     "metadata": {},
     "output_type": "execute_result"
    }
   ],
   "source": [
    "lr.score(X_train, y_trainv_log), lr.score(X_validation, y_valid_log)"
   ]
  },
  {
   "cell_type": "code",
   "execution_count": 15,
   "metadata": {},
   "outputs": [
    {
     "data": {
      "text/plain": [
       "array([12.0010011 , 12.84888129, 11.95654211, 11.85926903, 12.02173559])"
      ]
     },
     "execution_count": 15,
     "metadata": {},
     "output_type": "execute_result"
    }
   ],
   "source": [
    "preds = lr.predict(X_validation)\n",
    "preds[:5]"
   ]
  },
  {
   "cell_type": "markdown",
   "metadata": {},
   "source": [
    "Now that we calculated the R scores, we need to calculate the metrics to compare. In order to do that, we bring in the function below."
   ]
  },
  {
   "cell_type": "code",
   "execution_count": 16,
   "metadata": {},
   "outputs": [],
   "source": [
    "# The idea came from lab 3.01\n",
    "def big_metrics(y, predictions, features):\n",
    "    # 1. Calculate Sum Squared Error; SSE\n",
    "    SSE = ((y - predictions)**2).sum()\n",
    "    \n",
    "    # 2. Calculate Mean Squared Error; MSE\n",
    "    MSE = SSE/len(y)\n",
    "    \n",
    "    # 3. Calculate Root Mean Squared Error; RMSE\n",
    "    RMSE = np.sqrt(MSE)\n",
    "    \n",
    "    # 4. Calculate Mean Absolute Error; MAE\n",
    "    MAE = (abs(y - predictions)).sum()/len(y)\n",
    "    \n",
    "    # 5. Calculate R2 Score Error; R2\n",
    "    Null_SSE = ((y - y.mean())**2).sum() # Need null to calculate R2\n",
    "    R2 = 1 - SSE/Null_SSE\n",
    "    \n",
    "    # 6. Calculate R2 Adjusted\n",
    "    R2_adj = 1-(((1-R2)*(len(y)-1))/(len(y)-len(features)-1))\n",
    "    \n",
    "    return SSE, MSE, RMSE, MAE, R2, R2_adj\n",
    "\n",
    "metric_names = ['SSE', 'MSE', 'RMSE', 'MAE', 'R2', 'R2_adj']"
   ]
  },
  {
   "cell_type": "code",
   "execution_count": 17,
   "metadata": {},
   "outputs": [
    {
     "data": {
      "text/plain": [
       "SSE       3.844577e+11\n",
       "MSE       7.494303e+08\n",
       "RMSE      2.737572e+04\n",
       "MAE       1.941165e+04\n",
       "R2        8.695732e-01\n",
       "R2_adj    8.667096e-01\n",
       "dtype: float64"
      ]
     },
     "execution_count": 17,
     "metadata": {},
     "output_type": "execute_result"
    }
   ],
   "source": [
    "f1_metrics = pd.Series(big_metrics(np.exp(y_valid_log), np.exp(preds), features1),index=metric_names)\n",
    "f1_metrics"
   ]
  },
  {
   "cell_type": "code",
   "execution_count": 18,
   "metadata": {},
   "outputs": [
    {
     "data": {
      "text/plain": [
       "(27375.72404094178, 79239.33504161824)"
      ]
     },
     "execution_count": 18,
     "metadata": {},
     "output_type": "execute_result"
    }
   ],
   "source": [
    "f1_metrics[2], rmse_null"
   ]
  },
  {
   "cell_type": "markdown",
   "metadata": {},
   "source": [
    "Now time to calculate to compare to the null model.\n",
    "\n",
    "Since my RMSE of my first model based on `features1` is lower than the rmse_null, that means my model is pimpin."
   ]
  },
  {
   "cell_type": "code",
   "execution_count": 19,
   "metadata": {},
   "outputs": [
    {
     "data": {
      "text/plain": [
       "overall_qual      0.103465\n",
       "year_built        0.002500\n",
       "year_remod/add    0.002369\n",
       "mas_vnr_area      0.000021\n",
       "total_bsmt_sf     0.000079\n",
       "1st_flr_sf        0.000072\n",
       "gr_liv_area       0.000221\n",
       "full_bath        -0.010683\n",
       "garage_yr_blt    -0.000785\n",
       "garage_cars       0.078310\n",
       "garage_area      -0.000036\n",
       "dtype: float64"
      ]
     },
     "execution_count": 19,
     "metadata": {},
     "output_type": "execute_result"
    }
   ],
   "source": [
    "pd.Series(lr.coef_,index=features1)"
   ]
  },
  {
   "cell_type": "code",
   "execution_count": 20,
   "metadata": {},
   "outputs": [
    {
     "data": {
      "text/plain": [
       "overall_qual      40.798099\n",
       "year_built        36.880047\n",
       "year_remod/add    36.875194\n",
       "mas_vnr_area      36.788732\n",
       "total_bsmt_sf     36.790858\n",
       "1st_flr_sf        36.790579\n",
       "gr_liv_area       36.796058\n",
       "full_bath         36.397037\n",
       "garage_yr_blt     36.759070\n",
       "garage_cars       39.784595\n",
       "garage_area       36.786611\n",
       "dtype: float64"
      ]
     },
     "execution_count": 20,
     "metadata": {},
     "output_type": "execute_result"
    }
   ],
   "source": [
    "pd.Series(np.exp(lr.coef_-1)*100,index=X_train.columns)"
   ]
  },
  {
   "cell_type": "markdown",
   "metadata": {},
   "source": [
    "There were 2 features that cause a drop in price as their units increase. I think we can do a better model."
   ]
  },
  {
   "cell_type": "markdown",
   "metadata": {},
   "source": [
    "# Let's model the first set of features to Ridge and RidgeCV\n",
    "\n",
    "In order to do that, we need to utilize `StandardScaler`"
   ]
  },
  {
   "cell_type": "code",
   "execution_count": 21,
   "metadata": {},
   "outputs": [
    {
     "name": "stdout",
     "output_type": "stream",
     "text": [
      "Ridge Training score: 0.8211060240636552\n",
      "Ridge Test score: 0.7990267195796201\n"
     ]
    }
   ],
   "source": [
    "# Standardize the numbers\n",
    "X_train, X_validation, y_train, y_validation = \\\n",
    "                train_test_split(X_train, y_train, random_state=69420)\n",
    "\n",
    "y_trainv_log = y_train.map(np.log)\n",
    "y_valid_log = y_validation.map(np.log)\n",
    "# Since we already split it earlier, we will use those to perform on the Ridge model\n",
    "ss = StandardScaler()\n",
    "Z_train = ss.fit_transform(X_train)\n",
    "Z_test = ss.transform(X_validation)\n",
    "\n",
    "ridge_model = Ridge(alpha=5)\n",
    "ridge_model.fit(Z_train, y_trainv_log)\n",
    "\n",
    "print('Ridge Training score:', ridge_model.score(Z_train, y_trainv_log))\n",
    "print('Ridge Test score:', ridge_model.score(Z_test, y_valid_log)) "
   ]
  },
  {
   "cell_type": "code",
   "execution_count": 22,
   "metadata": {},
   "outputs": [],
   "source": [
    "r_alphas = np.logspace(0, 5, 100)\n",
    "ridge_cv = RidgeCV(alphas=r_alphas, scoring='r2',cv=5)\n",
    "ridge_cv.fit(Z_train, y_trainv_log);"
   ]
  },
  {
   "cell_type": "code",
   "execution_count": 23,
   "metadata": {},
   "outputs": [
    {
     "name": "stdout",
     "output_type": "stream",
     "text": [
      "RidgeCV Training score: 0.8184368142549853\n",
      "RidgeCV Test score: 0.7994493832365643\n"
     ]
    }
   ],
   "source": [
    "print('RidgeCV Training score:',ridge_cv.score(Z_train, y_trainv_log))\n",
    "print('RidgeCV Test score:',ridge_cv.score(Z_test, y_valid_log))"
   ]
  },
  {
   "cell_type": "markdown",
   "metadata": {},
   "source": [
    "Calculate the RMSE on `Ridge` and `RidgeCV` models."
   ]
  },
  {
   "cell_type": "code",
   "execution_count": 24,
   "metadata": {},
   "outputs": [
    {
     "data": {
      "text/plain": [
       "array([11.5953043 , 11.9961983 , 11.64314539, 12.37056958, 11.96181749])"
      ]
     },
     "execution_count": 24,
     "metadata": {},
     "output_type": "execute_result"
    }
   ],
   "source": [
    "Z_test_preds = ridge_model.predict(Z_test)\n",
    "Z_test_preds[:5]"
   ]
  },
  {
   "cell_type": "code",
   "execution_count": 25,
   "metadata": {},
   "outputs": [
    {
     "data": {
      "text/plain": [
       "SSE       1.899319e+12\n",
       "MSE       4.933297e+09\n",
       "RMSE      7.023744e+04\n",
       "MAE       2.508507e+04\n",
       "R2        3.188588e-01\n",
       "R2_adj    2.987716e-01\n",
       "dtype: float64"
      ]
     },
     "execution_count": 25,
     "metadata": {},
     "output_type": "execute_result"
    }
   ],
   "source": [
    "f1_metrics_r = pd.Series(big_metrics(np.exp(y_valid_log), np.exp(Z_test_preds), features1),index=metric_names)\n",
    "f1_metrics_r"
   ]
  },
  {
   "cell_type": "code",
   "execution_count": 26,
   "metadata": {},
   "outputs": [
    {
     "data": {
      "text/plain": [
       "overall_qual      0.144390\n",
       "year_built        0.072067\n",
       "year_remod/add    0.050643\n",
       "mas_vnr_area      0.010812\n",
       "total_bsmt_sf     0.027336\n",
       "1st_flr_sf        0.041736\n",
       "gr_liv_area       0.114328\n",
       "full_bath        -0.013431\n",
       "garage_yr_blt    -0.004776\n",
       "garage_cars       0.051838\n",
       "garage_area      -0.011827\n",
       "dtype: float64"
      ]
     },
     "execution_count": 26,
     "metadata": {},
     "output_type": "execute_result"
    }
   ],
   "source": [
    "pd.Series(ridge_model.coef_,index=features1)"
   ]
  },
  {
   "cell_type": "code",
   "execution_count": 27,
   "metadata": {},
   "outputs": [
    {
     "data": {
      "text/plain": [
       "overall_qual      42.502374\n",
       "year_built        39.537020\n",
       "year_remod/add    38.698960\n",
       "mas_vnr_area      37.187870\n",
       "total_bsmt_sf     37.807433\n",
       "1st_flr_sf        38.355812\n",
       "gr_liv_area       41.243712\n",
       "full_bath         36.297162\n",
       "garage_yr_blt     36.612648\n",
       "garage_cars       38.745234\n",
       "garage_area       36.355408\n",
       "dtype: float64"
      ]
     },
     "execution_count": 27,
     "metadata": {},
     "output_type": "execute_result"
    }
   ],
   "source": [
    "pd.Series(np.exp(ridge_model.coef_-1)*100,index=X_train.columns)"
   ]
  },
  {
   "cell_type": "code",
   "execution_count": 28,
   "metadata": {
    "scrolled": true
   },
   "outputs": [
    {
     "data": {
      "text/plain": [
       "(27375.72404094178, 70237.43528484975, 79239.33504161824)"
      ]
     },
     "execution_count": 28,
     "metadata": {},
     "output_type": "execute_result"
    }
   ],
   "source": [
    "f1_metrics[2], f1_metrics_r[2], rmse_null"
   ]
  },
  {
   "cell_type": "code",
   "execution_count": 29,
   "metadata": {},
   "outputs": [
    {
     "data": {
      "text/plain": [
       "array([11.6113851 , 12.0138693 , 11.6479125 , 12.37737574, 11.96689498])"
      ]
     },
     "execution_count": 29,
     "metadata": {},
     "output_type": "execute_result"
    }
   ],
   "source": [
    "Z_test_preds = ridge_cv.predict(Z_test)\n",
    "Z_test_preds[:5]"
   ]
  },
  {
   "cell_type": "code",
   "execution_count": 30,
   "metadata": {},
   "outputs": [
    {
     "data": {
      "text/plain": [
       "SSE       1.728542e+12\n",
       "MSE       4.489718e+09\n",
       "RMSE      6.700536e+04\n",
       "MAE       2.501389e+04\n",
       "R2        3.801038e-01\n",
       "R2_adj    3.618227e-01\n",
       "dtype: float64"
      ]
     },
     "execution_count": 30,
     "metadata": {},
     "output_type": "execute_result"
    }
   ],
   "source": [
    "f1_metrics_rcv = pd.Series(big_metrics(np.exp(y_valid_log), np.exp(Z_test_preds), features1),index=metric_names)\n",
    "f1_metrics_rcv"
   ]
  },
  {
   "cell_type": "code",
   "execution_count": 31,
   "metadata": {},
   "outputs": [
    {
     "data": {
      "text/plain": [
       "overall_qual      0.128049\n",
       "year_built        0.061520\n",
       "year_remod/add    0.050677\n",
       "mas_vnr_area      0.016023\n",
       "total_bsmt_sf     0.031445\n",
       "1st_flr_sf        0.041588\n",
       "gr_liv_area       0.099092\n",
       "full_bath         0.000436\n",
       "garage_yr_blt     0.003485\n",
       "garage_cars       0.049498\n",
       "garage_area      -0.003507\n",
       "dtype: float64"
      ]
     },
     "execution_count": 31,
     "metadata": {},
     "output_type": "execute_result"
    }
   ],
   "source": [
    "pd.Series(ridge_cv.coef_,index=features1)"
   ]
  },
  {
   "cell_type": "code",
   "execution_count": 32,
   "metadata": {},
   "outputs": [
    {
     "data": {
      "text/plain": [
       "overall_qual      41.813513\n",
       "year_built        39.122210\n",
       "year_remod/add    38.700303\n",
       "mas_vnr_area      37.382147\n",
       "total_bsmt_sf     37.963117\n",
       "1st_flr_sf        38.350145\n",
       "gr_liv_area       40.620073\n",
       "full_bath         36.804004\n",
       "garage_yr_blt     36.916365\n",
       "garage_cars       38.654683\n",
       "garage_area       36.659137\n",
       "dtype: float64"
      ]
     },
     "execution_count": 32,
     "metadata": {},
     "output_type": "execute_result"
    }
   ],
   "source": [
    "pd.Series(np.exp(ridge_cv.coef_-1)*100,index=X_train.columns)"
   ]
  },
  {
   "cell_type": "code",
   "execution_count": 33,
   "metadata": {},
   "outputs": [
    {
     "data": {
      "text/plain": [
       "(27375.72404094178, 70237.43528484975, 67005.36052237834, 79239.33504161824)"
      ]
     },
     "execution_count": 33,
     "metadata": {},
     "output_type": "execute_result"
    }
   ],
   "source": [
    "f1_metrics[2], f1_metrics_r[2], f1_metrics_rcv[2], rmse_null"
   ]
  },
  {
   "cell_type": "markdown",
   "metadata": {},
   "source": [
    "# We can also LassoCV"
   ]
  },
  {
   "cell_type": "code",
   "execution_count": 34,
   "metadata": {},
   "outputs": [],
   "source": [
    "l_alphas = np.logspace(1, 0, 100)\n",
    "# Instantiate\n",
    "lasso_cv = LassoCV(alphas=l_alphas, cv=5, max_iter=50000)\n",
    "# Fit\n",
    "lasso_cv.fit(Z_train, y_trainv_log);"
   ]
  },
  {
   "cell_type": "code",
   "execution_count": 35,
   "metadata": {},
   "outputs": [
    {
     "data": {
      "text/plain": [
       "10.0"
      ]
     },
     "execution_count": 35,
     "metadata": {},
     "output_type": "execute_result"
    }
   ],
   "source": [
    "lasso_cv.alpha_"
   ]
  },
  {
   "cell_type": "code",
   "execution_count": 36,
   "metadata": {},
   "outputs": [
    {
     "name": "stdout",
     "output_type": "stream",
     "text": [
      "0.0\n",
      "-0.008906686074497516\n"
     ]
    }
   ],
   "source": [
    "print(lasso_cv.score(Z_train, y_trainv_log))\n",
    "print(lasso_cv.score(Z_test, y_valid_log))"
   ]
  },
  {
   "cell_type": "code",
   "execution_count": 37,
   "metadata": {},
   "outputs": [
    {
     "data": {
      "text/plain": [
       "array([12.01529025, 12.01529025, 12.01529025, 12.01529025, 12.01529025])"
      ]
     },
     "execution_count": 37,
     "metadata": {},
     "output_type": "execute_result"
    }
   ],
   "source": [
    "Z_test_preds = lasso_cv.predict(Z_test)\n",
    "Z_test_preds[:5]"
   ]
  },
  {
   "cell_type": "code",
   "execution_count": 38,
   "metadata": {},
   "outputs": [
    {
     "data": {
      "text/plain": [
       "array([0., 0., 0., 0., 0., 0., 0., 0., 0., 0., 0.])"
      ]
     },
     "execution_count": 38,
     "metadata": {},
     "output_type": "execute_result"
    }
   ],
   "source": [
    "lasso_cv.coef_"
   ]
  },
  {
   "cell_type": "code",
   "execution_count": 39,
   "metadata": {},
   "outputs": [
    {
     "data": {
      "text/plain": [
       "SSE       2.985794e+12\n",
       "MSE       7.755309e+09\n",
       "RMSE      8.806423e+04\n",
       "MAE       6.063651e+04\n",
       "R2       -7.077685e-02\n",
       "R2_adj   -1.023547e-01\n",
       "dtype: float64"
      ]
     },
     "execution_count": 39,
     "metadata": {},
     "output_type": "execute_result"
    }
   ],
   "source": [
    "f1_metrics_lasso = pd.Series(big_metrics(np.exp(y_valid_log), np.exp(Z_test_preds), features1),index=metric_names)\n",
    "f1_metrics_lasso"
   ]
  },
  {
   "cell_type": "code",
   "execution_count": 40,
   "metadata": {
    "scrolled": true
   },
   "outputs": [
    {
     "data": {
      "text/plain": [
       "(88064.23468114945,\n",
       " 27375.72404094178,\n",
       " 70237.43528484975,\n",
       " 67005.36052237834,\n",
       " 79239.33504161824)"
      ]
     },
     "execution_count": 40,
     "metadata": {},
     "output_type": "execute_result"
    }
   ],
   "source": [
    "f1_metrics_lasso[2], f1_metrics[2], f1_metrics_r[2], f1_metrics_rcv[2], rmse_null"
   ]
  },
  {
   "cell_type": "code",
   "execution_count": 41,
   "metadata": {},
   "outputs": [
    {
     "data": {
      "text/plain": [
       "overall_qual      0.0\n",
       "year_built        0.0\n",
       "year_remod/add    0.0\n",
       "mas_vnr_area      0.0\n",
       "total_bsmt_sf     0.0\n",
       "1st_flr_sf        0.0\n",
       "gr_liv_area       0.0\n",
       "full_bath         0.0\n",
       "garage_yr_blt     0.0\n",
       "garage_cars       0.0\n",
       "garage_area       0.0\n",
       "dtype: float64"
      ]
     },
     "execution_count": 41,
     "metadata": {},
     "output_type": "execute_result"
    }
   ],
   "source": [
    "pd.Series(lasso_cv.coef_,index=features1)"
   ]
  },
  {
   "cell_type": "markdown",
   "metadata": {},
   "source": [
    "All of the models did better than the null, but the best one was the LinearRegression model."
   ]
  },
  {
   "cell_type": "markdown",
   "metadata": {},
   "source": [
    "Now that we have computed that for our first set of features, the next set of features will follow the same route.\n",
    "\n",
    "---\n",
    "# Feature Set 2"
   ]
  },
  {
   "cell_type": "code",
   "execution_count": 42,
   "metadata": {},
   "outputs": [],
   "source": [
    "# Features\n",
    "features2 = ['ms_subclass',\n",
    "\n",
    "  'neighborhood',\n",
    "  'bldg_type',\n",
    "  'house_style',\n",
    "  'overall_cond',\n",
    "  'year_built',\n",
    "\n",
    "  'heating_qc',\n",
    "  'central_air',\n",
    "  'electrical',\n",
    "  'full_bath',\n",
    "  'half_bath',\n",
    "  'bedroom_abvgr',\n",
    "  'kitchen_qual',\n",
    "  'totrms_abvgrd',\n",
    "  'functional',\n",
    "  'fireplaces',\n",
    "  'garage_cars',\n",
    "  'garage_qual',\n",
    "  'garage_cond',\n",
    "  'mo_sold',\n",
    "  'yr_sold',\n",
    "  'sale_type']"
   ]
  },
  {
   "cell_type": "code",
   "execution_count": 43,
   "metadata": {},
   "outputs": [
    {
     "data": {
      "text/plain": [
       "['neighborhood',\n",
       " 'bldg_type',\n",
       " 'house_style',\n",
       " 'heating_qc',\n",
       " 'central_air',\n",
       " 'electrical',\n",
       " 'kitchen_qual',\n",
       " 'functional',\n",
       " 'garage_qual',\n",
       " 'garage_cond',\n",
       " 'sale_type']"
      ]
     },
     "execution_count": 43,
     "metadata": {},
     "output_type": "execute_result"
    }
   ],
   "source": [
    "# https://pandas.pydata.org/pandas-docs/stable/reference/api/pandas.DataFrame.select_dtypes.html\n",
    "dummies_columns = list(clean_train[features2].select_dtypes(include='object'))\n",
    "dummies_columns"
   ]
  },
  {
   "cell_type": "code",
   "execution_count": 44,
   "metadata": {},
   "outputs": [],
   "source": [
    "X_train = clean_train[features2]\n",
    "X_test = clean_test[features2]\n",
    "y_train = clean_train['saleprice']"
   ]
  },
  {
   "cell_type": "code",
   "execution_count": 45,
   "metadata": {},
   "outputs": [],
   "source": [
    "# Make dummies because we have categorical variables\n",
    "X_train = pd.get_dummies(data=X_train, columns=dummies_columns)\n",
    "X_test = pd.get_dummies(data=X_test, columns=dummies_columns)"
   ]
  },
  {
   "cell_type": "code",
   "execution_count": 46,
   "metadata": {},
   "outputs": [
    {
     "data": {
      "text/plain": [
       "LinearRegression()"
      ]
     },
     "execution_count": 46,
     "metadata": {},
     "output_type": "execute_result"
    }
   ],
   "source": [
    "X_train, X_validation, y_train, y_validation = \\\n",
    "                train_test_split(X_train, y_train, random_state=69420)\n",
    "\n",
    "y_train_log = y_train.map(np.log)\n",
    "y_valid_log = y_validation.map(np.log)\n",
    "# Instatiate and fit the model\n",
    "lr = LinearRegression()\n",
    "lr.fit(X_train, y_train_log)"
   ]
  },
  {
   "cell_type": "code",
   "execution_count": 47,
   "metadata": {},
   "outputs": [
    {
     "data": {
      "text/plain": [
       "(0.8421271184937242, 0.8251206541735754)"
      ]
     },
     "execution_count": 47,
     "metadata": {},
     "output_type": "execute_result"
    }
   ],
   "source": [
    "lr.score(X_train,y_train_log), lr.score(X_validation ,y_valid_log)"
   ]
  },
  {
   "cell_type": "code",
   "execution_count": 48,
   "metadata": {},
   "outputs": [
    {
     "data": {
      "text/plain": [
       "array([12.09392878, 12.95277291, 12.02121379, 11.86000032, 11.90328118])"
      ]
     },
     "execution_count": 48,
     "metadata": {},
     "output_type": "execute_result"
    }
   ],
   "source": [
    "preds = lr.predict(X_validation)\n",
    "preds[:5]"
   ]
  },
  {
   "cell_type": "code",
   "execution_count": 49,
   "metadata": {},
   "outputs": [
    {
     "data": {
      "text/plain": [
       "SSE       4.238242e+11\n",
       "MSE       8.261680e+08\n",
       "RMSE      2.874314e+04\n",
       "MAE       2.095717e+04\n",
       "R2        8.562182e-01\n",
       "R2_adj    8.497627e-01\n",
       "dtype: float64"
      ]
     },
     "execution_count": 49,
     "metadata": {},
     "output_type": "execute_result"
    }
   ],
   "source": [
    "f2_metrics = pd.Series(big_metrics(np.exp(y_valid_log), np.exp(preds), features2),index=metric_names)\n",
    "f2_metrics"
   ]
  },
  {
   "cell_type": "code",
   "execution_count": 50,
   "metadata": {},
   "outputs": [
    {
     "data": {
      "text/plain": [
       "(27375.72404094178, 28743.13855801938, 79239.33504161824)"
      ]
     },
     "execution_count": 50,
     "metadata": {},
     "output_type": "execute_result"
    }
   ],
   "source": [
    "f1_metrics[2], f2_metrics[2], rmse_null"
   ]
  },
  {
   "cell_type": "code",
   "execution_count": 51,
   "metadata": {},
   "outputs": [
    {
     "data": {
      "text/plain": [
       "ms_subclass             0.000130\n",
       "overall_cond            0.051980\n",
       "year_built              0.002935\n",
       "full_bath               0.097882\n",
       "half_bath               0.043754\n",
       "bedroom_abvgr           0.005230\n",
       "totrms_abvgrd           0.043530\n",
       "fireplaces              0.091288\n",
       "garage_cars             0.084372\n",
       "mo_sold                -0.000417\n",
       "yr_sold                -0.006464\n",
       "neighborhood_Blmngtn   -0.063642\n",
       "neighborhood_Blueste   -0.047034\n",
       "neighborhood_BrDale    -0.119671\n",
       "neighborhood_BrkSide   -0.078382\n",
       "neighborhood_ClearCr    0.119558\n",
       "neighborhood_CollgCr    0.006519\n",
       "neighborhood_Crawfor    0.128389\n",
       "neighborhood_Edwards   -0.106609\n",
       "neighborhood_Gilbert   -0.086666\n",
       "neighborhood_Greens     0.226709\n",
       "neighborhood_IDOTRR    -0.187502\n",
       "neighborhood_MeadowV   -0.237219\n",
       "neighborhood_Mitchel   -0.030551\n",
       "neighborhood_NAmes     -0.039268\n",
       "neighborhood_NPkVill   -0.086677\n",
       "neighborhood_NWAmes    -0.018572\n",
       "neighborhood_NoRidge    0.199053\n",
       "neighborhood_NridgHt    0.196658\n",
       "neighborhood_OldTown   -0.123370\n",
       "neighborhood_SWISU     -0.048421\n",
       "neighborhood_Sawyer    -0.089628\n",
       "neighborhood_SawyerW   -0.029640\n",
       "neighborhood_Somerst    0.066853\n",
       "neighborhood_StoneBr    0.237934\n",
       "neighborhood_Timber     0.074259\n",
       "neighborhood_Veenker    0.136920\n",
       "bldg_type_1Fam          0.068792\n",
       "bldg_type_2fmCon        0.063178\n",
       "bldg_type_Duplex       -0.069078\n",
       "bldg_type_Twnhs        -0.074440\n",
       "bldg_type_TwnhsE        0.011549\n",
       "house_style_1.5Fin     -0.010827\n",
       "house_style_1.5Unf     -0.012549\n",
       "house_style_1Story     -0.008978\n",
       "house_style_2.5Fin      0.005248\n",
       "house_style_2.5Unf      0.116561\n",
       "house_style_2Story     -0.064889\n",
       "house_style_SFoyer      0.019939\n",
       "house_style_SLvl       -0.044504\n",
       "heating_qc_Ex           0.019444\n",
       "heating_qc_Fa          -0.007140\n",
       "heating_qc_Gd           0.004213\n",
       "heating_qc_TA          -0.016518\n",
       "central_air_N          -0.057535\n",
       "central_air_Y           0.057535\n",
       "electrical_Fuse         0.002077\n",
       "electrical_Mix         -0.027106\n",
       "electrical_Sbrkr        0.025029\n",
       "kitchen_qual_Ex         0.197425\n",
       "kitchen_qual_Fa        -0.137336\n",
       "kitchen_qual_Gd         0.005497\n",
       "kitchen_qual_TA        -0.065586\n",
       "functional_Maj         -0.082706\n",
       "functional_Min          0.024073\n",
       "functional_Mod         -0.012899\n",
       "functional_Typ          0.071532\n",
       "garage_qual_Fa         -0.110580\n",
       "garage_qual_Gd          0.150589\n",
       "garage_qual_Po         -0.027106\n",
       "garage_qual_TA         -0.100882\n",
       "garage_cond_Ex         -0.158670\n",
       "garage_cond_Fa         -0.034930\n",
       "garage_cond_Gd          0.028420\n",
       "garage_cond_Po          0.011796\n",
       "garage_cond_TA          0.065405\n",
       "sale_type_COD          -0.056630\n",
       "sale_type_CWD           0.011647\n",
       "sale_type_Con           0.176056\n",
       "sale_type_ConLD        -0.000311\n",
       "sale_type_ConLI        -0.102374\n",
       "sale_type_ConLw        -0.034042\n",
       "sale_type_New           0.005618\n",
       "sale_type_Oth           0.005174\n",
       "sale_type_WD           -0.005137\n",
       "dtype: float64"
      ]
     },
     "execution_count": 51,
     "metadata": {},
     "output_type": "execute_result"
    }
   ],
   "source": [
    "pd.Series(lr.coef_,index=X_train.columns)"
   ]
  },
  {
   "cell_type": "code",
   "execution_count": 52,
   "metadata": {},
   "outputs": [
    {
     "data": {
      "text/plain": [
       "ms_subclass             36.792715\n",
       "overall_cond            38.750768\n",
       "year_built              36.896087\n",
       "full_bath               40.570963\n",
       "half_bath               38.433297\n",
       "bedroom_abvgr           36.980840\n",
       "totrms_abvgrd           38.424703\n",
       "fireplaces              40.304294\n",
       "garage_cars             40.026503\n",
       "mo_sold                 36.772621\n",
       "yr_sold                 36.550908\n",
       "neighborhood_Blmngtn    34.519617\n",
       "neighborhood_Blueste    35.097725\n",
       "neighborhood_BrDale     32.638730\n",
       "neighborhood_BrkSide    34.014541\n",
       "neighborhood_ClearCr    41.459966\n",
       "neighborhood_CollgCr    37.028547\n",
       "neighborhood_Crawfor    41.827725\n",
       "neighborhood_Edwards    33.067825\n",
       "neighborhood_Gilbert    33.733948\n",
       "neighborhood_Greens     46.149175\n",
       "neighborhood_IDOTRR     30.498207\n",
       "neighborhood_MeadowV    29.019006\n",
       "neighborhood_Mitchel    35.681034\n",
       "neighborhood_NAmes      35.371348\n",
       "neighborhood_NPkVill    33.733573\n",
       "neighborhood_NWAmes     36.111030\n",
       "neighborhood_NoRidge    44.890354\n",
       "neighborhood_NridgHt    44.782983\n",
       "neighborhood_OldTown    32.518203\n",
       "neighborhood_SWISU      35.049075\n",
       "neighborhood_Sawyer     33.634161\n",
       "neighborhood_SawyerW    35.713554\n",
       "neighborhood_Somerst    39.331417\n",
       "neighborhood_StoneBr    46.670112\n",
       "neighborhood_Timber     39.623754\n",
       "neighborhood_Veenker    42.186072\n",
       "bldg_type_1Fam          39.407737\n",
       "bldg_type_2fmCon        39.187106\n",
       "bldg_type_Duplex        34.332493\n",
       "bldg_type_Twnhs         34.148879\n",
       "bldg_type_TwnhsE        37.215264\n",
       "house_style_1.5Fin      36.391776\n",
       "house_style_1.5Unf      36.329173\n",
       "house_style_1Story      36.459126\n",
       "house_style_2.5Fin      36.981514\n",
       "house_style_2.5Unf      41.335897\n",
       "house_style_2Story      34.476596\n",
       "house_style_SFoyer      37.528837\n",
       "house_style_SLvl        35.186622\n",
       "heating_qc_Ex           37.510244\n",
       "heating_qc_Fa           36.526231\n",
       "heating_qc_Gd           36.943272\n",
       "heating_qc_TA           36.185282\n",
       "central_air_N           34.731103\n",
       "central_air_Y           38.966595\n",
       "electrical_Fuse         36.864415\n",
       "electrical_Mix          35.804165\n",
       "electrical_Sbrkr        37.720345\n",
       "kitchen_qual_Ex         44.817336\n",
       "kitchen_qual_Fa         32.067209\n",
       "kitchen_qual_Gd         36.990733\n",
       "kitchen_qual_TA         34.452595\n",
       "functional_Maj          33.867795\n",
       "functional_Min          37.684275\n",
       "functional_Mod          36.316466\n",
       "functional_Typ          39.515857\n",
       "garage_qual_Fa          32.936790\n",
       "garage_qual_Gd          42.766677\n",
       "garage_qual_Po          35.804165\n",
       "garage_qual_TA          33.257765\n",
       "garage_cond_Ex          31.390341\n",
       "garage_cond_Fa          35.525117\n",
       "garage_cond_Gd          37.848454\n",
       "garage_cond_Po          37.224465\n",
       "garage_cond_TA          39.274508\n",
       "sale_type_COD           34.762523\n",
       "sale_type_CWD           37.218916\n",
       "sale_type_Con           43.869797\n",
       "sale_type_ConLD         36.776496\n",
       "sale_type_ConLI         33.208185\n",
       "sale_type_ConLw         35.556673\n",
       "sale_type_New           36.995193\n",
       "sale_type_Oth           36.978771\n",
       "sale_type_WD            36.599458\n",
       "dtype: float64"
      ]
     },
     "execution_count": 52,
     "metadata": {},
     "output_type": "execute_result"
    }
   ],
   "source": [
    "pd.Series(np.exp(lr.coef_-1)*100,index=X_train.columns)"
   ]
  },
  {
   "cell_type": "markdown",
   "metadata": {},
   "source": [
    "The second model has gotten worse.\n",
    "\n",
    "---\n",
    "\n",
    "# Feature Set 3"
   ]
  },
  {
   "cell_type": "code",
   "execution_count": 53,
   "metadata": {},
   "outputs": [],
   "source": [
    "features3 = ['ms_subclass',\n",
    "  'street',\n",
    "  'alley',\n",
    "  'neighborhood',\n",
    "  'bldg_type',\n",
    "  'house_style',\n",
    "  'overall_qual',\n",
    "  'overall_cond',\n",
    "  'year_built',\n",
    "  'bsmt_qual',\n",
    "  'bsmt_cond',\n",
    "  'heating_qc',\n",
    "  'central_air',\n",
    "  'electrical',\n",
    "  'full_bath',\n",
    "  'half_bath',\n",
    "  'bedroom_abvgr',\n",
    "  'kitchen_qual',\n",
    "  'totrms_abvgrd',\n",
    "  'functional',\n",
    "  'fireplaces',\n",
    "  'garage_cars',\n",
    "  'garage_qual',\n",
    "  'garage_cond',\n",
    "  'mo_sold',\n",
    "  'yr_sold',\n",
    "  'sale_type']"
   ]
  },
  {
   "cell_type": "code",
   "execution_count": 54,
   "metadata": {},
   "outputs": [
    {
     "data": {
      "text/plain": [
       "['street',\n",
       " 'alley',\n",
       " 'neighborhood',\n",
       " 'bldg_type',\n",
       " 'house_style',\n",
       " 'bsmt_qual',\n",
       " 'bsmt_cond',\n",
       " 'heating_qc',\n",
       " 'central_air',\n",
       " 'electrical',\n",
       " 'kitchen_qual',\n",
       " 'functional',\n",
       " 'garage_qual',\n",
       " 'garage_cond',\n",
       " 'sale_type']"
      ]
     },
     "execution_count": 54,
     "metadata": {},
     "output_type": "execute_result"
    }
   ],
   "source": [
    "# https://pandas.pydata.org/pandas-docs/stable/reference/api/pandas.DataFrame.select_dtypes.html\n",
    "dummies_columns = list(clean_train[features3].select_dtypes(include='object'))\n",
    "dummies_columns"
   ]
  },
  {
   "cell_type": "code",
   "execution_count": 55,
   "metadata": {},
   "outputs": [],
   "source": [
    "X_train = clean_train[features3]\n",
    "X_test = clean_test[features3]\n",
    "y_train = clean_train['saleprice']"
   ]
  },
  {
   "cell_type": "code",
   "execution_count": 56,
   "metadata": {},
   "outputs": [],
   "source": [
    "# Make dummies because we have categorical variables\n",
    "X_train = pd.get_dummies(data=X_train, columns=dummies_columns)\n",
    "X_test = pd.get_dummies(data=X_test, columns=dummies_columns)"
   ]
  },
  {
   "cell_type": "code",
   "execution_count": 57,
   "metadata": {},
   "outputs": [
    {
     "data": {
      "text/plain": [
       "LinearRegression()"
      ]
     },
     "execution_count": 57,
     "metadata": {},
     "output_type": "execute_result"
    }
   ],
   "source": [
    "X_train, X_validation, y_train, y_validation = \\\n",
    "                train_test_split(X_train, y_train, random_state=69)\n",
    "\n",
    "y_train_log = y_train.map(np.log)\n",
    "y_valid_log = y_validation.map(np.log)\n",
    "# Instatiate and fit the model\n",
    "lr = LinearRegression()\n",
    "lr.fit(X_train, y_train_log)"
   ]
  },
  {
   "cell_type": "code",
   "execution_count": 58,
   "metadata": {},
   "outputs": [
    {
     "data": {
      "text/plain": [
       "(0.8803199626662463, 0.8227166111856092)"
      ]
     },
     "execution_count": 58,
     "metadata": {},
     "output_type": "execute_result"
    }
   ],
   "source": [
    "lr.score(X_train,y_train_log), lr.score(X_validation ,y_valid_log)"
   ]
  },
  {
   "cell_type": "code",
   "execution_count": 59,
   "metadata": {},
   "outputs": [
    {
     "data": {
      "text/plain": [
       "array([11.85280371, 11.65089941, 12.07013655, 11.80814981, 11.48225451])"
      ]
     },
     "execution_count": 59,
     "metadata": {},
     "output_type": "execute_result"
    }
   ],
   "source": [
    "preds = lr.predict(X_validation)\n",
    "preds[:5]"
   ]
  },
  {
   "cell_type": "code",
   "execution_count": 60,
   "metadata": {},
   "outputs": [
    {
     "data": {
      "text/plain": [
       "SSE       5.630839e+11\n",
       "MSE       1.097629e+09\n",
       "RMSE      3.313049e+04\n",
       "MAE       2.135747e+04\n",
       "R2        8.269109e-01\n",
       "R2_adj    8.172750e-01\n",
       "dtype: float64"
      ]
     },
     "execution_count": 60,
     "metadata": {},
     "output_type": "execute_result"
    }
   ],
   "source": [
    "f3_metrics = pd.Series(big_metrics(np.exp(y_valid_log), np.exp(preds), features3),index=metric_names)\n",
    "f3_metrics"
   ]
  },
  {
   "cell_type": "code",
   "execution_count": 61,
   "metadata": {},
   "outputs": [
    {
     "data": {
      "text/plain": [
       "(33130.49181361535, 28743.13855801938, 27375.72404094178, 79239.33504161824)"
      ]
     },
     "execution_count": 61,
     "metadata": {},
     "output_type": "execute_result"
    }
   ],
   "source": [
    "f3_metrics[2], f2_metrics[2], f1_metrics[2], rmse_null "
   ]
  },
  {
   "cell_type": "code",
   "execution_count": 62,
   "metadata": {},
   "outputs": [
    {
     "data": {
      "text/plain": [
       "ms_subclass             2.539300e-04\n",
       "overall_qual            8.017974e-02\n",
       "overall_cond            4.405507e-02\n",
       "year_built              1.707899e-03\n",
       "full_bath               8.018858e-02\n",
       "half_bath               4.563396e-02\n",
       "bedroom_abvgr           1.353998e-02\n",
       "totrms_abvgrd           3.746105e-02\n",
       "fireplaces              6.250780e-02\n",
       "garage_cars             7.161518e-02\n",
       "mo_sold                -1.376919e-03\n",
       "yr_sold                -3.516148e-03\n",
       "street_Grvl             2.641620e+07\n",
       "street_Pave             2.641620e+07\n",
       "alley_Grvl              1.118328e-02\n",
       "alley_Pave              5.221639e-03\n",
       "neighborhood_Blmngtn   -7.081736e+07\n",
       "neighborhood_Blueste   -7.081736e+07\n",
       "neighborhood_BrDale    -7.081736e+07\n",
       "neighborhood_BrkSide   -7.081736e+07\n",
       "neighborhood_ClearCr   -7.081736e+07\n",
       "neighborhood_CollgCr   -7.081736e+07\n",
       "neighborhood_Crawfor   -7.081736e+07\n",
       "neighborhood_Edwards   -7.081736e+07\n",
       "neighborhood_Gilbert   -7.081736e+07\n",
       "neighborhood_Greens    -7.081736e+07\n",
       "neighborhood_IDOTRR    -7.081736e+07\n",
       "neighborhood_MeadowV   -7.081736e+07\n",
       "neighborhood_Mitchel   -7.081736e+07\n",
       "neighborhood_NAmes     -7.081736e+07\n",
       "neighborhood_NPkVill   -7.081736e+07\n",
       "neighborhood_NWAmes    -7.081736e+07\n",
       "neighborhood_NoRidge   -7.081736e+07\n",
       "neighborhood_NridgHt   -7.081736e+07\n",
       "neighborhood_OldTown   -7.081736e+07\n",
       "neighborhood_SWISU     -7.081736e+07\n",
       "neighborhood_Sawyer    -7.081736e+07\n",
       "neighborhood_SawyerW   -7.081736e+07\n",
       "neighborhood_Somerst   -7.081736e+07\n",
       "neighborhood_StoneBr   -7.081736e+07\n",
       "neighborhood_Timber    -7.081736e+07\n",
       "neighborhood_Veenker   -7.081736e+07\n",
       "bldg_type_1Fam         -4.190228e+09\n",
       "bldg_type_2fmCon       -4.190228e+09\n",
       "bldg_type_Duplex       -4.190228e+09\n",
       "bldg_type_Twnhs        -4.190228e+09\n",
       "bldg_type_TwnhsE       -4.190228e+09\n",
       "house_style_1.5Fin      4.393513e+08\n",
       "house_style_1.5Unf      4.393513e+08\n",
       "house_style_1Story      4.393513e+08\n",
       "house_style_2.5Fin      4.393513e+08\n",
       "house_style_2.5Unf      4.393513e+08\n",
       "house_style_2Story      4.393513e+08\n",
       "house_style_SFoyer      4.393513e+08\n",
       "house_style_SLvl        4.393513e+08\n",
       "bsmt_qual_Ex           -1.026911e+08\n",
       "bsmt_qual_Fa           -1.026911e+08\n",
       "bsmt_qual_Gd           -1.026911e+08\n",
       "bsmt_qual_Po           -1.026911e+08\n",
       "bsmt_qual_TA           -1.026911e+08\n",
       "bsmt_cond_Avg           1.026911e+08\n",
       "bsmt_cond_Gd            1.026911e+08\n",
       "heating_qc_Ex           1.189658e+08\n",
       "heating_qc_Fa           1.189658e+08\n",
       "heating_qc_Gd           1.189658e+08\n",
       "heating_qc_TA           1.189658e+08\n",
       "central_air_N           5.740043e+07\n",
       "central_air_Y           5.740043e+07\n",
       "electrical_Fuse         1.080375e+08\n",
       "electrical_Mix          1.080375e+08\n",
       "electrical_Sbrkr        1.080375e+08\n",
       "kitchen_qual_Ex         6.984753e+08\n",
       "kitchen_qual_Fa         6.984753e+08\n",
       "kitchen_qual_Gd         6.984753e+08\n",
       "kitchen_qual_TA         6.984753e+08\n",
       "functional_Maj         -3.099008e+08\n",
       "functional_Min         -3.099008e+08\n",
       "functional_Mod         -3.099008e+08\n",
       "functional_Typ         -3.099008e+08\n",
       "garage_qual_Fa         -1.631036e+08\n",
       "garage_qual_Gd         -1.631036e+08\n",
       "garage_qual_Po         -1.631036e+08\n",
       "garage_qual_TA         -1.631036e+08\n",
       "garage_cond_Ex          1.631036e+08\n",
       "garage_cond_Fa          1.631036e+08\n",
       "garage_cond_Gd          1.631036e+08\n",
       "garage_cond_Po          1.631036e+08\n",
       "garage_cond_TA          1.631036e+08\n",
       "sale_type_COD          -7.334390e+07\n",
       "sale_type_CWD          -7.334390e+07\n",
       "sale_type_Con          -7.334390e+07\n",
       "sale_type_ConLD        -7.334390e+07\n",
       "sale_type_ConLI        -7.334390e+07\n",
       "sale_type_ConLw        -7.334390e+07\n",
       "sale_type_New          -7.334390e+07\n",
       "sale_type_Oth          -7.334390e+07\n",
       "sale_type_WD           -7.334390e+07\n",
       "dtype: float64"
      ]
     },
     "execution_count": 62,
     "metadata": {},
     "output_type": "execute_result"
    }
   ],
   "source": [
    "pd.Series(lr.coef_,index=X_train.columns)"
   ]
  },
  {
   "cell_type": "code",
   "execution_count": 63,
   "metadata": {},
   "outputs": [
    {
     "name": "stderr",
     "output_type": "stream",
     "text": [
      "<ipython-input-63-e588cac10641>:1: RuntimeWarning: overflow encountered in exp\n",
      "  pd.Series(np.exp(lr.coef_-1)*100,index=X_train.columns)\n"
     ]
    },
    {
     "data": {
      "text/plain": [
       "ms_subclass             36.797287\n",
       "overall_qual            39.859068\n",
       "overall_cond            38.444870\n",
       "year_built              36.850828\n",
       "full_bath               39.859420\n",
       "half_bath               38.505618\n",
       "bedroom_abvgr           37.289440\n",
       "totrms_abvgrd           38.192197\n",
       "fireplaces              39.160868\n",
       "garage_cars             39.519150\n",
       "mo_sold                 36.737325\n",
       "yr_sold                 36.658819\n",
       "street_Grvl                   inf\n",
       "street_Pave                   inf\n",
       "alley_Grvl              37.201663\n",
       "alley_Pave              36.980540\n",
       "neighborhood_Blmngtn     0.000000\n",
       "neighborhood_Blueste     0.000000\n",
       "neighborhood_BrDale      0.000000\n",
       "neighborhood_BrkSide     0.000000\n",
       "neighborhood_ClearCr     0.000000\n",
       "neighborhood_CollgCr     0.000000\n",
       "neighborhood_Crawfor     0.000000\n",
       "neighborhood_Edwards     0.000000\n",
       "neighborhood_Gilbert     0.000000\n",
       "neighborhood_Greens      0.000000\n",
       "neighborhood_IDOTRR      0.000000\n",
       "neighborhood_MeadowV     0.000000\n",
       "neighborhood_Mitchel     0.000000\n",
       "neighborhood_NAmes       0.000000\n",
       "neighborhood_NPkVill     0.000000\n",
       "neighborhood_NWAmes      0.000000\n",
       "neighborhood_NoRidge     0.000000\n",
       "neighborhood_NridgHt     0.000000\n",
       "neighborhood_OldTown     0.000000\n",
       "neighborhood_SWISU       0.000000\n",
       "neighborhood_Sawyer      0.000000\n",
       "neighborhood_SawyerW     0.000000\n",
       "neighborhood_Somerst     0.000000\n",
       "neighborhood_StoneBr     0.000000\n",
       "neighborhood_Timber      0.000000\n",
       "neighborhood_Veenker     0.000000\n",
       "bldg_type_1Fam           0.000000\n",
       "bldg_type_2fmCon         0.000000\n",
       "bldg_type_Duplex         0.000000\n",
       "bldg_type_Twnhs          0.000000\n",
       "bldg_type_TwnhsE         0.000000\n",
       "house_style_1.5Fin            inf\n",
       "house_style_1.5Unf            inf\n",
       "house_style_1Story            inf\n",
       "house_style_2.5Fin            inf\n",
       "house_style_2.5Unf            inf\n",
       "house_style_2Story            inf\n",
       "house_style_SFoyer            inf\n",
       "house_style_SLvl              inf\n",
       "bsmt_qual_Ex             0.000000\n",
       "bsmt_qual_Fa             0.000000\n",
       "bsmt_qual_Gd             0.000000\n",
       "bsmt_qual_Po             0.000000\n",
       "bsmt_qual_TA             0.000000\n",
       "bsmt_cond_Avg                 inf\n",
       "bsmt_cond_Gd                  inf\n",
       "heating_qc_Ex                 inf\n",
       "heating_qc_Fa                 inf\n",
       "heating_qc_Gd                 inf\n",
       "heating_qc_TA                 inf\n",
       "central_air_N                 inf\n",
       "central_air_Y                 inf\n",
       "electrical_Fuse               inf\n",
       "electrical_Mix                inf\n",
       "electrical_Sbrkr              inf\n",
       "kitchen_qual_Ex               inf\n",
       "kitchen_qual_Fa               inf\n",
       "kitchen_qual_Gd               inf\n",
       "kitchen_qual_TA               inf\n",
       "functional_Maj           0.000000\n",
       "functional_Min           0.000000\n",
       "functional_Mod           0.000000\n",
       "functional_Typ           0.000000\n",
       "garage_qual_Fa           0.000000\n",
       "garage_qual_Gd           0.000000\n",
       "garage_qual_Po           0.000000\n",
       "garage_qual_TA           0.000000\n",
       "garage_cond_Ex                inf\n",
       "garage_cond_Fa                inf\n",
       "garage_cond_Gd                inf\n",
       "garage_cond_Po                inf\n",
       "garage_cond_TA                inf\n",
       "sale_type_COD            0.000000\n",
       "sale_type_CWD            0.000000\n",
       "sale_type_Con            0.000000\n",
       "sale_type_ConLD          0.000000\n",
       "sale_type_ConLI          0.000000\n",
       "sale_type_ConLw          0.000000\n",
       "sale_type_New            0.000000\n",
       "sale_type_Oth            0.000000\n",
       "sale_type_WD             0.000000\n",
       "dtype: float64"
      ]
     },
     "execution_count": 63,
     "metadata": {},
     "output_type": "execute_result"
    }
   ],
   "source": [
    "pd.Series(np.exp(lr.coef_-1)*100,index=X_train.columns)"
   ]
  },
  {
   "cell_type": "markdown",
   "metadata": {},
   "source": [
    "My third model is the better than the second but worse than the first.\n",
    "\n",
    "---"
   ]
  },
  {
   "cell_type": "markdown",
   "metadata": {},
   "source": [
    "# Feature Set 4"
   ]
  },
  {
   "cell_type": "code",
   "execution_count": 64,
   "metadata": {},
   "outputs": [],
   "source": [
    "features4 = ['ms_subclass',\n",
    "  'street',\n",
    "  'alley',\n",
    "  'neighborhood',\n",
    "  'bldg_type',\n",
    "  'house_style',\n",
    "  'overall_qual',\n",
    "  'overall_cond',\n",
    "  'year_built',\n",
    "  'year_remod/add',\n",
    "  'bsmt_qual',\n",
    "  'bsmt_cond',\n",
    "  'total_bsmt_sf',\n",
    "  'heating_qc',\n",
    "  'central_air',\n",
    "  'electrical',\n",
    "  '1st_flr_sf',\n",
    "  'gr_liv_area',\n",
    "  'full_bath',\n",
    "  'half_bath',\n",
    "  'bedroom_abvgr',\n",
    "  'kitchen_qual',\n",
    "  'totrms_abvgrd',\n",
    "  'functional',\n",
    "  'fireplaces',\n",
    "  'garage_yr_blt',\n",
    "  'garage_cars',\n",
    "  'garage_area',\n",
    "  'garage_qual',\n",
    "  'garage_cond',\n",
    "  'mo_sold',\n",
    "  'yr_sold',\n",
    "  'sale_type']"
   ]
  },
  {
   "cell_type": "code",
   "execution_count": 65,
   "metadata": {},
   "outputs": [
    {
     "data": {
      "text/plain": [
       "['street',\n",
       " 'alley',\n",
       " 'neighborhood',\n",
       " 'bldg_type',\n",
       " 'house_style',\n",
       " 'bsmt_qual',\n",
       " 'bsmt_cond',\n",
       " 'heating_qc',\n",
       " 'central_air',\n",
       " 'electrical',\n",
       " 'kitchen_qual',\n",
       " 'functional',\n",
       " 'garage_qual',\n",
       " 'garage_cond',\n",
       " 'sale_type']"
      ]
     },
     "execution_count": 65,
     "metadata": {},
     "output_type": "execute_result"
    }
   ],
   "source": [
    "# https://pandas.pydata.org/pandas-docs/stable/reference/api/pandas.DataFrame.select_dtypes.html\n",
    "dummies_columns = list(clean_train[features4].select_dtypes(include='object'))\n",
    "dummies_columns"
   ]
  },
  {
   "cell_type": "code",
   "execution_count": 66,
   "metadata": {},
   "outputs": [],
   "source": [
    "X_train = clean_train[features4]\n",
    "X_test = clean_test[features4]\n",
    "y_train = clean_train['saleprice']"
   ]
  },
  {
   "cell_type": "code",
   "execution_count": 67,
   "metadata": {},
   "outputs": [],
   "source": [
    "# Make dummies because we have categorical variables\n",
    "X_train = pd.get_dummies(data=X_train, columns=dummies_columns)\n",
    "X_test = pd.get_dummies(data=X_test, columns=dummies_columns)"
   ]
  },
  {
   "cell_type": "code",
   "execution_count": 68,
   "metadata": {},
   "outputs": [
    {
     "data": {
      "text/plain": [
       "LinearRegression()"
      ]
     },
     "execution_count": 68,
     "metadata": {},
     "output_type": "execute_result"
    }
   ],
   "source": [
    "X_train, X_validation, y_train, y_validation = \\\n",
    "                train_test_split(X_train, y_train, random_state=69)\n",
    "\n",
    "y_train_log = y_train.map(np.log)\n",
    "y_valid_log = y_validation.map(np.log)\n",
    "# Instatiate and fit the model\n",
    "lr = LinearRegression()\n",
    "lr.fit(X_train, y_train_log)"
   ]
  },
  {
   "cell_type": "code",
   "execution_count": 69,
   "metadata": {},
   "outputs": [
    {
     "data": {
      "text/plain": [
       "(0.89842194218709, 0.8389604201202638)"
      ]
     },
     "execution_count": 69,
     "metadata": {},
     "output_type": "execute_result"
    }
   ],
   "source": [
    "lr.score(X_train,y_train_log), lr.score(X_validation ,y_valid_log)"
   ]
  },
  {
   "cell_type": "code",
   "execution_count": 70,
   "metadata": {},
   "outputs": [
    {
     "data": {
      "text/plain": [
       "array([11.9851361 , 11.62562413, 12.06712433, 12.01603518, 11.48697277])"
      ]
     },
     "execution_count": 70,
     "metadata": {},
     "output_type": "execute_result"
    }
   ],
   "source": [
    "preds = lr.predict(X_validation)\n",
    "preds[:5]"
   ]
  },
  {
   "cell_type": "code",
   "execution_count": 71,
   "metadata": {},
   "outputs": [
    {
     "data": {
      "text/plain": [
       "SSE       8.825717e+11\n",
       "MSE       1.720413e+09\n",
       "RMSE      4.147786e+04\n",
       "MAE       1.866575e+04\n",
       "R2        7.287020e-01\n",
       "R2_adj    7.100114e-01\n",
       "dtype: float64"
      ]
     },
     "execution_count": 71,
     "metadata": {},
     "output_type": "execute_result"
    }
   ],
   "source": [
    "f4_metrics = pd.Series(big_metrics(np.exp(y_valid_log), np.exp(preds), features4),index=metric_names)\n",
    "f4_metrics"
   ]
  },
  {
   "cell_type": "code",
   "execution_count": 72,
   "metadata": {},
   "outputs": [
    {
     "data": {
      "text/plain": [
       "(41477.858180177944,\n",
       " 33130.49181361535,\n",
       " 28743.13855801938,\n",
       " 27375.72404094178,\n",
       " 79239.33504161824)"
      ]
     },
     "execution_count": 72,
     "metadata": {},
     "output_type": "execute_result"
    }
   ],
   "source": [
    "f4_metrics[2], f3_metrics[2], f2_metrics[2], f1_metrics[2], rmse_null "
   ]
  },
  {
   "cell_type": "code",
   "execution_count": 73,
   "metadata": {},
   "outputs": [
    {
     "data": {
      "text/plain": [
       "ms_subclass             0.000035\n",
       "overall_qual            0.062536\n",
       "overall_cond            0.046492\n",
       "year_built              0.002145\n",
       "year_remod/add          0.000563\n",
       "total_bsmt_sf           0.000062\n",
       "1st_flr_sf              0.000042\n",
       "gr_liv_area             0.000198\n",
       "full_bath               0.035720\n",
       "half_bath               0.023973\n",
       "bedroom_abvgr           0.003055\n",
       "totrms_abvgrd           0.003731\n",
       "fireplaces              0.033891\n",
       "garage_yr_blt          -0.000461\n",
       "garage_cars             0.057468\n",
       "garage_area            -0.000004\n",
       "mo_sold                -0.000411\n",
       "yr_sold                -0.004632\n",
       "street_Grvl            -0.053173\n",
       "street_Pave             0.053173\n",
       "alley_Grvl              0.021225\n",
       "alley_Pave             -0.007194\n",
       "neighborhood_Blmngtn   -0.001375\n",
       "neighborhood_Blueste   -0.033101\n",
       "neighborhood_BrDale    -0.082208\n",
       "neighborhood_BrkSide   -0.053993\n",
       "neighborhood_ClearCr    0.140095\n",
       "neighborhood_CollgCr    0.007801\n",
       "neighborhood_Crawfor    0.091478\n",
       "neighborhood_Edwards   -0.074492\n",
       "neighborhood_Gilbert   -0.020699\n",
       "neighborhood_Greens     0.091357\n",
       "neighborhood_IDOTRR    -0.141376\n",
       "neighborhood_MeadowV   -0.107310\n",
       "neighborhood_Mitchel    0.002436\n",
       "neighborhood_NAmes     -0.005735\n",
       "neighborhood_NPkVill   -0.034802\n",
       "neighborhood_NWAmes    -0.031493\n",
       "neighborhood_NoRidge    0.073786\n",
       "neighborhood_NridgHt    0.107395\n",
       "neighborhood_OldTown   -0.110827\n",
       "neighborhood_SWISU     -0.043313\n",
       "neighborhood_Sawyer    -0.024297\n",
       "neighborhood_SawyerW   -0.019102\n",
       "neighborhood_Somerst    0.054958\n",
       "neighborhood_StoneBr    0.141607\n",
       "neighborhood_Timber     0.039575\n",
       "neighborhood_Veenker    0.033631\n",
       "bldg_type_1Fam          0.058775\n",
       "bldg_type_2fmCon        0.087794\n",
       "bldg_type_Duplex       -0.054815\n",
       "bldg_type_Twnhs        -0.075970\n",
       "bldg_type_TwnhsE       -0.015783\n",
       "house_style_1.5Fin      0.018125\n",
       "house_style_1.5Unf     -0.030267\n",
       "house_style_1Story      0.011366\n",
       "house_style_2.5Fin     -0.062096\n",
       "house_style_2.5Unf      0.027793\n",
       "house_style_2Story     -0.019264\n",
       "house_style_SFoyer      0.053806\n",
       "house_style_SLvl        0.000537\n",
       "bsmt_qual_Ex            0.067837\n",
       "bsmt_qual_Fa           -0.074167\n",
       "bsmt_qual_Gd            0.021173\n",
       "bsmt_qual_Po            0.040863\n",
       "bsmt_qual_TA            0.001253\n",
       "bsmt_cond_Avg           0.015669\n",
       "bsmt_cond_Gd            0.041290\n",
       "heating_qc_Ex           0.014608\n",
       "heating_qc_Fa          -0.013217\n",
       "heating_qc_Gd           0.016793\n",
       "heating_qc_TA          -0.018184\n",
       "central_air_N          -0.040883\n",
       "central_air_Y           0.040883\n",
       "electrical_Fuse        -0.103395\n",
       "electrical_Mix          0.211224\n",
       "electrical_Sbrkr       -0.107829\n",
       "kitchen_qual_Ex         0.084864\n",
       "kitchen_qual_Fa        -0.049794\n",
       "kitchen_qual_Gd        -0.007099\n",
       "kitchen_qual_TA        -0.027971\n",
       "functional_Maj         -0.085819\n",
       "functional_Min          0.050684\n",
       "functional_Mod         -0.025935\n",
       "functional_Typ          0.061070\n",
       "garage_qual_Fa          0.008158\n",
       "garage_qual_Gd          0.114865\n",
       "garage_qual_Po         -0.363615\n",
       "garage_qual_TA          0.039595\n",
       "garage_cond_Ex          0.059923\n",
       "garage_cond_Fa         -0.170578\n",
       "garage_cond_Gd         -0.052214\n",
       "garage_cond_Po          0.000705\n",
       "garage_cond_TA         -0.038832\n",
       "sale_type_COD          -0.070094\n",
       "sale_type_CWD          -0.051405\n",
       "sale_type_Con           0.118809\n",
       "sale_type_ConLD        -0.001026\n",
       "sale_type_ConLI        -0.108315\n",
       "sale_type_ConLw         0.108000\n",
       "sale_type_New          -0.036930\n",
       "sale_type_Oth           0.066526\n",
       "sale_type_WD           -0.025567\n",
       "dtype: float64"
      ]
     },
     "execution_count": 73,
     "metadata": {},
     "output_type": "execute_result"
    }
   ],
   "source": [
    "pd.Series(lr.coef_,index=X_train.columns)"
   ]
  },
  {
   "cell_type": "code",
   "execution_count": 74,
   "metadata": {},
   "outputs": [
    {
     "data": {
      "text/plain": [
       "ms_subclass             36.789242\n",
       "overall_qual            39.161984\n",
       "overall_cond            38.538678\n",
       "year_built              36.866938\n",
       "year_remod/add          36.808648\n",
       "total_bsmt_sf           36.790229\n",
       "1st_flr_sf              36.789494\n",
       "gr_liv_area             36.795244\n",
       "full_bath               38.125777\n",
       "half_bath               37.680512\n",
       "bedroom_abvgr           36.900490\n",
       "totrms_abvgrd           36.925473\n",
       "fireplaces              38.056078\n",
       "garage_yr_blt           36.771001\n",
       "garage_cars             38.964009\n",
       "garage_area             36.787809\n",
       "mo_sold                 36.772832\n",
       "yr_sold                 36.617941\n",
       "street_Grvl             34.882909\n",
       "street_Pave             38.797018\n",
       "alley_Grvl              37.577121\n",
       "alley_Pave              36.524243\n",
       "neighborhood_Blmngtn    36.737411\n",
       "neighborhood_Blueste    35.590176\n",
       "neighborhood_BrDale     33.884663\n",
       "neighborhood_BrkSide    34.854322\n",
       "neighborhood_ClearCr    42.320246\n",
       "neighborhood_CollgCr    37.076036\n",
       "neighborhood_Crawfor    40.311967\n",
       "neighborhood_Edwards    34.147104\n",
       "neighborhood_Gilbert    36.034310\n",
       "neighborhood_Greens     40.307094\n",
       "neighborhood_IDOTRR     31.937925\n",
       "neighborhood_MeadowV    33.044679\n",
       "neighborhood_Mitchel    36.877685\n",
       "neighborhood_NAmes      36.577578\n",
       "neighborhood_NPkVill    35.529681\n",
       "neighborhood_NWAmes     35.647443\n",
       "neighborhood_NoRidge    39.605029\n",
       "neighborhood_NridgHt    40.958735\n",
       "neighborhood_OldTown    32.928656\n",
       "neighborhood_SWISU      35.228560\n",
       "neighborhood_Sawyer     35.904884\n",
       "neighborhood_SawyerW    36.091895\n",
       "neighborhood_Somerst    38.866330\n",
       "neighborhood_StoneBr    42.384255\n",
       "neighborhood_Timber     38.273033\n",
       "neighborhood_Veenker    38.046217\n",
       "bldg_type_1Fam          39.014962\n",
       "bldg_type_2fmCon        40.163716\n",
       "bldg_type_Duplex        34.825679\n",
       "bldg_type_Twnhs         34.096678\n",
       "bldg_type_TwnhsE        36.211862\n",
       "house_style_1.5Fin      37.460813\n",
       "house_style_1.5Unf      35.691170\n",
       "house_style_1Story      37.208448\n",
       "house_style_2.5Fin      34.573052\n",
       "house_style_2.5Unf      37.824718\n",
       "house_style_2Story      36.086044\n",
       "house_style_SFoyer      38.821584\n",
       "house_style_SLvl        36.807699\n",
       "bsmt_qual_Ex            39.370113\n",
       "bsmt_qual_Fa            34.158225\n",
       "bsmt_qual_Gd            37.575157\n",
       "bsmt_qual_Po            38.322354\n",
       "bsmt_qual_TA            36.834067\n",
       "bsmt_cond_Avg           37.368926\n",
       "bsmt_cond_Gd            38.338706\n",
       "heating_qc_Ex           37.329284\n",
       "heating_qc_Fa           36.304917\n",
       "heating_qc_Gd           37.410929\n",
       "heating_qc_TA           36.125052\n",
       "central_air_N           35.314262\n",
       "central_air_Y           38.323124\n",
       "electrical_Fuse         33.174293\n",
       "electrical_Mix          45.440072\n",
       "electrical_Sbrkr        33.027513\n",
       "kitchen_qual_Ex         40.046235\n",
       "kitchen_qual_Fa         35.000968\n",
       "kitchen_qual_Gd         36.527724\n",
       "kitchen_qual_TA         35.773194\n",
       "functional_Maj          33.762504\n",
       "functional_Min          38.700553\n",
       "functional_Mod          35.846126\n",
       "functional_Typ          39.104616\n",
       "garage_qual_Fa          37.089291\n",
       "garage_qual_Gd          41.265851\n",
       "garage_qual_Po          25.573470\n",
       "garage_qual_TA          38.273796\n",
       "garage_cond_Ex          39.059757\n",
       "garage_cond_Fa          31.018760\n",
       "garage_cond_Gd          34.916371\n",
       "garage_cond_Po          36.813895\n",
       "garage_cond_TA          35.386792\n",
       "sale_type_COD           34.297629\n",
       "sale_type_CWD           34.944651\n",
       "sale_type_Con           41.428935\n",
       "sale_type_ConLD         36.750228\n",
       "sale_type_ConLI         33.011461\n",
       "sale_type_ConLw         40.983544\n",
       "sale_type_New           35.454155\n",
       "sale_type_Oth           39.318557\n",
       "sale_type_WD            35.859322\n",
       "dtype: float64"
      ]
     },
     "execution_count": 74,
     "metadata": {},
     "output_type": "execute_result"
    }
   ],
   "source": [
    "pd.Series(np.exp(lr.coef_-1)*100,index=X_train.columns)"
   ]
  },
  {
   "cell_type": "markdown",
   "metadata": {},
   "source": [
    "The numbers continually got worse so I decided to do something different with an old set."
   ]
  },
  {
   "cell_type": "markdown",
   "metadata": {},
   "source": [
    "---\n",
    "\n",
    "# Features Set 2 But some numeric features are treated as categorical"
   ]
  },
  {
   "cell_type": "code",
   "execution_count": 75,
   "metadata": {},
   "outputs": [],
   "source": [
    "features2s = ['ms_subclass',\n",
    "\n",
    "  'neighborhood',\n",
    "  'bldg_type',\n",
    "  'house_style',\n",
    "  'overall_cond',\n",
    "  'year_built',\n",
    "\n",
    "  'heating_qc',\n",
    "  'central_air',\n",
    "  'electrical',\n",
    "  'full_bath',\n",
    "  'half_bath',\n",
    "  'bedroom_abvgr',\n",
    "  'kitchen_qual',\n",
    "  'totrms_abvgrd',\n",
    "  'functional',\n",
    "  'fireplaces',\n",
    "  'garage_cars',\n",
    "  'garage_qual',\n",
    "  'garage_cond',\n",
    "  'mo_sold',\n",
    "  'yr_sold',\n",
    "  'sale_type']"
   ]
  },
  {
   "cell_type": "code",
   "execution_count": 76,
   "metadata": {},
   "outputs": [],
   "source": [
    "dummy_columns2s = [\n",
    "                'neighborhood',\n",
    "                'bldg_type',\n",
    "                'house_style',\n",
    "                'overall_cond',\n",
    "                'heating_qc',\n",
    "                'central_air',\n",
    "                'electrical',\n",
    "                'kitchen_qual',\n",
    "                'functional',\n",
    "                'garage_qual',\n",
    "                'garage_cond',\n",
    "                'sale_type']"
   ]
  },
  {
   "cell_type": "code",
   "execution_count": 77,
   "metadata": {},
   "outputs": [],
   "source": [
    "X_train = clean_train[features2s]\n",
    "X_test = clean_test[features2s]\n",
    "y_train = clean_train['saleprice']"
   ]
  },
  {
   "cell_type": "code",
   "execution_count": 78,
   "metadata": {},
   "outputs": [],
   "source": [
    "# Make dummies\n",
    "X_train = pd.get_dummies(data=X_train, columns=dummy_columns2s)\n",
    "X_test = pd.get_dummies(data=X_test, columns=dummy_columns2s)"
   ]
  },
  {
   "cell_type": "code",
   "execution_count": 79,
   "metadata": {},
   "outputs": [
    {
     "data": {
      "text/plain": [
       "LinearRegression()"
      ]
     },
     "execution_count": 79,
     "metadata": {},
     "output_type": "execute_result"
    }
   ],
   "source": [
    "X_train, X_validation, y_train, y_validation = \\\n",
    "                train_test_split(X_train, y_train, random_state=69)\n",
    "\n",
    "y_train_log = y_train.map(np.log)\n",
    "y_valid_log = y_validation.map(np.log)\n",
    "# Instatiate and fit the model\n",
    "lr = LinearRegression()\n",
    "lr.fit(X_train, y_train_log)"
   ]
  },
  {
   "cell_type": "code",
   "execution_count": 80,
   "metadata": {},
   "outputs": [
    {
     "data": {
      "text/plain": [
       "(0.8579903517463012, 0.7850558247699848)"
      ]
     },
     "execution_count": 80,
     "metadata": {},
     "output_type": "execute_result"
    }
   ],
   "source": [
    "lr.score(X_train,y_train_log), lr.score(X_validation ,y_valid_log)"
   ]
  },
  {
   "cell_type": "code",
   "execution_count": 81,
   "metadata": {},
   "outputs": [
    {
     "data": {
      "text/plain": [
       "array([11.905755  , 11.64061438, 12.08620438, 11.94123568, 11.48846181])"
      ]
     },
     "execution_count": 81,
     "metadata": {},
     "output_type": "execute_result"
    }
   ],
   "source": [
    "preds = lr.predict(X_validation)\n",
    "preds[:5]"
   ]
  },
  {
   "cell_type": "code",
   "execution_count": 82,
   "metadata": {},
   "outputs": [
    {
     "data": {
      "text/plain": [
       "SSE       6.316134e+11\n",
       "MSE       1.231215e+09\n",
       "RMSE      3.508868e+04\n",
       "MAE       2.305905e+04\n",
       "R2        8.058453e-01\n",
       "R2_adj    7.971282e-01\n",
       "dtype: float64"
      ]
     },
     "execution_count": 82,
     "metadata": {},
     "output_type": "execute_result"
    }
   ],
   "source": [
    "f2s_metrics = pd.Series(big_metrics(np.exp(y_valid_log), np.exp(preds), features2s),index=metric_names)\n",
    "f2s_metrics"
   ]
  },
  {
   "cell_type": "code",
   "execution_count": 83,
   "metadata": {},
   "outputs": [
    {
     "data": {
      "text/plain": [
       "(35088.67742962722,\n",
       " 41477.858180177944,\n",
       " 33130.49181361535,\n",
       " 28743.13855801938,\n",
       " 27375.72404094178,\n",
       " 79239.33504161824)"
      ]
     },
     "execution_count": 83,
     "metadata": {},
     "output_type": "execute_result"
    }
   ],
   "source": [
    "f2s_metrics[2], f4_metrics[2], f3_metrics[2], f2_metrics[2], f1_metrics[2], rmse_null "
   ]
  },
  {
   "cell_type": "code",
   "execution_count": 84,
   "metadata": {},
   "outputs": [
    {
     "data": {
      "text/plain": [
       "ms_subclass             0.000093\n",
       "year_built              0.002693\n",
       "full_bath               0.093322\n",
       "half_bath               0.051114\n",
       "bedroom_abvgr           0.007849\n",
       "totrms_abvgrd           0.046110\n",
       "fireplaces              0.088209\n",
       "garage_cars             0.096771\n",
       "mo_sold                -0.000468\n",
       "yr_sold                -0.003472\n",
       "neighborhood_Blmngtn   -0.051582\n",
       "neighborhood_Blueste   -0.029679\n",
       "neighborhood_BrDale    -0.086740\n",
       "neighborhood_BrkSide   -0.072830\n",
       "neighborhood_ClearCr    0.144287\n",
       "neighborhood_CollgCr   -0.013748\n",
       "neighborhood_Crawfor    0.100140\n",
       "neighborhood_Edwards   -0.097809\n",
       "neighborhood_Gilbert   -0.110554\n",
       "neighborhood_Greens     0.238416\n",
       "neighborhood_IDOTRR    -0.173156\n",
       "neighborhood_MeadowV   -0.157891\n",
       "neighborhood_Mitchel   -0.036983\n",
       "neighborhood_NAmes     -0.036262\n",
       "neighborhood_NPkVill   -0.064421\n",
       "neighborhood_NWAmes    -0.035259\n",
       "neighborhood_NoRidge    0.150661\n",
       "neighborhood_NridgHt    0.151865\n",
       "neighborhood_OldTown   -0.115675\n",
       "neighborhood_SWISU     -0.006668\n",
       "neighborhood_Sawyer    -0.081380\n",
       "neighborhood_SawyerW   -0.054844\n",
       "neighborhood_Somerst    0.049574\n",
       "neighborhood_StoneBr    0.240952\n",
       "neighborhood_Timber     0.039883\n",
       "neighborhood_Veenker    0.109703\n",
       "bldg_type_1Fam          0.091151\n",
       "bldg_type_2fmCon        0.076911\n",
       "bldg_type_Duplex       -0.107141\n",
       "bldg_type_Twnhs        -0.074549\n",
       "bldg_type_TwnhsE        0.013628\n",
       "house_style_1.5Fin     -0.007419\n",
       "house_style_1.5Unf     -0.013551\n",
       "house_style_1Story     -0.006449\n",
       "house_style_2.5Fin      0.050641\n",
       "house_style_2.5Unf      0.060950\n",
       "house_style_2Story     -0.063500\n",
       "house_style_SFoyer      0.021050\n",
       "house_style_SLvl       -0.041722\n",
       "overall_cond_1         -0.204028\n",
       "overall_cond_2         -0.596469\n",
       "overall_cond_3         -0.177608\n",
       "overall_cond_4          0.034010\n",
       "overall_cond_5          0.118152\n",
       "overall_cond_6          0.136952\n",
       "overall_cond_7          0.173669\n",
       "overall_cond_8          0.221343\n",
       "overall_cond_9          0.293980\n",
       "heating_qc_Ex           0.018255\n",
       "heating_qc_Fa          -0.014081\n",
       "heating_qc_Gd           0.016184\n",
       "heating_qc_TA          -0.020359\n",
       "central_air_N          -0.060206\n",
       "central_air_Y           0.060206\n",
       "electrical_Fuse        -0.223013\n",
       "electrical_Mix          0.442568\n",
       "electrical_Sbrkr       -0.219556\n",
       "kitchen_qual_Ex         0.187067\n",
       "kitchen_qual_Fa        -0.099588\n",
       "kitchen_qual_Gd        -0.004776\n",
       "kitchen_qual_TA        -0.082703\n",
       "functional_Maj         -0.064063\n",
       "functional_Min          0.015178\n",
       "functional_Mod         -0.010340\n",
       "functional_Typ          0.059225\n",
       "garage_qual_Fa         -0.063134\n",
       "garage_qual_Gd          0.095669\n",
       "garage_qual_Po         -0.198099\n",
       "garage_qual_TA         -0.051601\n",
       "garage_cond_Ex         -0.016481\n",
       "garage_cond_Fa         -0.148897\n",
       "garage_cond_Gd          0.000248\n",
       "garage_cond_Po         -0.062420\n",
       "garage_cond_TA          0.010384\n",
       "sale_type_COD          -0.051007\n",
       "sale_type_CWD          -0.013598\n",
       "sale_type_Con           0.103317\n",
       "sale_type_ConLD         0.023849\n",
       "sale_type_ConLI        -0.079223\n",
       "sale_type_ConLw         0.086804\n",
       "sale_type_New          -0.011042\n",
       "sale_type_Oth          -0.043603\n",
       "sale_type_WD           -0.015497\n",
       "dtype: float64"
      ]
     },
     "execution_count": 84,
     "metadata": {},
     "output_type": "execute_result"
    }
   ],
   "source": [
    "pd.Series(lr.coef_,index=X_train.columns)"
   ]
  },
  {
   "cell_type": "code",
   "execution_count": 85,
   "metadata": {},
   "outputs": [
    {
     "data": {
      "text/plain": [
       "ms_subclass             36.791358\n",
       "year_built              36.887154\n",
       "full_bath               40.386350\n",
       "half_bath               38.717198\n",
       "bedroom_abvgr           37.077827\n",
       "totrms_abvgrd           38.523968\n",
       "fireplaces              40.180393\n",
       "garage_cars             40.525880\n",
       "mo_sold                 36.770724\n",
       "yr_sold                 36.660428\n",
       "neighborhood_Blmngtn    34.938443\n",
       "neighborhood_Blueste    35.712170\n",
       "neighborhood_BrDale     33.731450\n",
       "neighborhood_BrkSide    34.203928\n",
       "neighborhood_ClearCr    42.498024\n",
       "neighborhood_CollgCr    36.285631\n",
       "neighborhood_Crawfor    40.662667\n",
       "neighborhood_Edwards    33.360122\n",
       "neighborhood_Gilbert    32.937633\n",
       "neighborhood_Greens     46.692636\n",
       "neighborhood_IDOTRR     30.938906\n",
       "neighborhood_MeadowV    31.414816\n",
       "neighborhood_Mitchel    35.452275\n",
       "neighborhood_NAmes      35.477821\n",
       "neighborhood_NPkVill    34.492759\n",
       "neighborhood_NWAmes     35.513423\n",
       "neighborhood_NoRidge    42.769759\n",
       "neighborhood_NridgHt    42.821265\n",
       "neighborhood_OldTown    32.769414\n",
       "neighborhood_SWISU      36.543451\n",
       "neighborhood_Sawyer     33.912727\n",
       "neighborhood_SawyerW    34.824672\n",
       "neighborhood_Somerst    38.657612\n",
       "neighborhood_StoneBr    46.811177\n",
       "neighborhood_Timber     38.284798\n",
       "neighborhood_Veenker    41.053369\n",
       "bldg_type_1Fam          40.298795\n",
       "bldg_type_2fmCon        39.728972\n",
       "bldg_type_Duplex        33.050260\n",
       "bldg_type_Twnhs         34.145161\n",
       "bldg_type_TwnhsE        37.292727\n",
       "house_style_1.5Fin      36.516010\n",
       "house_style_1.5Unf      36.292806\n",
       "house_style_1Story      36.551468\n",
       "house_style_2.5Fin      38.698906\n",
       "house_style_2.5Unf      39.099894\n",
       "house_style_2Story      34.524542\n",
       "house_style_SFoyer      37.570554\n",
       "house_style_SLvl        35.284639\n",
       "overall_cond_1          29.998350\n",
       "overall_cond_2          20.261062\n",
       "overall_cond_3          30.801448\n",
       "overall_cond_4          38.060614\n",
       "overall_cond_5          41.401717\n",
       "overall_cond_6          42.187424\n",
       "overall_cond_7          43.765191\n",
       "overall_cond_8          45.902191\n",
       "overall_cond_9          49.360502\n",
       "heating_qc_Ex           37.465694\n",
       "heating_qc_Fa           36.273567\n",
       "heating_qc_Gd           37.388178\n",
       "heating_qc_TA           36.046552\n",
       "central_air_N           34.638449\n",
       "central_air_Y           39.070827\n",
       "electrical_Fuse         29.434209\n",
       "electrical_Mix          57.267794\n",
       "electrical_Sbrkr        29.536140\n",
       "kitchen_qual_Ex         44.355519\n",
       "kitchen_qual_Fa         33.300822\n",
       "kitchen_qual_Gd         36.612664\n",
       "kitchen_qual_TA         33.867888\n",
       "functional_Maj          34.505093\n",
       "functional_Min          37.350569\n",
       "functional_Mod          36.409532\n",
       "functional_Typ          39.032517\n",
       "garage_qual_Fa          34.537173\n",
       "garage_qual_Gd          40.481269\n",
       "garage_qual_Po          30.176726\n",
       "garage_qual_TA          34.937786\n",
       "garage_cond_Ex          36.186618\n",
       "garage_cond_Fa          31.698631\n",
       "garage_cond_Gd          36.797056\n",
       "garage_cond_Po          34.561851\n",
       "garage_cond_TA          37.171950\n",
       "sale_type_COD           34.958568\n",
       "sale_type_CWD           36.291091\n",
       "sale_type_Con           40.792055\n",
       "sale_type_ConLD         37.675838\n",
       "sale_type_ConLI         33.985950\n",
       "sale_type_ConLw         40.123974\n",
       "sale_type_New           36.383949\n",
       "sale_type_Oth           35.218361\n",
       "sale_type_WD            36.222231\n",
       "dtype: float64"
      ]
     },
     "execution_count": 85,
     "metadata": {},
     "output_type": "execute_result"
    }
   ],
   "source": [
    "pd.Series(np.exp(lr.coef_-1)*100,index=X_train.columns)"
   ]
  },
  {
   "cell_type": "markdown",
   "metadata": {},
   "source": [
    "It wasn't that far from the original set 2 model results."
   ]
  },
  {
   "cell_type": "markdown",
   "metadata": {},
   "source": [
    "I wasn't satisfied with these numbers so I decided to do the same thing but on the logged `saleprice`.\n",
    "\n",
    "---\n",
    "\n"
   ]
  },
  {
   "cell_type": "markdown",
   "metadata": {},
   "source": []
  },
  {
   "cell_type": "code",
   "execution_count": null,
   "metadata": {},
   "outputs": [],
   "source": []
  }
 ],
 "metadata": {
  "kernelspec": {
   "display_name": "Python [conda env:dsi]",
   "language": "python",
   "name": "conda-env-dsi-py"
  },
  "language_info": {
   "codemirror_mode": {
    "name": "ipython",
    "version": 3
   },
   "file_extension": ".py",
   "mimetype": "text/x-python",
   "name": "python",
   "nbconvert_exporter": "python",
   "pygments_lexer": "ipython3",
   "version": "3.8.3"
  }
 },
 "nbformat": 4,
 "nbformat_minor": 4
}
